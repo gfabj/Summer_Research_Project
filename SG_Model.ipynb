{
 "cells": [
  {
   "cell_type": "code",
   "execution_count": 1,
   "metadata": {
    "collapsed": false
   },
   "outputs": [],
   "source": [
    "#Import all the necessary modules\n",
    "\n",
    "import numpy as np\n",
    "import matplotlib.pyplot as plt\n",
    "import pandas as pd\n",
    "import astropy\n",
    "%matplotlib inline\n",
    "import pylab\n",
    "import scipy.interpolate as sp\n",
    "from numpy import pi\n",
    "from numpy import array"
   ]
  },
  {
   "cell_type": "code",
   "execution_count": 2,
   "metadata": {
    "collapsed": false,
    "scrolled": true
   },
   "outputs": [],
   "source": [
    "# Import text file (modified version with no commas), to get radius a and h/a data\n",
    "text_file1 = np.loadtxt('hoverr.txt', dtype = 'float')"
   ]
  },
  {
   "cell_type": "markdown",
   "metadata": {},
   "source": [
    "# h vs. a"
   ]
  },
  {
   "cell_type": "code",
   "execution_count": 3,
   "metadata": {
    "collapsed": false
   },
   "outputs": [],
   "source": [
    "# Correction of data which are originally log and calculation of height : h/a * a \n",
    "\n",
    "a = text_file1[:,0]\n",
    "ratio = text_file1[:,1]\n",
    "ratio1 = 10**ratio\n",
    "a1 = 10**a\n",
    "height = (ratio1*a1)*2\n",
    "a1_in_rg = a1*2\n",
    "\n",
    "h_=np.zeros((38,2))\n",
    "h_[:,0]= a1_in_rg\n",
    "h_[:,1] = height\n"
   ]
  },
  {
   "cell_type": "markdown",
   "metadata": {},
   "source": [
    "# h/a vs. a"
   ]
  },
  {
   "cell_type": "code",
   "execution_count": 9,
   "metadata": {
    "collapsed": false,
    "scrolled": true
   },
   "outputs": [],
   "source": [
    "#logPlot = plt.gca()\n",
    "#plt.plot = (a,ratio)\n",
    "a = text_file1[:,0]\n",
    "ratio = text_file1[:,1]\n",
    "#plt.plot(a1,ratio1) # Sets each column as the x and y coordinates, and creates and shows a plot.\n",
    "#plt.xlabel('log a [Rs]',fontsize=20)\n",
    "#plt.ylabel('log h/a',fontsize=18)\n",
    "#plt.savefig('hovera1.png', dpi=300, bbox_inches='tight')"
   ]
  },
  {
   "cell_type": "markdown",
   "metadata": {},
   "source": [
    "# h vs a adjusted"
   ]
  },
  {
   "cell_type": "code",
   "execution_count": 20,
   "metadata": {
    "collapsed": false
   },
   "outputs": [],
   "source": [
    "# Convert distance from Rs to meters to Rg\n",
    "\n",
    "c = 6.67e-11*2*1.99e30*10**8 #constant 2*G*M_sun*R\n",
    "\n",
    "distance_in_meters = a1*(2*c)\n",
    "speed_of_light_squared=(3e8)**2\n",
    "distance = (distance_in_meters/speed_of_light_squared)\n",
    "\n",
    "distance_in_rg = distance/(1.5*10**11)\n",
    "velocity = (c/distance)**(1/2.0)*10**(-3) # Speed of gass = speed of star found\n"
   ]
  },
  {
   "cell_type": "code",
   "execution_count": 11,
   "metadata": {
    "collapsed": false,
    "scrolled": true
   },
   "outputs": [
    {
     "data": {
      "image/png": "[encoded data removed]",
      "text/plain": [
       "<matplotlib.figure.Figure at 0x1134df190>"
      ]
     },
     "metadata": {},
     "output_type": "display_data"
    }
   ],
   "source": [
    "logPlot = plt.gca()\n",
    "logPlot.loglog(distance_in_rg,height)\n",
    "plt.xlabel('a [$R_g$]',fontsize=18)\n",
    "plt.ylabel('height [$R_g$]',fontsize=18)\n",
    "#plt.plot([2.55675200e+00,  4.50238131e+01], [ 5.97419825e-01,1.63274396e+00], c='r')\n",
    "#plt.plot([4.50238131e+01,1.14109211e+02], [1.63274396e+00,4.09214110e+00], c='y')\n",
    "#plt.plot([1.14109211e+02,3.69555994e+02], [4.09214110e+00, 3.73721635e+00 ], c='g')\n",
    "#plt.plot([3.69555994e+02,9.16892670e+02],[4.09214110e+00,6.98714721e+00], color='orange')\n",
    "#plt.plot([9.16892670e+02,8.32494014e+06],[6.98714721e+00, 6.01085228e+06], c='b' )\n",
    "plt.savefig('hovera.png', dpi=300, bbox_inches='tight')"
   ]
  },
  {
   "cell_type": "code",
   "execution_count": 12,
   "metadata": {
    "collapsed": false
   },
   "outputs": [
    {
     "data": {
      "text/plain": [
       "[<matplotlib.lines.Line2D at 0x113524f10>]"
      ]
     },
     "execution_count": 12,
     "metadata": {},
     "output_type": "execute_result"
    },
    {
     "data": {
      "image/png": "[encoded data removed]",
      "text/plain": [
       "<matplotlib.figure.Figure at 0x1133aa790>"
      ]
     },
     "metadata": {},
     "output_type": "display_data"
    }
   ],
   "source": [
    "# Height interpolation graph using straight lines \n",
    "\n",
    "logPlot = plt.gca()\n",
    "logPlot.loglog([2.55675200e+00,  4.50238131e+01], [ 5.97419825e-01,1.63274396e+00], c='r')\n",
    "logPlot.loglog([4.50238131e+01,1.14109211e+02], [1.63274396e+00,4.09214110e+00], c='y')\n",
    "logPlot.loglog([1.14109211e+02,3.69555994e+02], [4.09214110e+00, 3.73721635e+00 ], c='g')\n",
    "logPlot.loglog([3.69555994e+02,9.16892670e+02],[4.09214110e+00,6.98714721e+00], color='orange')\n",
    "logPlot.loglog([9.16892670e+02,8.32494014e+06],[6.98714721e+00, 6.01085228e+06], c='b')"
   ]
  },
  {
   "cell_type": "markdown",
   "metadata": {},
   "source": [
    "# Surf.density vs a"
   ]
  },
  {
   "cell_type": "code",
   "execution_count": 15,
   "metadata": {
    "collapsed": false,
    "scrolled": false
   },
   "outputs": [],
   "source": [
    "# Import text file (modified version with no commas), to get surface density (Sigma) and a data\n",
    "text_file2 = np.loadtxt('SurfaceDensity.txt', dtype = 'float')\n",
    "a2 = text_file2[:,0]\n",
    "surface_density = text_file2[:,1]"
   ]
  },
  {
   "cell_type": "code",
   "execution_count": 16,
   "metadata": {
    "collapsed": false
   },
   "outputs": [],
   "source": [
    "# Correction of data (Originally Log)\n",
    "\n",
    "unlog_sd = 10**text_file2[:,1]\n",
    "unlog_a2 = (10**a2)*2"
   ]
  },
  {
   "cell_type": "code",
   "execution_count": 17,
   "metadata": {
    "collapsed": false
   },
   "outputs": [],
   "source": [
    "# First interpolation of height attempt\n",
    "\n",
    "def m(x1,x2,y1,y2):\n",
    "    slope=(y2-y1)/(x2-x1)\n",
    "    return slope\n",
    "def b(x1,x2,y1,y2):\n",
    "    yint=y1-(m(x1,x2,y1,y2)*x1)\n",
    "    return yint"
   ]
  },
  {
   "cell_type": "code",
   "execution_count": 18,
   "metadata": {
    "collapsed": false
   },
   "outputs": [
    {
     "data": {
      "image/png": "[encoded data removed]",
      "text/plain": [
       "<matplotlib.figure.Figure at 0x113e14bd0>"
      ]
     },
     "metadata": {},
     "output_type": "display_data"
    }
   ],
   "source": [
    "logPlot=plt.gca()\n",
    "logPlot.loglog(a1_in_rg,height)\n",
    "logPlot.set_xlabel('a/rg') \n",
    "logPlot.set_ylabel('h')\n",
    "for i in range(len(h_)-1):\n",
    "    j=i+1\n",
    "    rad = np.arange(h_[i,0],h_[j,0],h_[j,0]/h_[i,0])\n",
    "    h_p= (m(h_[i,0],h_[j,0],h_[i,1],h_[j,1])*rad)+b(h_[i,0],h_[j,0],h_[i,1],h_[j,1])\n",
    "\n",
    "    logPlot=plt.gca()\n",
    "    logPlot.loglog(rad,h_p)\n",
    "    "
   ]
  },
  {
   "cell_type": "code",
   "execution_count": 22,
   "metadata": {
    "collapsed": false
   },
   "outputs": [
    {
     "data": {
      "text/plain": [
       "<matplotlib.text.Text at 0x113370b50>"
      ]
     },
     "execution_count": 22,
     "metadata": {},
     "output_type": "execute_result"
    },
    {
     "data": {
      "image/png": "[encoded data removed]",
      "text/plain": [
       "<matplotlib.figure.Figure at 0x1133fd990>"
      ]
     },
     "metadata": {},
     "output_type": "display_data"
    }
   ],
   "source": [
    "#Plotting Sigma\n",
    "\n",
    "logPlot=plt.gca()\n",
    "logPlot.loglog(unlog_a2,unlog_sd)\n",
    "plt.xlabel('a [$R_s$]',fontsize=18)\n",
    "plt.ylabel('Sigma [g/$cm^2$]',fontsize=18)"
   ]
  },
  {
   "cell_type": "markdown",
   "metadata": {},
   "source": [
    "# This is velocity vs. distance"
   ]
  },
  {
   "cell_type": "code",
   "execution_count": 14,
   "metadata": {
    "collapsed": false
   },
   "outputs": [
    {
     "data": {
      "image/png": "[encoded data removed]",
      "text/plain": [
       "<matplotlib.figure.Figure at 0x137c57a10>"
      ]
     },
     "metadata": {},
     "output_type": "display_data"
    }
   ],
   "source": [
    "logPlot=plt.gca()\n",
    "logPlot.loglog(distance_in_rg,velocity)\n",
    "plt.xlabel('a [$R_g$]',fontsize=18)\n",
    "plt.ylabel('v [km/s]',fontsize=18)\n",
    "plt.savefig('velocity.png', dpi=300, bbox_inches='tight')"
   ]
  },
  {
   "cell_type": "markdown",
   "metadata": {},
   "source": [
    "# T Orbit vs. Distance"
   ]
  },
  {
   "cell_type": "code",
   "execution_count": 24,
   "metadata": {
    "collapsed": false
   },
   "outputs": [],
   "source": [
    "T_Orb = (2*np.pi*distance_in_rg*1.5*10**8)/velocity #Orbital time calculation: 2piR/v"
   ]
  },
  {
   "cell_type": "code",
   "execution_count": 30,
   "metadata": {
    "collapsed": false
   },
   "outputs": [
    {
     "name": "stdout",
     "output_type": "stream",
     "text": [
      "[  7.14336614e+04   1.13690707e+05   1.64853070e+05   2.31734595e+05\n",
      "   3.57447648e+05   6.04881166e+05   9.92419501e+05   1.53052509e+06\n",
      "   2.08542669e+06   2.93128603e+06   3.75472775e+06   5.27877819e+06\n",
      "   6.97750247e+06   9.51426805e+06   1.25781965e+07   1.61172686e+07\n",
      "   2.12986001e+07   2.90225853e+07   3.60381786e+07   4.75968209e+07\n",
      "   6.89747653e+07   9.39621653e+07   1.24133894e+08   1.54167747e+08\n",
      "   2.16737073e+08   2.86428179e+08   3.90473708e+08   4.85118409e+08\n",
      "   6.82496933e+08   1.05387320e+09   3.32263831e+09   1.88914047e+10\n",
      "   1.17886713e+11   5.56386557e+11   2.11316354e+12   2.16651929e+13\n",
      "   1.39462256e+14   4.19702622e+14]\n"
     ]
    },
    {
     "data": {
      "image/png": "[encoded data removed]",
      "text/plain": [
       "<matplotlib.figure.Figure at 0x13af29ad0>"
      ]
     },
     "metadata": {},
     "output_type": "display_data"
    }
   ],
   "source": [
    "logPlot=plt.gca()\n",
    "logPlot.loglog(distance_in_rg,T_Orb)\n",
    "plt.xlabel('a [$R_g$]',fontsize=20)\n",
    "plt.ylabel('t orbit [s] ',fontsize=20)\n",
    "\n",
    "print T_Orb"
   ]
  },
  {
   "cell_type": "markdown",
   "metadata": {},
   "source": [
    "# Time in disk vs Distance"
   ]
  },
  {
   "cell_type": "code",
   "execution_count": 31,
   "metadata": {
    "collapsed": false
   },
   "outputs": [],
   "source": [
    "t_in_disk = (ratio1*T_Orb)/2*np.pi # >>> (h/a)*orbital time/2pi"
   ]
  },
  {
   "cell_type": "code",
   "execution_count": 32,
   "metadata": {
    "collapsed": false
   },
   "outputs": [
    {
     "data": {
      "text/plain": [
       "<matplotlib.text.Text at 0x10f9709d0>"
      ]
     },
     "execution_count": 32,
     "metadata": {},
     "output_type": "execute_result"
    },
    {
     "data": {
      "image/png": "[encoded data removed]",
      "text/plain": [
       "<matplotlib.figure.Figure at 0x114a7b6d0>"
      ]
     },
     "metadata": {},
     "output_type": "display_data"
    }
   ],
   "source": [
    "logPlot=plt.gca()\n",
    "logPlot.loglog(distance_in_rg,t_in_disk)\n",
    "plt.xlabel('$a [R_g$]',fontsize=20)\n",
    "plt.ylabel('t in disk',fontsize=20)"
   ]
  },
  {
   "cell_type": "code",
   "execution_count": 33,
   "metadata": {
    "collapsed": false
   },
   "outputs": [
    {
     "name": "stdout",
     "output_type": "stream",
     "text": [
      "[ 0.36703789  0.33751006  0.29766089  0.25979054  0.21744196  0.16392309\n",
      "  0.12618981  0.10024042  0.08303282  0.07096934  0.06259404  0.05696337\n",
      "  0.05695536  0.05876077  0.0619053   0.06061679  0.0563313   0.04764719\n",
      "  0.04115529  0.03235474  0.02388846  0.0185846   0.01588502  0.01445699\n",
      "  0.01301968  0.01229044  0.011847    0.0119702   0.01335671  0.01537795\n",
      "  0.02262756  0.04059883  0.07437884  0.12534996  0.19534144  0.41634738\n",
      "  0.77887107  1.13416127]\n"
     ]
    }
   ],
   "source": [
    "#Find ratio of time in disk and orbital period\n",
    "t_over_T = t_in_disk/T_Orb \n",
    "print t_over_T"
   ]
  },
  {
   "cell_type": "code",
   "execution_count": 34,
   "metadata": {
    "collapsed": false
   },
   "outputs": [
    {
     "data": {
      "text/plain": [
       "<matplotlib.text.Text at 0x10fbc0390>"
      ]
     },
     "execution_count": 34,
     "metadata": {},
     "output_type": "execute_result"
    },
    {
     "data": {
      "image/png": "[encoded data removed]",
      "text/plain": [
       "<matplotlib.figure.Figure at 0x10fb81950>"
      ]
     },
     "metadata": {},
     "output_type": "display_data"
    }
   ],
   "source": [
    "# Plot ratio of time in disk and orbital period\n",
    "\n",
    "logPlot=plt.gca()\n",
    "logPlot.loglog(distance_in_rg,t_over_T)\n",
    "plt.xlabel('a [Rg]',fontsize=20)\n",
    "plt.ylabel('t in disk/t Orb',fontsize=20)"
   ]
  },
  {
   "cell_type": "code",
   "execution_count": 35,
   "metadata": {
    "collapsed": true
   },
   "outputs": [],
   "source": [
    "# Get a funcion to find the slope given two points\n",
    "\n",
    "def slope(dx, dy):\n",
    "    return (dy / dx) if dx else None\n",
    "\n",
    "class Point:\n",
    "    def __init__(self, x, y):\n",
    "        self.x = x\n",
    "        self.y = y\n",
    "\n",
    "    def __str__(self):\n",
    "        return '({}, {})'.format(self.x, self.y)\n",
    "\n",
    "    def __repr__(self):\n",
    "        return 'Point({}, {})'.format(self.x, self.y)\n",
    "\n",
    "    def halfway(self, target):\n",
    "        midx = (self.x + target.x) / 2\n",
    "        midy = (self.y + target.y) / 2\n",
    "        return Point(midx, midy)\n",
    "\n",
    "    def distance(self, target):\n",
    "        dx = target.x - self.x\n",
    "        dy = target.y - self.y\n",
    "        return (dx*dx + dy*dy) ** 0.5\n",
    "\n",
    "    def reflect_x(self):\n",
    "        return Point(-self.x,self.y)\n",
    "\n",
    "    def reflect_y(self):\n",
    "        return Point(self.x,-self.y)\n",
    "\n",
    "    def reflect_x_y(self):\n",
    "        return Point(-self.x, -self.y)\n",
    "\n",
    "    def slope_from_origin(self):\n",
    "        return slope(self.x, self.y)\n",
    "\n",
    "    def slope(self, target):\n",
    "        return slope(target.x - self.x, target.y - self.y)\n",
    "\n",
    "    def y_int(self, target):       # <= here's the magic\n",
    "        return self.y - self.slope(target)*self.x\n",
    "\n",
    "    def line_equation(self, target):\n",
    "        slope = self.slope(target)\n",
    "\n",
    "        y_int = self.y_int(target)\n",
    "        if y_int < 0:\n",
    "            y_int = -y_int\n",
    "            sign = '-'\n",
    "        else:\n",
    "            sign = '+'\n",
    "\n",
    "        return '{}x {} {}'.format(slope, sign, y_int)\n",
    "\n",
    "    def line_function(self, target):\n",
    "        slope = self.slope(target)\n",
    "        y_int = self.y_int(target)\n",
    "        def fn(x):\n",
    "            return slope*x + y_int\n",
    "        return fn"
   ]
  },
  {
   "cell_type": "code",
   "execution_count": 36,
   "metadata": {
    "collapsed": false
   },
   "outputs": [],
   "source": [
    "# Proper height interpolation\n",
    "\n",
    "d_rg = np.array(distance_in_rg)\n",
    "d_rg1 = d_rg[:36]\n",
    "h_a2 = ratio1[:36]\n",
    "h_=np.zeros((38,2))\n",
    "h_[:,0]=d_rg\n",
    "h_[:,1]=height\n",
    "\n",
    "def hint(a):\n",
    "    for i in range(len(d_rg)-1):\n",
    "        j=i+1\n",
    "        c = Point(d_rg[i],height[i])\n",
    "        d = Point(d_rg[j],height[j])\n",
    "        c_36 = Point(d_rg[36],height[36])\n",
    "        d_37 = Point(d_rg[37],height[37])\n",
    "        if ((a>=d_rg[i]) and (a<d_rg[j])):\n",
    "            return (slope(d_rg[j]-d_rg[i],height[j]-height[i])*a)+(Point.y_int(c,d))\n",
    "        elif ((a==d_rg[37])):\n",
    "            return height[37]\n",
    "        elif ((a>d_rg[37]) and (a<=unlog_a2[29])):\n",
    "            return (slope(harg[37]-d_rg[36],height[37]-height[36])*a)+(Point.y_int(c_36,d_37))\n",
    "    else:\n",
    "        return a*0"
   ]
  },
  {
   "cell_type": "code",
   "execution_count": 37,
   "metadata": {
    "collapsed": false
   },
   "outputs": [],
   "source": [
    "#Proper surface density interpolation\n",
    "# IMPORTANT: INTERPOLATION IS IMPORTANT BECAUSE THE TWO ARRAYS OF H/A AND SIGMA HAVE DIFFERNET SIZES. \n",
    "# WITH THIS INTERPOLATION TO ANY RADIUS YOU CAN GET A PROPER SIGMA OR H VALUE \n",
    "\n",
    "sden_=np.zeros((30,2))\n",
    "sden_[:,0]=unlog_a2\n",
    "sden_[:,1]=unlog_sd\n",
    "\n",
    "def S_int(a):    \n",
    "    for i in range(len(unlog_a2)-1):\n",
    "        j=i+1\n",
    "        c = Point(unlog_a2[i],unlog_sd[i])\n",
    "        d = Point(unlog_a2[j],unlog_sd[j])\n",
    "        c_0 = Point(unlog_a2[0],unlog_sd[0])\n",
    "        d_1 = Point(unlog_a2[1],unlog_sd[1])\n",
    "        if ((a>=d_rg[0]) and (a<unlog_a2[0])):\n",
    "            return (slope(unlog_a2[1]-unlog_a2[0],unlog_sd[1]-unlog_sd[0])*a)+(Point.y_int(c_0,d_1))\n",
    "        elif ((a>=unlog_a2[i]) and (a<unlog_a2[j])):\n",
    "            return (slope(unlog_a2[j]-unlog_a2[i],unlog_sd[j]-unlog_sd[i])*a)+(Point.y_int(c,d))\n",
    "        elif ((a==unlog_a2[29])):\n",
    "            return unlog_sd[29]\n",
    "    else:\n",
    "        return a*0"
   ]
  },
  {
   "cell_type": "code",
   "execution_count": 38,
   "metadata": {
    "collapsed": false
   },
   "outputs": [],
   "source": [
    "#creating a list of values for interpolated Sigma sden\n",
    "denint1=[]\n",
    "for i in range(len(d_rg1)):\n",
    "    denint1.append(S_int(d_rg1[i]))"
   ]
  },
  {
   "cell_type": "code",
   "execution_count": 39,
   "metadata": {
    "collapsed": false
   },
   "outputs": [],
   "source": [
    "#creating a list of values for interpolated thickness hint\n",
    "h_int1=[]\n",
    "for i in range(len(d_rg1)):\n",
    "    h_int1.append(hint(d_rg[i]))"
   ]
  },
  {
   "cell_type": "code",
   "execution_count": 42,
   "metadata": {
    "collapsed": false
   },
   "outputs": [],
   "source": [
    "# Find density: Sigma/height\n",
    "def Density(a):\n",
    "    Dcal=S_int(a)/(hint(a)*1.5e+11/100)\n",
    "    return Dcal\n",
    "den1=[]\n",
    "for i in range(len(d_rg1)):\n",
    "    den1.append(Density(d_rg[i]))"
   ]
  },
  {
   "cell_type": "code",
   "execution_count": 43,
   "metadata": {
    "collapsed": false
   },
   "outputs": [],
   "source": [
    "mass = 1.99e+30 #Mass of the sun\n",
    "Force = 0.5*6.088e+18/mass\n",
    "h_a2 = h_a2"
   ]
  },
  {
   "cell_type": "code",
   "execution_count": 44,
   "metadata": {
    "collapsed": false
   },
   "outputs": [],
   "source": [
    "# Define some functions such as critical angle, velocity, relative velocity in the y direction, Orbital time and density\n",
    "\n",
    "def i_crit(h_a2):\n",
    "    icrit = np.arcsin(h_a2/2)\n",
    "    return icrit\n",
    "\n",
    "def Speed(d_rg1): # In m/s\n",
    "    speed = (c/(d_rg1*1.5e+11))**(1/2.0)\n",
    "    return speed         \n",
    "\n",
    "\n",
    "def vRely(d_rg1,i_):\n",
    "    y = (Speed(d_rg1)*np.sin(i_))**2\n",
    "    return y\n",
    "\n",
    "def Torb(d_rg):\n",
    "    orbit = (2*np.pi*d_rg*1.5*10**11)/Speed(d_rg)\n",
    "    return orbit\n",
    "\n",
    "def Density(d_rg):\n",
    "    sigma = (SurfaceDensity(d_rg)/(Height(d_rg)*1.5e+11))*10**(3)\n",
    "    return sigma\n",
    "\n",
    "def dvy(distance_in_rg,height):\n",
    "    dVy = Force*Density(distance_in_rg)*Torb(distance_in_rg)*vRely(distance_in_rg, i_crit)\n",
    "    return dvy"
   ]
  },
  {
   "cell_type": "code",
   "execution_count": 45,
   "metadata": {
    "collapsed": false
   },
   "outputs": [],
   "source": [
    "# Define a set of angles\n",
    "crit = array(i_crit(h_a2))\n",
    "\n",
    "i_ = np.pi/4,np.pi/3,np.pi/6,np.pi/2\n",
    "i_2 = np.array([np.pi/6,np.pi/3,np.pi/4,np.pi/2])\n",
    "#for j in h_a1:\n",
    "    #for k in T_orb:\n",
    "        #print TinD(j,i,k)"
   ]
  },
  {
   "cell_type": "code",
   "execution_count": 46,
   "metadata": {
    "collapsed": false
   },
   "outputs": [],
   "source": [
    "#Calculated relative velocity\n",
    "vRel = np.array([8.80022778e+09,6.45573767e+09,5.03923364e+09,4.01576791e+09,3.00806736e+09,2.11827567e+09,1.52276304e+09,1.14078084e+09,9.28180776e+08,7.39702446e+08,6.27157883e+08,4.99735550e+08,4.14918235e+08,3.37426302e+08,2.80123968e+08,2.37447841e+08,1.97179524e+08,1.60424905e+08,1.38863241e+08,1.15356983e+08,9.00815187e+07,7.33039161e+07,6.08838724e+07,5.26946880e+07,4.19894692e+07,   3.48673301e+07,   2.83596798e+07,2.45394044e+07,1.95446869e+07,1.46297515e+07,6.80414889e+06,2.13592674e+06,6.30162587e+05,2.23963941e+05,9.20040858e+04,1.94948911e+04])"
   ]
  },
  {
   "cell_type": "code",
   "execution_count": 50,
   "metadata": {
    "collapsed": false
   },
   "outputs": [],
   "source": [
    " # Rho is density of the gas >>> very important for our calculations >>> Values checked several times, they match!\n",
    "from numpy import cos,sin,arcsin\n",
    "G = 6.67e-11*2*1.99e30 \n",
    "h_a1 = np.array(ratio1)\n",
    "h_a2 = h_a1[:36]\n",
    "T_orb = np.array(T_Orb*10)\n",
    "T_Orb1 = T_Orb[:36]\n",
    "d_rg = np.array(distance_in_rg)\n",
    "d_km = d_rg1*1.5e+08\n",
    "r_sun = 6.96e+05\n",
    "r_mstar = r_sun*0.4\n",
    "r_redg = r_sun*100\n",
    "r_Ostar = r_sun*15\n",
    "Rho = np.array([5.3226935186600863e-06, 5.9765213777357602e-06, 7.3723339743839646e-06, 8.9401791325524744e-06, 1.1261482733997499e-05, 1.6537256918830009e-05, 2.2958058745336347e-05, 2.8447457382521977e-05, 2.9789327173609211e-05, 2.4360195526836645e-05, 1.9631323393403089e-05, 1.5258155544719618e-05, 1.3164486515251008e-05, 1.2516041752612994e-05, 1.3132150172415993e-05, 1.5853404839341584e-05, 2.0749437020210494e-05, 2.8503995674408276e-05, 3.5631581153442283e-05, 4.5908329827371274e-05, 5.8324157677768756e-05, 6.4289903174157269e-05, 6.1009785104746573e-05, 5.6465307937633348e-05, 4.3071360566015997e-05, 2.9500064694192425e-05, 1.7382078903172469e-05, 1.3622937589455536e-05, 8.0137896736367608e-06, 3.3750627357713892e-06, 4.2420449746897986e-07, 1.3387213182609257e-08, 3.3489405588841745e-10, 1.2663886985936325e-11, 9.7054086404354802e-13, 9.6583820155355247e-15])\n",
    "Density_Ratio = np.array(Rho/1410)\n",
    "Density_mstar = np.array(Rho/8806)\n",
    "Density_Ostar = np.array(Rho/27.833)\n",
    "Density_RG = np.array(Rho/0.0281)\n",
    "Rbondi = np.array((G*10)/((vRel+100)*1000))/1000 # Bondi radius >>> effective R for a sBH (G*M_sBH)/(Vrel+sound v)\n",
    "Dbondi = np.array(mass*10/(4/3*np.pi*(Rbondi)**3)) # Bondi density\n",
    "Density_sBH = np.array((Rho/Dbondi)*1000)\n",
    "                        \n",
    "def TinD(h_a2,i_):\n",
    "    t_in_d = np.arcsin(h_a2*1/(2*sin(i_))/np.pi)\n",
    "    return t_in_d"
   ]
  },
  {
   "cell_type": "code",
   "execution_count": 51,
   "metadata": {
    "collapsed": false
   },
   "outputs": [],
   "source": [
    "# Calculating 1/number of orbits for grind time for the Sun, M, G, O type stars and stellar mass black hole\n",
    "\n",
    "def inv_n(Density_Ratio,d_km,h_a2,i_):\n",
    "    n_orb = (3*np.pi/4)*(Density_Ratio)*(d_km/r_sun)*sin(i_)*TinD(h_a2,i_)\n",
    "    return n_orb\n",
    "def inv_n1(Density_mstar,d_km,h_a2,i_):\n",
    "    n_orb1 = (3*np.pi/4)*(Density_mstar)*(d_km/r_mstar)*sin(i_)*TinD(h_a2,i_)\n",
    "    return n_orb1\n",
    "def inv_n2(Density_Ostar,d_km,h_a2,i_):\n",
    "    n_orb2 = (3*np.pi/4)*(Density_Ostar)*(d_km/r_Ostar)*sin(i_)*TinD(h_a2,i_)\n",
    "    return n_orb2\n",
    "def inv_n3(Density_RG,d_km,h_a2,i_):\n",
    "    n_orb3 = (3*np.pi/4)*(Density_RG)*(d_km/r_redg)*sin(i_)*TinD(h_a2,i_)\n",
    "    return n_orb3\n",
    "def inv_nB(Density_sBH,d_km,Rbondi,h_a2,i_):\n",
    "    n_orbB = (3*np.pi/4)*(Density_sBH)*(d_km/Rbondi)*sin(i_)*TinD(h_a2,i_)\n",
    "    return n_orbB"
   ]
  },
  {
   "cell_type": "code",
   "execution_count": 52,
   "metadata": {
    "collapsed": false
   },
   "outputs": [],
   "source": [
    "# Find grind time for mentioned above objects\n",
    "\n",
    "def TgrindPi(Density_Ratio,d_km,h_a2,i_,T_Orb1):\n",
    "    Tg = inv_n(Density_Ratio,d_km,h_a2,i_)**(-1)*T_Orb1/3.154e+7 ### Seconds in a year\n",
    "    return Tg\n",
    "def Tgrindm(Density_mstar,d_km,h_a2,i_,T_Orb1):\n",
    "    Tgm = inv_n1(Density_mstar,d_km,h_a2,i_)**(-1)*T_Orb1/3.154e+7\n",
    "    return Tgm\n",
    "def TgrindO(Density_Ostar,d_km,h_a2,i_,T_Orb1):\n",
    "    TgO = inv_n2(Density_Ostar,d_km,h_a2,i_)**(-1)*T_Orb1/3.154e+7\n",
    "    return TgO\n",
    "def TgrindRG(Density_RG,d_km,h_a2,i_,T_Orb1):\n",
    "    TgRG = inv_n3(Density_RG,d_km,h_a2,i_)**(-1)*T_Orb1/3.154e+7\n",
    "    return TgRG\n",
    "def TgrindsBH(Density_sBH,d_km,Rbondi,h_a2,i_,T_Orb1):\n",
    "    Tgs = inv_nB(Density_sBH,d_km,Rbondi,h_a2,i_)**(-1)*T_Orb1/3.154e+7\n",
    "    return Tgs "
   ]
  },
  {
   "cell_type": "code",
   "execution_count": 53,
   "metadata": {
    "collapsed": false
   },
   "outputs": [],
   "source": [
    "TGrindPi4 = np.array([3.15813297e+03,3.57143347e+03,3.71603122e+03,3.93338028e+03,4.31089194e+03,4.64071980e+03,5.12177931e+03,6.01198328e+03,7.68392520e+03,1.23149483e+04,1.88166937e+04,2.98021414e+04,3.79136480e+04,4.28618620e+04,4.25574554e+04,3.91034530e+04,3.52799880e+04,3.36618417e+04,3.35091330e+04,3.62967044e+04,4.37889822e+04,5.66056741e+04,7.65739892e+04,9.77185413e+04,1.59353260e+05,2.70470657e+05,5.28030528e+05,7.16829526e+05,1.22368039e+06,2.91689700e+06,2.31270105e+07,7.28988821e+08,2.92838888e+10,7.70755271e+11,1.00681959e+13,1.03072206e+15])   "
   ]
  },
  {
   "cell_type": "code",
   "execution_count": 54,
   "metadata": {
    "collapsed": false
   },
   "outputs": [
    {
     "data": {
      "image/png": "[encoded data removed]",
      "text/plain": [
       "<matplotlib.figure.Figure at 0x114142e90>"
      ]
     },
     "metadata": {},
     "output_type": "display_data"
    }
   ],
   "source": [
    "TenSix=[]\n",
    "for j in range(len(d_rg1)):\n",
    "    TenSix.append(10**6)\n",
    "TenEight=[]\n",
    "for j in range(len(d_rg1)):\n",
    "    TenEight.append(10**8)\n",
    "\n",
    "#Plotting grind time for mentioned objects in PROGRADE ORBITS as a function of radius\n",
    "\n",
    "logPlot = plt.gca()\n",
    "logPlot.loglog(d_rg1,Tgrindm(Density_mstar,d_km,h_a2,np.pi/4,T_Orb1),'r:', linewidth=2, c= 'purple', label='M Star')\n",
    "logPlot.loglog(d_rg1,TgrindPi(Density_Ratio,d_km,h_a2,np.pi/4,T_Orb1),'r-.', linewidth=2, c= 'purple', label = 'Sun')\n",
    "logPlot.loglog(d_rg1,TgrindO(Density_Ostar,d_km,h_a2,np.pi/4,T_Orb1),'r-', linewidth=1, c= 'purple', label='O Star')\n",
    "logPlot.loglog(d_rg1,TgrindRG(Density_RG,d_km,h_a2,np.pi/4,T_Orb1), linewidth=2, c= 'purple', label = 'Red Giant')\n",
    "logPlot.loglog(d_rg1,TenSix,'r--',c='black')\n",
    "logPlot.loglog(d_rg1,TenEight,'r--',c='black')\n",
    "plt.title('SG Grind Time (Tg) vs Radius (a)')\n",
    "plt.legend()\n",
    "plt.xlabel('Radius [Rg]')\n",
    "plt.ylabel('Grind Time [Years]')\n",
    "ax = plt.subplot(111)\n",
    "plt.savefig('Final.pdf', dpi=300, bbox_inches='tight')"
   ]
  },
  {
   "cell_type": "code",
   "execution_count": 55,
   "metadata": {
    "collapsed": false
   },
   "outputs": [
    {
     "data": {
      "text/plain": [
       "<matplotlib.text.Text at 0x1149aee50>"
      ]
     },
     "execution_count": 55,
     "metadata": {},
     "output_type": "execute_result"
    },
    {
     "data": {
      "image/png": "[encoded data removed]",
      "text/plain": [
       "<matplotlib.figure.Figure at 0x1230efad0>"
      ]
     },
     "metadata": {},
     "output_type": "display_data"
    }
   ],
   "source": [
    "# Grind time for sBH as a function of R\n",
    "\n",
    "logPlot = plt.gca()\n",
    "logPlot.loglog(d_rg1,TgrindsBH(Density_sBH,d_km,Rbondi,h_a2,np.pi/4,T_Orb1),c ='b',label = 'sBH')\n",
    "plt.legend()\n",
    "plt.xlabel('Radius [Rg]')\n",
    "plt.ylabel('Grind Time [Years]')\n",
    "ax = plt.subplot(111)\n",
    "plt.savefig('sBH.pdf', dpi=300, bbox_inches='tight')\n",
    "plt.title('SG Grind Time (Tg) vs Radius (a)')"
   ]
  },
  {
   "cell_type": "code",
   "execution_count": 37,
   "metadata": {
    "collapsed": false
   },
   "outputs": [],
   "source": [
    "def imin(d_rg1,h_int1): #radians\n",
    "    i_min=arcsin(h_int1/(2*d_rg1))\n",
    "    return i_min\n",
    "\n",
    "def ivals(d_rg1,h_int1):\n",
    "    prograde=np.linspace(imin(d_rg1,h_int1),pi/2,40)\n",
    "    return prograde\n",
    "e2Rg = 2.13267722e+02\n",
    "e3Rg = 1.45340076e+03\n",
    "e4Rg = 1.30051044e+04\n",
    "e5Rg = 1.40421962e+05\n",
    "e6Rg = 4.53906956e+06"
   ]
  },
  {
   "cell_type": "code",
   "execution_count": 38,
   "metadata": {
    "collapsed": false
   },
   "outputs": [],
   "source": [
    "#logPlot = plt.gca()\n",
    "#logPlot.semilogy(ivals(e4Rg,hint(e4Rg)),TgrindPi((1410/1.73820789e-05),r_sun/1.95076566e+12,0.00762046,ivals(e4Rg,hint(e4Rg)),3.32263831e+09), label=\"Sun\")\n",
    "#logPlot.semilogy(ivals(e4Rg,hint(e4Rg)),TgrindPi((8806/1.73820789e-05),r_mstar/1.95076566e+12,0.00762046,ivals(e4Rg,hint(e4Rg)),3.32263831e+09), label=\"m Star\")\n",
    "#logPlot.semilogy(ivals(e4Rg,hint(e4Rg)),TgrindPi((27.833/1.73820789e-05),r_Ostar/1.95076566e+12,0.00762046,ivals(e4Rg,hint(e4Rg)),3.32263831e+09), label=\"O star\")\n",
    "#logPlot.semilogy(ivals(e4Rg,hint(e4Rg)),TgrindPi((2.81/1.73820789e-05),r_redg/1.95076566e+12,0.00762046,ivals(e4Rg,hint(e4Rg)),3.32263831e+09), label=\"Rg\")\n",
    "#plt.legend()"
   ]
  },
  {
   "cell_type": "markdown",
   "metadata": {
    "collapsed": true
   },
   "source": [
    "# Formula for changing distance"
   ]
  },
  {
   "cell_type": "code",
   "execution_count": 39,
   "metadata": {
    "collapsed": false
   },
   "outputs": [],
   "source": [
    "v_rely=np.array([ 8.80022778e+09,6.45573767e+09,5.03923364e+09,4.01576791e+09,3.00806736e+09,2.11827567e+09,1.52276304e+09,1.14078084e+09,9.28180776e+08,7.39702446e+08,6.27157883e+08,4.99735550e+08,4.14918235e+08,3.37426302e+08,2.80123968e+08,2.37447841e+08,1.97179524e+08,1.60424905e+08,1.38863241e+08,1.15356983e+08,9.00815187e+07,7.33039161e+07,6.08838724e+07,5.26946880e+07,4.19894692e+07,3.48673301e+07,2.83596798e+07,2.45394044e+07,1.95446869e+07,1.46297515e+07,6.80414889e+06,2.13592674e+06,6.30162587e+05,2.23963941e+05,9.20040858e+04,1.94948911e+04])"
   ]
  },
  {
   "cell_type": "code",
   "execution_count": 40,
   "metadata": {
    "collapsed": false
   },
   "outputs": [],
   "source": [
    "Force = np.array([7.12842731e+11,5.87168439e+11,5.65376623e+11,5.46365386e+11,5.15527082e+11,5.33106900e+11,5.32029657e+11,4.93871569e+11,4.20786323e+11,2.74224452e+11,1.87367738e+11,1.16040779e+11,8.31256009e+10,6.42708861e+10,5.59827801e+10,5.72874020e+10,6.22639235e+10,6.95898477e+10,7.52992662e+10,8.05941899e+10,7.99562702e+10,7.17196729e+10,5.65288453e+10,4.52810918e+10,2.75230987e+10,1.56534480e+10,7.50190209e+09,5.08748494e+09,2.38360896e+09,7.51427615e+08,4.39255723e+07,4.35155908e+05,3.21165145e+03,4.31631845e+01,1.35890561e+00,2.86545468e-03])"
   ]
  },
  {
   "cell_type": "markdown",
   "metadata": {},
   "source": [
    "# New a for sun"
   ]
  },
  {
   "cell_type": "code",
   "execution_count": 41,
   "metadata": {
    "collapsed": false
   },
   "outputs": [],
   "source": [
    "# This is the function for drag for drag \n",
    "Gm = 6.67e-11*1.99e30\n",
    "m_sun = 1.99e30\n",
    "a_m = np.array(d_rg1*1.5e11)\n",
    "m_SMBH = 1e8*1.99e30\n",
    "A_sun = 2*np.pi*((r_sun*1e3)**2)\n",
    "\n",
    "def vRelx(d_rg1,i_): # NB this is relative velocity SQUARED\n",
    "    x = (Speed(d_rg1)*(1-cos(i_)))**2\n",
    "    return x\n",
    "\n",
    "def vRely(d_rg1,i_):\n",
    "    y = (Speed(d_rg1)*sin(i_))**2\n",
    "    return y\n",
    "\n",
    "# DRAG FORCE\n",
    "\n",
    "def force_x(vRelx,Rho):\n",
    "    fx = 0.5*vRelx*Rho*A_sun\n",
    "    return fx\n",
    "\n",
    "def force_y(vRely,Rho):\n",
    "    fy = 0.5*vRely*Rho*A_sun\n",
    "    return fy\n",
    "\n",
    "\n",
    "# For Fx\n",
    "v_pi4 = array(vRelx(d_rg1,pi/4))\n",
    "v_pi6 = array(vRelx(d_rg1,pi/6))\n",
    "v_pi3 = array(vRelx(d_rg1,pi/3))\n",
    "v_crit = array (array(vRelx(d_rg1,crit)))\n",
    "dragpi4 = array(force_x(v_pi4,Rho))\n",
    "dragpi6 = array(force_x(v_pi6,Rho))\n",
    "dragpi3 = array(force_x(v_pi3,Rho))\n",
    "drag_crit = array(force_x(v_crit,Rho))\n",
    "drag_force = np.array([dragpi4,dragpi6,dragpi3,drag_crit])\n",
    "\n",
    "# For Fy\n",
    "\n",
    "v_y1 = array(vRely(d_rg1,3*pi/4))\n",
    "f_y = array(force_y(v_y1,Rho))\n"
   ]
  },
  {
   "cell_type": "code",
   "execution_count": 42,
   "metadata": {
    "collapsed": false
   },
   "outputs": [],
   "source": [
    "def a_new(a_m,drag_force,h_a2,i_):\n",
    "    radius = (1/(1/a_m + drag_force*2*a_m*arcsin(h_a2*1/(2*sin(i_)))/(1e8*Gm*m_SMBH)))/1.5e11\n",
    "    return radius"
   ]
  },
  {
   "cell_type": "markdown",
   "metadata": {},
   "source": [
    "# In this section we are going to look at the comaprison between the drag force (up) and the gravitational pull(down) for retrograde orbits"
   ]
  },
  {
   "cell_type": "code",
   "execution_count": 43,
   "metadata": {
    "collapsed": false
   },
   "outputs": [],
   "source": [
    "sigma = array(denint1)\n",
    "\n",
    "def z_bar(a_m,i_):\n",
    "    z = a_m/2*sin(pi-i_)\n",
    "    return z\n",
    "\n",
    "def area(a_m,delta_a):\n",
    "    area = 2*pi*a_m*delta_a\n",
    "    return area\n",
    "\n",
    "# For 3pi/4\n",
    "z_1 = array(z_bar(a_m,3*pi/4))\n",
    "area_z1 = array(area(a_m,z_1))"
   ]
  },
  {
   "cell_type": "code",
   "execution_count": 44,
   "metadata": {
    "collapsed": true
   },
   "outputs": [],
   "source": [
    "def mass(area,sigma):\n",
    "    mass = area*sigma\n",
    "    return mass\n",
    "\n",
    "m_1= array(mass(area_z1,sigma))\n",
    "\n",
    "def F_grav(mass,zeta):\n",
    "    fgrav = Gm*m_1/(z_1)**2\n",
    "    return fgrav"
   ]
  },
  {
   "cell_type": "markdown",
   "metadata": {},
   "source": [
    "# Analysis of Grind Time for sBH"
   ]
  },
  {
   "cell_type": "code",
   "execution_count": 45,
   "metadata": {
    "collapsed": false
   },
   "outputs": [],
   "source": [
    "h_new = array(h_int1)\n",
    "rg_m = 1.5e11"
   ]
  },
  {
   "cell_type": "code",
   "execution_count": 46,
   "metadata": {
    "collapsed": false
   },
   "outputs": [],
   "source": [
    "#Define new radius for mass using pythagorean theorem\n",
    "\n",
    "def new_r(a,h):\n",
    "    radius = ((a*rg_m)**2 - (h/2*rg_m)**2)**(0.5)\n",
    "    return radius\n",
    "\n",
    "# Calculations for the mass of the portion of the disk in Kg\n",
    "# Mass = Area x Surface density\n",
    "# Where Area = 4 pi a/x \n",
    "\n",
    "r_new = array(new_r(d_rg1,h_new))\n",
    "sigma = array(denint1)\n",
    "\n",
    "def m_disk (a,h):\n",
    "    mass = 4*pi*(a*rg_m)*(h*rg_m)*sigma\n",
    "    return mass\n",
    "\n",
    "disk_mass = array(m_disk(d_rg1,h_new))"
   ]
  },
  {
   "cell_type": "code",
   "execution_count": 47,
   "metadata": {
    "collapsed": false
   },
   "outputs": [],
   "source": [
    "# Find gravitational force exerted by the sBH on the gas at r= h/2 and r=h\n",
    "\n",
    "def newton(r):\n",
    "    f = (Gm*10*disk_mass)/(r*rg_m**2)\n",
    "    return f\n"
   ]
  },
  {
   "cell_type": "code",
   "execution_count": 48,
   "metadata": {
    "collapsed": true
   },
   "outputs": [],
   "source": [
    "# Rewrite drag force in both x and y direction\n",
    "\n",
    "def Fdrag(v):\n",
    "    fx = 0.5*v*Rho*A_sun\n",
    "    return fdrag\n",
    "    "
   ]
  },
  {
   "cell_type": "code",
   "execution_count": null,
   "metadata": {
    "collapsed": true
   },
   "outputs": [],
   "source": []
  }
 ],
 "metadata": {
  "kernelspec": {
   "display_name": "Python 2",
   "language": "python",
   "name": "python2"
  },
  "language_info": {
   "codemirror_mode": {
    "name": "ipython",
    "version": 2
   },
   "file_extension": ".py",
   "mimetype": "text/x-python",
   "name": "python",
   "nbconvert_exporter": "python",
   "pygments_lexer": "ipython2",
   "version": "2.7.13"
  }
 },
 "nbformat": 4,
 "nbformat_minor": 2
}
