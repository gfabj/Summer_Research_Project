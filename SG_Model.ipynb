{
 "cells": [
  {
   "cell_type": "code",
   "execution_count": 1,
   "metadata": {
    "collapsed": true
   },
   "outputs": [],
   "source": [
    "import numpy as np\n",
    "import matplotlib.pyplot as plt\n",
    "import pandas as pd\n",
    "import astropy\n",
    "%matplotlib inline"
   ]
  },
  {
   "cell_type": "code",
   "execution_count": 2,
   "metadata": {
    "collapsed": false,
    "scrolled": true
   },
   "outputs": [
    {
     "name": "stdout",
     "output_type": "stream",
     "text": [
      "[[ 0.4076886  -0.63140897]\n",
      " [ 0.54223664 -0.66783315]\n",
      " [ 0.64981802 -0.7223981 ]\n",
      " [ 0.74841391 -0.78149655]\n",
      " [ 0.87389496 -0.85877652]\n",
      " [ 1.02620004 -0.98147974]\n",
      " [ 1.16955019 -1.09509559]\n",
      " [ 1.2949803  -1.195077  ]\n",
      " [ 1.38454995 -1.27687009]\n",
      " [ 1.48312546 -1.34504911]\n",
      " [ 1.55480563 -1.39958689]\n",
      " [ 1.65344227 -1.44052419]\n",
      " [ 1.73422    -1.44058531]\n",
      " [ 1.82400359 -1.42703237]\n",
      " [ 1.90483225 -1.40439206]\n",
      " [ 1.97661429 -1.41352697]\n",
      " [ 2.0573207  -1.4453701 ]\n",
      " [ 2.14691073 -1.51808262]\n",
      " [ 2.20959522 -1.58169419]\n",
      " [ 2.29013863 -1.68618192]\n",
      " [ 2.39754682 -1.81793176]\n",
      " [ 2.48705534 -1.92696657]\n",
      " [ 2.56768025 -1.99513201]\n",
      " [ 2.63041568 -2.03604214]\n",
      " [ 2.72904213 -2.08151972]\n",
      " [ 2.80976383 -2.10655243]\n",
      " [ 2.89948119 -2.12251135]\n",
      " [ 2.9623185  -2.11801861]\n",
      " [ 3.0611538  -2.0704203 ]\n",
      " [ 3.18694557 -2.0092215 ]\n",
      " [ 3.51940871 -1.84148216]\n",
      " [ 4.02259616 -1.58760641]\n",
      " [ 4.5527299  -1.32467045]\n",
      " [ 5.00200442 -1.09799567]\n",
      " [ 5.3883754  -0.9053255 ]\n",
      " [ 6.0622617  -0.57666404]\n",
      " [ 6.60139112 -0.3046543 ]\n",
      " [ 6.92038112 -0.14144506]]\n",
      "(38, 2)\n"
     ]
    }
   ],
   "source": [
    "text_file1 = np.loadtxt('hoverrNoCommas.txt', dtype = 'float')\n",
    "print text_file1 # Prints the text file as a 2d array.\n",
    "print text_file1.shape"
   ]
  },
  {
   "cell_type": "code",
   "execution_count": 43,
   "metadata": {
    "collapsed": false,
    "scrolled": true
   },
   "outputs": [
    {
     "data": {
      "text/plain": [
       "<matplotlib.text.Text at 0x113cfa0d0>"
      ]
     },
     "execution_count": 43,
     "metadata": {},
     "output_type": "execute_result"
    },
    {
     "data": {
      "image/png": "[encoded data removed]",
      "text/plain": [
       "<matplotlib.figure.Figure at 0x113d24090>"
      ]
     },
     "metadata": {},
     "output_type": "display_data"
    }
   ],
   "source": [
    "a = text_file1[:,0]\n",
    "ratio = text_file1[:,1]\n",
    "plt.plot(a,ratio) # Sets each column as the x and y coordinates, and creates and shows a plot.\n",
    "plt.xlabel('a',fontsize=20)\n",
    "plt.ylabel('h/a',fontsize=20)"
   ]
  },
  {
   "cell_type": "code",
   "execution_count": 93,
   "metadata": {
    "collapsed": false,
    "scrolled": true
   },
   "outputs": [
    {
     "name": "stdout",
     "output_type": "stream",
     "text": [
      "[[ 0.41441441  3.70709382]\n",
      " [ 0.57657658  3.84439359]\n",
      " [ 0.81981982  4.10526316]\n",
      " [ 1.18018018  4.5583524 ]\n",
      " [ 1.47747748  4.92906178]\n",
      " [ 1.57657658  5.02517162]\n",
      " [ 1.65765766  5.06636156]\n",
      " [ 1.75675676  5.02517162]\n",
      " [ 1.81981982  4.94279176]\n",
      " [ 1.88288288  4.90160183]\n",
      " [ 1.97297297  4.8604119 ]\n",
      " [ 2.07207207  4.91533181]\n",
      " [ 2.16216216  5.02517162]\n",
      " [ 2.24324324  5.17620137]\n",
      " [ 2.32432432  5.35469108]\n",
      " [ 2.42342342  5.53318078]\n",
      " [ 2.53153153  5.6979405 ]\n",
      " [ 2.65765766  5.80778032]\n",
      " [ 2.74774775  5.84897025]\n",
      " [ 2.86036036  5.83524027]\n",
      " [ 2.96396396  5.81464531]\n",
      " [ 3.17117117  5.50572082]\n",
      " [ 3.55855856  4.94279176]\n",
      " [ 4.05405405  4.18764302]\n",
      " [ 4.58558559  3.39130435]\n",
      " [ 5.09009009  2.62929062]\n",
      " [ 5.5045045   2.02517162]\n",
      " [ 6.06306306  1.19450801]\n",
      " [ 6.5045045   0.50800915]\n",
      " [ 6.93693694 -0.13043478]]\n",
      "(30, 2)\n"
     ]
    }
   ],
   "source": [
    "text_file2 = np.loadtxt('SurfaceDensity.txt', dtype = 'float')\n",
    "print text_file2\n",
    "print text_file2.shape\n",
    "a2 = text_file2[:,0]\n",
    "surface_density = text_file2[:,1]"
   ]
  },
  {
   "cell_type": "code",
   "execution_count": 94,
   "metadata": {
    "collapsed": false,
    "scrolled": true
   },
   "outputs": [
    {
     "data": {
      "text/plain": [
       "<matplotlib.text.Text at 0x115a3c1d0>"
      ]
     },
     "execution_count": 94,
     "metadata": {},
     "output_type": "execute_result"
    },
    {
     "data": {
      "image/png": "[encoded data removed]",
      "text/plain": [
       "<matplotlib.figure.Figure at 0x115c55150>"
      ]
     },
     "metadata": {},
     "output_type": "display_data"
    }
   ],
   "source": [
    "plt.plot(a2,surface_density) \n",
    "plt.xlabel('distance',fontsize=20)\n",
    "plt.ylabel('density',fontsize=20)"
   ]
  },
  {
   "cell_type": "code",
   "execution_count": null,
   "metadata": {
    "collapsed": true
   },
   "outputs": [],
   "source": [
    "mass_condlist = [(log10mass < 0.3010), (log10mass >= 0.3010) & (log10mass < 1.3010), (log10mass >= 1.3010) & (log10mass < 2.1461), (log10mass >= 2.1461)]\n",
    "    mass_funclist = [lambda log10mass: 0.9*log10mass, lambda log10mass: (15.0/19.0)*log10mass + 0.03327, lambda log10mass: 0.6*log10mass + 0.2798, lambda log10mass: 0.5*log10mass + 0.4944]\n",
    "    \n",
    "    log10R = np.piecewise(log10mass, mass_condlist, mass_funclist)\n",
    "\n",
    "    return log10R"
   ]
  },
  {
   "cell_type": "code",
   "execution_count": 123,
   "metadata": {
    "collapsed": true
   },
   "outputs": [],
   "source": [
    " distance_a = 10**text_file1[:30,0]\n",
    "ratio1 = 10**text_file1[:30,1]"
   ]
  },
  {
   "cell_type": "code",
   "execution_count": 126,
   "metadata": {
    "collapsed": false,
    "scrolled": true
   },
   "outputs": [
    {
     "name": "stdout",
     "output_type": "stream",
     "text": [
      "[  0.59741982   0.74886493   0.84609655   0.92665349   1.03542452\n",
      "   1.10846071   1.18701061   1.25864514   1.28138566   1.37428357\n",
      "   1.42961383   1.63274396   1.96623165   2.4944294    3.16548449\n",
      "   3.65668312   4.0921411    4.25429997   4.24522814   4.01750759\n",
      "   3.79852562   3.63152274   3.73721635   3.92982799   4.4414258\n",
      "   5.04907005   5.98370042   6.98714721   9.78889119  15.05650131]\n",
      "[  8.52735202e+03   9.33233026e+03   1.50606333e+04   3.90332790e+04\n",
      "   8.20244526e+04   9.55985537e+04   9.81537632e+04   8.41915146e+04\n",
      "   6.84087889e+04   5.80130202e+04   5.07216249e+04   5.03980487e+04\n",
      "   5.38935686e+04   6.01492416e+04   7.14909198e+04   9.33455138e+04\n",
      "   1.21896126e+05   1.50991400e+05   1.66367779e+05   1.70327028e+05\n",
      "   1.71802804e+05   8.82332051e+04   2.34554366e+04   3.91985028e+03\n",
      "   5.54347301e+02   8.43488609e+01   1.77093158e+01   2.23979420e+00\n",
      "   3.29060424e-01   4.91859599e-02]\n"
     ]
    }
   ],
   "source": [
    "height = distance_a*ratio1\n",
    "print height\n",
    "s_density = 10**surface_density\n",
    "density = s_density/height\n",
    "print density"
   ]
  },
  {
   "cell_type": "code",
   "execution_count": 128,
   "metadata": {
    "collapsed": false
   },
   "outputs": [
    {
     "data": {
      "text/plain": [
       "[<matplotlib.lines.Line2D at 0x116975190>]"
      ]
     },
     "execution_count": 128,
     "metadata": {},
     "output_type": "execute_result"
    },
    {
     "data": {
      "image/png": "[encoded data removed]",
      "text/plain": [
       "<matplotlib.figure.Figure at 0x1169751d0>"
      ]
     },
     "metadata": {},
     "output_type": "display_data"
    }
   ],
   "source": [
    "distance_a2 = 10**a2\n",
    "logPlot=plt.gca()\n",
    "logPlot.loglog(distance_a2,density)"
   ]
  },
  {
   "cell_type": "code",
   "execution_count": null,
   "metadata": {
    "collapsed": false
   },
   "outputs": [],
   "source": []
  },
  {
   "cell_type": "code",
   "execution_count": null,
   "metadata": {
    "collapsed": false
   },
   "outputs": [],
   "source": []
  },
  {
   "cell_type": "code",
   "execution_count": 107,
   "metadata": {
    "collapsed": false
   },
   "outputs": [
    {
     "name": "stdout",
     "output_type": "stream",
     "text": [
      "[  1.50829051e+12   2.05604699e+12   2.63399178e+12   3.30529560e+12\n",
      "   4.41256741e+12   6.26608716e+12   8.71658928e+12   1.16352761e+13\n",
      "   1.43003393e+13   1.79441072e+13   2.11642082e+13   2.65606479e+13\n",
      "   3.19901583e+13   3.93368861e+13   4.73836640e+13   5.58998556e+13\n",
      "   6.73158132e+13   8.27384004e+13   9.55854111e+13   1.15062822e+14\n",
      "   1.47347649e+14   1.81072182e+14   2.18010115e+14   2.51890665e+14\n",
      "   3.16110212e+14   3.80680137e+14   4.68034198e+14   5.40897399e+14\n",
      "   6.79125742e+14   9.07281305e+14   1.95076566e+15   6.21430489e+15\n",
      "   2.10632943e+16   5.92653439e+16   1.44268593e+17   6.80860434e+17\n",
      "   2.35606633e+18   4.91108569e+18]\n",
      "[  2.55675200e+00   3.48527173e+00   4.46496464e+00   5.60291344e+00\n",
      "   7.47988568e+00   1.06218469e+01   1.47757723e+01   1.97233327e+01\n",
      "   2.42409675e+01   3.04176363e+01   3.58761336e+01   4.50238131e+01\n",
      "   5.42275517e+01   6.66812275e+01   8.03215809e+01   9.47576526e+01\n",
      "   1.14109211e+02   1.40252538e+02   1.62029921e+02   1.95046710e+02\n",
      "   2.49773764e+02   3.06941310e+02   3.69555994e+02   4.26988011e+02\n",
      "   5.35848641e+02   6.45303210e+02   7.93379902e+02   9.16892670e+02\n",
      "   1.15120800e+03   1.53796188e+03   3.30680595e+03   1.05340691e+04\n",
      "   3.57050712e+04   1.00462601e+05   2.44554357e+05   1.15414854e+06\n",
      "   3.99384422e+06   8.32494014e+06]\n",
      "[  1.32666709e+08   1.13628673e+08   1.00391570e+08   8.96188363e+07\n",
      "   7.75637462e+07   6.50887959e+07   5.51862853e+07   4.77656956e+07\n",
      "   4.30855144e+07   3.84630328e+07   3.54163206e+07   3.16144128e+07\n",
      "   2.88068823e+07   2.59779253e+07   2.36695572e+07   2.17921013e+07\n",
      "   1.98584755e+07   1.79122810e+07   1.66651277e+07   1.51892714e+07\n",
      "   1.34224825e+07   1.21081721e+07   1.10348423e+07   1.02659328e+07\n",
      "   9.16400231e+06   8.35072812e+06   7.53122564e+06   7.00562693e+06\n",
      "   6.25214954e+06   5.40920539e+06   3.68894264e+06   2.06684627e+06\n",
      "   1.12264205e+06   6.69274146e+05   4.28961737e+05   1.97458305e+05\n",
      "   1.06147726e+05   7.35217265e+04]\n"
     ]
    }
   ],
   "source": [
    "c = 6.67e-11*2*1.99e30*10**8\n",
    "d = text_file1[:,0]\n",
    "distance2= 10**d\n",
    "\n",
    "distance_in_meters = distance2*(2*c)\n",
    "speed_of_light_squared=(3e8)**2\n",
    "distance = (distance_in_meters/speed_of_light_squared)\n",
    "print distance\n",
    "\n",
    "print distance2\n",
    "velocity = (c/distance)**(1/2.0)\n",
    "print velocity"
   ]
  },
  {
   "cell_type": "code",
   "execution_count": 110,
   "metadata": {
    "collapsed": false
   },
   "outputs": [
    {
     "data": {
      "text/plain": [
       "[<matplotlib.lines.Line2D at 0x1152e00d0>]"
      ]
     },
     "execution_count": 110,
     "metadata": {},
     "output_type": "execute_result"
    },
    {
     "data": {
      "image/png": "[encoded data removed]",
      "text/plain": [
       "<matplotlib.figure.Figure at 0x1152e0f90>"
      ]
     },
     "metadata": {},
     "output_type": "display_data"
    }
   ],
   "source": [
    "logPlot=plt.gca()\n",
    "logPlot.loglog(distance,velocity)\n"
   ]
  },
  {
   "cell_type": "code",
   "execution_count": null,
   "metadata": {
    "collapsed": false
   },
   "outputs": [],
   "source": []
  },
  {
   "cell_type": "code",
   "execution_count": null,
   "metadata": {
    "collapsed": false
   },
   "outputs": [],
   "source": []
  },
  {
   "cell_type": "code",
   "execution_count": null,
   "metadata": {
    "collapsed": false
   },
   "outputs": [],
   "source": []
  },
  {
   "cell_type": "code",
   "execution_count": null,
   "metadata": {
    "collapsed": false
   },
   "outputs": [],
   "source": []
  },
  {
   "cell_type": "code",
   "execution_count": null,
   "metadata": {
    "collapsed": true
   },
   "outputs": [],
   "source": []
  }
 ],
 "metadata": {
  "kernelspec": {
   "display_name": "Python 2",
   "language": "python",
   "name": "python2"
  },
  "language_info": {
   "codemirror_mode": {
    "name": "ipython",
    "version": 2
   },
   "file_extension": ".py",
   "mimetype": "text/x-python",
   "name": "python",
   "nbconvert_exporter": "python",
   "pygments_lexer": "ipython2",
   "version": "2.7.13"
  }
 },
 "nbformat": 4,
 "nbformat_minor": 2
}
