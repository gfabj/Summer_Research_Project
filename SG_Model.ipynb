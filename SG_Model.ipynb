{
 "cells": [
  {
   "cell_type": "code",
   "execution_count": 1,
   "metadata": {
    "collapsed": true
   },
   "outputs": [],
   "source": [
    "import numpy as np\n",
    "import matplotlib.pyplot as plt\n",
    "import pandas as pd\n",
    "import astropy\n",
    "%matplotlib inline\n",
    "import pylab\n",
    "import scipy.interpolate as sp"
   ]
  },
  {
   "cell_type": "code",
   "execution_count": null,
   "metadata": {
    "collapsed": true
   },
   "outputs": [],
   "source": []
  },
  {
   "cell_type": "code",
   "execution_count": null,
   "metadata": {
    "collapsed": true
   },
   "outputs": [],
   "source": []
  },
  {
   "cell_type": "code",
   "execution_count": 5,
   "metadata": {
    "collapsed": false,
    "scrolled": true
   },
   "outputs": [
    {
     "name": "stdout",
     "output_type": "stream",
     "text": [
      "[[ 0.4076886  -0.63140897]\n",
      " [ 0.54223664 -0.66783315]\n",
      " [ 0.64981802 -0.7223981 ]\n",
      " [ 0.74841391 -0.78149655]\n",
      " [ 0.87389496 -0.85877652]\n",
      " [ 1.02620004 -0.98147974]\n",
      " [ 1.16955019 -1.09509559]\n",
      " [ 1.2949803  -1.195077  ]\n",
      " [ 1.38454995 -1.27687009]\n",
      " [ 1.48312546 -1.34504911]\n",
      " [ 1.55480563 -1.39958689]\n",
      " [ 1.65344227 -1.44052419]\n",
      " [ 1.73422    -1.44058531]\n",
      " [ 1.82400359 -1.42703237]\n",
      " [ 1.90483225 -1.40439206]\n",
      " [ 1.97661429 -1.41352697]\n",
      " [ 2.0573207  -1.4453701 ]\n",
      " [ 2.14691073 -1.51808262]\n",
      " [ 2.20959522 -1.58169419]\n",
      " [ 2.29013863 -1.68618192]\n",
      " [ 2.39754682 -1.81793176]\n",
      " [ 2.48705534 -1.92696657]\n",
      " [ 2.56768025 -1.99513201]\n",
      " [ 2.63041568 -2.03604214]\n",
      " [ 2.72904213 -2.08151972]\n",
      " [ 2.80976383 -2.10655243]\n",
      " [ 2.89948119 -2.12251135]\n",
      " [ 2.9623185  -2.11801861]\n",
      " [ 3.0611538  -2.0704203 ]\n",
      " [ 3.18694557 -2.0092215 ]\n",
      " [ 3.51940871 -1.84148216]\n",
      " [ 4.02259616 -1.58760641]\n",
      " [ 4.5527299  -1.32467045]\n",
      " [ 5.00200442 -1.09799567]\n",
      " [ 5.3883754  -0.9053255 ]\n",
      " [ 6.0622617  -0.57666404]\n",
      " [ 6.60139112 -0.3046543 ]\n",
      " [ 6.92038112 -0.14144506]]\n",
      "(38, 2)\n"
     ]
    }
   ],
   "source": [
    "text_file1 = np.loadtxt('hoverrNoCommas.txt', dtype = 'float')\n",
    "print text_file1 # Prints the text file as a 2d array.\n",
    "print text_file1.shape"
   ]
  },
  {
   "cell_type": "markdown",
   "metadata": {},
   "source": [
    "# h vs. a"
   ]
  },
  {
   "cell_type": "code",
   "execution_count": 6,
   "metadata": {
    "collapsed": false
   },
   "outputs": [],
   "source": [
    "a = text_file1[:,0]\n",
    "ratio = text_file1[:,1]\n",
    "ratio1 = 10**ratio\n",
    "a1 = 10**a\n",
    "height = (ratio1*a1)*2\n",
    "a1_in_rg = a1*2\n",
    "\n",
    "h_=np.zeros((38,2))\n",
    "h_[:,0]= a1_in_rg\n",
    "h_[:,1] = height\n"
   ]
  },
  {
   "cell_type": "markdown",
   "metadata": {},
   "source": [
    "# h/a vs. a"
   ]
  },
  {
   "cell_type": "code",
   "execution_count": 7,
   "metadata": {
    "collapsed": false,
    "scrolled": true
   },
   "outputs": [
    {
     "ename": "TypeError",
     "evalue": "'tuple' object is not callable",
     "output_type": "error",
     "traceback": [
      "\u001b[0;31m---------------------------------------------------------------------------\u001b[0m",
      "\u001b[0;31mTypeError\u001b[0m                                 Traceback (most recent call last)",
      "\u001b[0;32m<ipython-input-7-8627f4d95c4c>\u001b[0m in \u001b[0;36m<module>\u001b[0;34m()\u001b[0m\n\u001b[1;32m      3\u001b[0m \u001b[0ma\u001b[0m \u001b[0;34m=\u001b[0m \u001b[0mtext_file1\u001b[0m\u001b[0;34m[\u001b[0m\u001b[0;34m:\u001b[0m\u001b[0;34m,\u001b[0m\u001b[0;36m0\u001b[0m\u001b[0;34m]\u001b[0m\u001b[0;34m\u001b[0m\u001b[0m\n\u001b[1;32m      4\u001b[0m \u001b[0mratio\u001b[0m \u001b[0;34m=\u001b[0m \u001b[0mtext_file1\u001b[0m\u001b[0;34m[\u001b[0m\u001b[0;34m:\u001b[0m\u001b[0;34m,\u001b[0m\u001b[0;36m1\u001b[0m\u001b[0;34m]\u001b[0m\u001b[0;34m\u001b[0m\u001b[0m\n\u001b[0;32m----> 5\u001b[0;31m \u001b[0mplt\u001b[0m\u001b[0;34m.\u001b[0m\u001b[0mplot\u001b[0m\u001b[0;34m(\u001b[0m\u001b[0ma1\u001b[0m\u001b[0;34m,\u001b[0m\u001b[0mratio1\u001b[0m\u001b[0;34m)\u001b[0m \u001b[0;31m# Sets each column as the x and y coordinates, and creates and shows a plot.\u001b[0m\u001b[0;34m\u001b[0m\u001b[0m\n\u001b[0m\u001b[1;32m      6\u001b[0m \u001b[0mplt\u001b[0m\u001b[0;34m.\u001b[0m\u001b[0mxlabel\u001b[0m\u001b[0;34m(\u001b[0m\u001b[0;34m'log a [Rs]'\u001b[0m\u001b[0;34m,\u001b[0m\u001b[0mfontsize\u001b[0m\u001b[0;34m=\u001b[0m\u001b[0;36m20\u001b[0m\u001b[0;34m)\u001b[0m\u001b[0;34m\u001b[0m\u001b[0m\n\u001b[1;32m      7\u001b[0m \u001b[0mplt\u001b[0m\u001b[0;34m.\u001b[0m\u001b[0mylabel\u001b[0m\u001b[0;34m(\u001b[0m\u001b[0;34m'log h/a'\u001b[0m\u001b[0;34m,\u001b[0m\u001b[0mfontsize\u001b[0m\u001b[0;34m=\u001b[0m\u001b[0;36m18\u001b[0m\u001b[0;34m)\u001b[0m\u001b[0;34m\u001b[0m\u001b[0m\n",
      "\u001b[0;31mTypeError\u001b[0m: 'tuple' object is not callable"
     ]
    },
    {
     "data": {
      "image/png": "[encoded data removed]",
      "text/plain": [
       "<matplotlib.figure.Figure at 0x118073490>"
      ]
     },
     "metadata": {},
     "output_type": "display_data"
    }
   ],
   "source": [
    "logPlot = plt.gca()\n",
    "plt.plot = (a,ratio)\n",
    "a = text_file1[:,0]\n",
    "ratio = text_file1[:,1]\n",
    "plt.plot(a1,ratio1) # Sets each column as the x and y coordinates, and creates and shows a plot.\n",
    "plt.xlabel('log a [Rs]',fontsize=20)\n",
    "plt.ylabel('log h/a',fontsize=18)\n",
    "plt.savefig('hovera1.png', dpi=300, bbox_inches='tight')"
   ]
  },
  {
   "cell_type": "markdown",
   "metadata": {},
   "source": [
    "# h vs a adjusted"
   ]
  },
  {
   "cell_type": "code",
   "execution_count": 8,
   "metadata": {
    "collapsed": false,
    "scrolled": true
   },
   "outputs": [
    {
     "ename": "NameError",
     "evalue": "name 'distance_in_rg' is not defined",
     "output_type": "error",
     "traceback": [
      "\u001b[0;31m---------------------------------------------------------------------------\u001b[0m",
      "\u001b[0;31mNameError\u001b[0m                                 Traceback (most recent call last)",
      "\u001b[0;32m<ipython-input-8-deac0b412d1d>\u001b[0m in \u001b[0;36m<module>\u001b[0;34m()\u001b[0m\n\u001b[1;32m      1\u001b[0m \u001b[0mlogPlot\u001b[0m \u001b[0;34m=\u001b[0m \u001b[0mplt\u001b[0m\u001b[0;34m.\u001b[0m\u001b[0mgca\u001b[0m\u001b[0;34m(\u001b[0m\u001b[0;34m)\u001b[0m\u001b[0;34m\u001b[0m\u001b[0m\n\u001b[0;32m----> 2\u001b[0;31m \u001b[0mlogPlot\u001b[0m\u001b[0;34m.\u001b[0m\u001b[0mloglog\u001b[0m\u001b[0;34m(\u001b[0m\u001b[0mdistance_in_rg\u001b[0m\u001b[0;34m,\u001b[0m\u001b[0mheight\u001b[0m\u001b[0;34m)\u001b[0m\u001b[0;34m\u001b[0m\u001b[0m\n\u001b[0m\u001b[1;32m      3\u001b[0m \u001b[0mplt\u001b[0m\u001b[0;34m.\u001b[0m\u001b[0mxlabel\u001b[0m\u001b[0;34m(\u001b[0m\u001b[0;34m'a [Rg]'\u001b[0m\u001b[0;34m,\u001b[0m\u001b[0mfontsize\u001b[0m\u001b[0;34m=\u001b[0m\u001b[0;36m18\u001b[0m\u001b[0;34m)\u001b[0m\u001b[0;34m\u001b[0m\u001b[0m\n\u001b[1;32m      4\u001b[0m \u001b[0mplt\u001b[0m\u001b[0;34m.\u001b[0m\u001b[0mylabel\u001b[0m\u001b[0;34m(\u001b[0m\u001b[0;34m'height [Rg]'\u001b[0m\u001b[0;34m,\u001b[0m\u001b[0mfontsize\u001b[0m\u001b[0;34m=\u001b[0m\u001b[0;36m18\u001b[0m\u001b[0;34m)\u001b[0m\u001b[0;34m\u001b[0m\u001b[0m\n\u001b[1;32m      5\u001b[0m \u001b[0;31m#plt.plot([2.55675200e+00,  4.50238131e+01], [ 5.97419825e-01,1.63274396e+00], c='r')\u001b[0m\u001b[0;34m\u001b[0m\u001b[0;34m\u001b[0m\u001b[0m\n",
      "\u001b[0;31mNameError\u001b[0m: name 'distance_in_rg' is not defined"
     ]
    },
    {
     "data": {
      "image/png": "[encoded data removed]",
      "text/plain": [
       "<matplotlib.figure.Figure at 0x118187a50>"
      ]
     },
     "metadata": {},
     "output_type": "display_data"
    }
   ],
   "source": [
    "logPlot = plt.gca()\n",
    "logPlot.loglog(distance_in_rg,height)\n",
    "plt.xlabel('a [Rg]',fontsize=18)\n",
    "plt.ylabel('height [Rg]',fontsize=18)\n",
    "#plt.plot([2.55675200e+00,  4.50238131e+01], [ 5.97419825e-01,1.63274396e+00], c='r')\n",
    "#plt.plot([4.50238131e+01,1.14109211e+02], [1.63274396e+00,4.09214110e+00], c='y')\n",
    "#plt.plot([1.14109211e+02,3.69555994e+02], [4.09214110e+00, 3.73721635e+00 ], c='g')\n",
    "#plt.plot([3.69555994e+02,9.16892670e+02],[4.09214110e+00,6.98714721e+00], color='orange')\n",
    "#plt.plot([9.16892670e+02,8.32494014e+06],[6.98714721e+00, 6.01085228e+06], c='b' )\n",
    "plt.savefig('hovera.png', dpi=300, bbox_inches='tight')"
   ]
  },
  {
   "cell_type": "code",
   "execution_count": 9,
   "metadata": {
    "collapsed": false
   },
   "outputs": [
    {
     "data": {
      "text/plain": [
       "[<matplotlib.lines.Line2D at 0x1183c2d10>]"
      ]
     },
     "execution_count": 9,
     "metadata": {},
     "output_type": "execute_result"
    },
    {
     "data": {
      "image/png": "[encoded data removed]",
      "text/plain": [
       "<matplotlib.figure.Figure at 0x115a45f90>"
      ]
     },
     "metadata": {},
     "output_type": "display_data"
    }
   ],
   "source": [
    "logPlot = plt.gca()\n",
    "logPlot.loglog([2.55675200e+00,  4.50238131e+01], [ 5.97419825e-01,1.63274396e+00], c='r')\n",
    "logPlot.loglog([4.50238131e+01,1.14109211e+02], [1.63274396e+00,4.09214110e+00], c='y')\n",
    "logPlot.loglog([1.14109211e+02,3.69555994e+02], [4.09214110e+00, 3.73721635e+00 ], c='g')\n",
    "logPlot.loglog([3.69555994e+02,9.16892670e+02],[4.09214110e+00,6.98714721e+00], color='orange')\n",
    "logPlot.loglog([9.16892670e+02,8.32494014e+06],[6.98714721e+00, 6.01085228e+06], c='b')"
   ]
  },
  {
   "cell_type": "markdown",
   "metadata": {},
   "source": [
    "# Surf.density vs a"
   ]
  },
  {
   "cell_type": "code",
   "execution_count": 10,
   "metadata": {
    "collapsed": false,
    "scrolled": false
   },
   "outputs": [],
   "source": [
    "text_file2 = np.loadtxt('SurfaceDensity.txt', dtype = 'float')\n",
    "a2 = text_file2[:,0]\n",
    "surface_density = text_file2[:,1]"
   ]
  },
  {
   "cell_type": "code",
   "execution_count": 11,
   "metadata": {
    "collapsed": false
   },
   "outputs": [],
   "source": [
    "unlog_sd = 10**text_file2[:,1]\n",
    "unlog_a2 = (10**a2)*2"
   ]
  },
  {
   "cell_type": "code",
   "execution_count": 12,
   "metadata": {
    "collapsed": false
   },
   "outputs": [
    {
     "name": "stdout",
     "output_type": "stream",
     "text": [
      "[  5.19331195e+00   7.54408499e+00   1.32083879e+01   3.02837865e+01\n",
      "   6.00492342e+01   7.54408499e+01   9.09259094e+01   1.14231730e+02\n",
      "   1.32083879e+02   1.52725965e+02   1.87932966e+02   2.36103306e+02\n",
      "   2.90530785e+02   3.50165406e+02   4.22040686e+02   5.30216720e+02\n",
      "   6.80082387e+02   9.09259094e+02   1.11886514e+03   1.45007464e+03\n",
      "   1.84074640e+03   2.96620503e+03   7.23749962e+03   2.26508263e+04\n",
      "   7.70221400e+04   2.46104801e+05   6.39049501e+05   2.31256026e+06\n",
      "   6.39049501e+06   1.72968466e+07]\n"
     ]
    }
   ],
   "source": [
    "print unlog_a2"
   ]
  },
  {
   "cell_type": "code",
   "execution_count": 13,
   "metadata": {
    "collapsed": false
   },
   "outputs": [],
   "source": [
    "def m(x1,x2,y1,y2):\n",
    "    slope=(y2-y1)/(x2-x1)\n",
    "    return slope\n",
    "def b(x1,x2,y1,y2):\n",
    "    yint=y1-(m(x1,x2,y1,y2)*x1)\n",
    "    return yint"
   ]
  },
  {
   "cell_type": "code",
   "execution_count": 14,
   "metadata": {
    "collapsed": false
   },
   "outputs": [
    {
     "data": {
      "image/png": "[encoded data removed]",
      "text/plain": [
       "<matplotlib.figure.Figure at 0x1188fb150>"
      ]
     },
     "metadata": {},
     "output_type": "display_data"
    }
   ],
   "source": [
    "logPlot=plt.gca()\n",
    "logPlot.loglog(a1_in_rg,height)\n",
    "logPlot.set_xlabel('a/rg') \n",
    "logPlot.set_ylabel('h')\n",
    "for i in range(len(h_)-1):\n",
    "    j=i+1\n",
    "    rad = np.arange(h_[i,0],h_[j,0],h_[j,0]/h_[i,0])\n",
    "    h_p= (m(h_[i,0],h_[j,0],h_[i,1],h_[j,1])*rad)+b(h_[i,0],h_[j,0],h_[i,1],h_[j,1])\n",
    "\n",
    "    logPlot=plt.gca()\n",
    "    logPlot.loglog(rad,h_p)\n",
    "    "
   ]
  },
  {
   "cell_type": "code",
   "execution_count": null,
   "metadata": {
    "collapsed": false
   },
   "outputs": [],
   "source": []
  },
  {
   "cell_type": "code",
   "execution_count": 15,
   "metadata": {
    "collapsed": false
   },
   "outputs": [
    {
     "data": {
      "text/plain": [
       "[<matplotlib.lines.Line2D at 0x1188c8c10>]"
      ]
     },
     "execution_count": 15,
     "metadata": {},
     "output_type": "execute_result"
    },
    {
     "data": {
      "image/png": "[encoded data removed]",
      "text/plain": [
       "<matplotlib.figure.Figure at 0x1188c8c90>"
      ]
     },
     "metadata": {},
     "output_type": "display_data"
    }
   ],
   "source": [
    "logPlot=plt.gca()\n",
    "logPlot.loglog(unlog_a2,unlog_sd)"
   ]
  },
  {
   "cell_type": "code",
   "execution_count": null,
   "metadata": {
    "collapsed": false
   },
   "outputs": [],
   "source": []
  },
  {
   "cell_type": "code",
   "execution_count": null,
   "metadata": {
    "collapsed": true
   },
   "outputs": [],
   "source": []
  },
  {
   "cell_type": "markdown",
   "metadata": {},
   "source": [
    "# This is velocity vs. distance"
   ]
  },
  {
   "cell_type": "code",
   "execution_count": 16,
   "metadata": {
    "collapsed": false
   },
   "outputs": [],
   "source": [
    "c = 6.67e-11*2*1.99e30*10**8\n",
    "#d = text_file1[:,0]\n",
    "#distance2= 10**d\n",
    "\n",
    "distance_in_meters = a1*(2*c)\n",
    "speed_of_light_squared=(3e8)**2\n",
    "distance = (distance_in_meters/speed_of_light_squared)\n",
    "\n",
    "distance_in_rg = distance/(1.5*10**11)\n",
    "velocity = (c/distance)**(1/2.0)*10**(-3)\n"
   ]
  },
  {
   "cell_type": "code",
   "execution_count": 17,
   "metadata": {
    "collapsed": false
   },
   "outputs": [
    {
     "data": {
      "image/png": "[encoded data removed]",
      "text/plain": [
       "<matplotlib.figure.Figure at 0x12822f090>"
      ]
     },
     "metadata": {},
     "output_type": "display_data"
    }
   ],
   "source": [
    "logPlot=plt.gca()\n",
    "logPlot.loglog(distance_in_rg,velocity)\n",
    "plt.xlabel('a [Rg]',fontsize=18)\n",
    "plt.ylabel('v [km/s]',fontsize=18)\n",
    "plt.savefig('velocity.png', dpi=300, bbox_inches='tight')"
   ]
  },
  {
   "cell_type": "markdown",
   "metadata": {},
   "source": [
    "# T Orbit vs. Distance"
   ]
  },
  {
   "cell_type": "code",
   "execution_count": 18,
   "metadata": {
    "collapsed": false
   },
   "outputs": [],
   "source": [
    "pi = 3.14\n",
    "T_Orb = (2*np.pi*distance_in_rg*1.5*10**8)/velocity"
   ]
  },
  {
   "cell_type": "code",
   "execution_count": 19,
   "metadata": {
    "collapsed": false
   },
   "outputs": [
    {
     "name": "stdout",
     "output_type": "stream",
     "text": [
      "[  7.14336614e+04   1.13690707e+05   1.64853070e+05   2.31734595e+05\n",
      "   3.57447648e+05   6.04881166e+05   9.92419501e+05   1.53052509e+06\n",
      "   2.08542669e+06   2.93128603e+06   3.75472775e+06   5.27877819e+06\n",
      "   6.97750247e+06   9.51426805e+06   1.25781965e+07   1.61172686e+07\n",
      "   2.12986001e+07   2.90225853e+07   3.60381786e+07   4.75968209e+07\n",
      "   6.89747653e+07   9.39621653e+07   1.24133894e+08   1.54167747e+08\n",
      "   2.16737073e+08   2.86428179e+08   3.90473708e+08   4.85118409e+08\n",
      "   6.82496933e+08   1.05387320e+09   3.32263831e+09   1.88914047e+10\n",
      "   1.17886713e+11   5.56386557e+11   2.11316354e+12   2.16651929e+13\n",
      "   1.39462256e+14   4.19702622e+14]\n"
     ]
    },
    {
     "data": {
      "image/png": "[encoded data removed]",
      "text/plain": [
       "<matplotlib.figure.Figure at 0x1408f3610>"
      ]
     },
     "metadata": {},
     "output_type": "display_data"
    }
   ],
   "source": [
    "logPlot=plt.gca()\n",
    "logPlot.loglog(distance_in_rg,T_Orb)\n",
    "plt.xlabel('a [Rg]',fontsize=20)\n",
    "plt.ylabel('t orbit',fontsize=20)\n",
    "\n",
    "print T_Orb"
   ]
  },
  {
   "cell_type": "markdown",
   "metadata": {},
   "source": [
    "# Time in disk vs Distance"
   ]
  },
  {
   "cell_type": "code",
   "execution_count": 20,
   "metadata": {
    "collapsed": false
   },
   "outputs": [],
   "source": [
    "t_in_disk = (ratio1*T_Orb)/2*np.pi"
   ]
  },
  {
   "cell_type": "code",
   "execution_count": 21,
   "metadata": {
    "collapsed": false
   },
   "outputs": [
    {
     "data": {
      "text/plain": [
       "<matplotlib.text.Text at 0x117fb0490>"
      ]
     },
     "execution_count": 21,
     "metadata": {},
     "output_type": "execute_result"
    },
    {
     "data": {
      "image/png": "[encoded data removed]",
      "text/plain": [
       "<matplotlib.figure.Figure at 0x140ae1050>"
      ]
     },
     "metadata": {},
     "output_type": "display_data"
    }
   ],
   "source": [
    "logPlot=plt.gca()\n",
    "logPlot.loglog(distance_in_rg,t_in_disk)\n",
    "plt.xlabel('a [Rg]',fontsize=20)\n",
    "plt.ylabel('t in disk',fontsize=20)"
   ]
  },
  {
   "cell_type": "code",
   "execution_count": 22,
   "metadata": {
    "collapsed": false
   },
   "outputs": [
    {
     "name": "stdout",
     "output_type": "stream",
     "text": [
      "[ 0.36703789  0.33751006  0.29766089  0.25979054  0.21744196  0.16392309\n",
      "  0.12618981  0.10024042  0.08303282  0.07096934  0.06259404  0.05696337\n",
      "  0.05695536  0.05876077  0.0619053   0.06061679  0.0563313   0.04764719\n",
      "  0.04115529  0.03235474  0.02388846  0.0185846   0.01588502  0.01445699\n",
      "  0.01301968  0.01229044  0.011847    0.0119702   0.01335671  0.01537795\n",
      "  0.02262756  0.04059883  0.07437884  0.12534996  0.19534144  0.41634738\n",
      "  0.77887107  1.13416127]\n"
     ]
    }
   ],
   "source": [
    "t_over_T = t_in_disk/T_Orb\n",
    "print t_over_T"
   ]
  },
  {
   "cell_type": "code",
   "execution_count": 23,
   "metadata": {
    "collapsed": false
   },
   "outputs": [
    {
     "data": {
      "text/plain": [
       "<matplotlib.text.Text at 0x1181497d0>"
      ]
     },
     "execution_count": 23,
     "metadata": {},
     "output_type": "execute_result"
    },
    {
     "data": {
      "image/png": "[encoded data removed]",
      "text/plain": [
       "<matplotlib.figure.Figure at 0x140a394d0>"
      ]
     },
     "metadata": {},
     "output_type": "display_data"
    }
   ],
   "source": [
    "logPlot=plt.gca()\n",
    "logPlot.loglog(distance_in_rg,t_over_T)\n",
    "plt.xlabel('a [Rg]',fontsize=20)\n",
    "plt.ylabel('t in disk/t Orb',fontsize=20)"
   ]
  },
  {
   "cell_type": "code",
   "execution_count": 24,
   "metadata": {
    "collapsed": true
   },
   "outputs": [],
   "source": [
    "def slope(dx, dy):\n",
    "    return (dy / dx) if dx else None\n",
    "\n",
    "class Point:\n",
    "    def __init__(self, x, y):\n",
    "        self.x = x\n",
    "        self.y = y\n",
    "\n",
    "    def __str__(self):\n",
    "        return '({}, {})'.format(self.x, self.y)\n",
    "\n",
    "    def __repr__(self):\n",
    "        return 'Point({}, {})'.format(self.x, self.y)\n",
    "\n",
    "    def halfway(self, target):\n",
    "        midx = (self.x + target.x) / 2\n",
    "        midy = (self.y + target.y) / 2\n",
    "        return Point(midx, midy)\n",
    "\n",
    "    def distance(self, target):\n",
    "        dx = target.x - self.x\n",
    "        dy = target.y - self.y\n",
    "        return (dx*dx + dy*dy) ** 0.5\n",
    "\n",
    "    def reflect_x(self):\n",
    "        return Point(-self.x,self.y)\n",
    "\n",
    "    def reflect_y(self):\n",
    "        return Point(self.x,-self.y)\n",
    "\n",
    "    def reflect_x_y(self):\n",
    "        return Point(-self.x, -self.y)\n",
    "\n",
    "    def slope_from_origin(self):\n",
    "        return slope(self.x, self.y)\n",
    "\n",
    "    def slope(self, target):\n",
    "        return slope(target.x - self.x, target.y - self.y)\n",
    "\n",
    "    def y_int(self, target):       # <= here's the magic\n",
    "        return self.y - self.slope(target)*self.x\n",
    "\n",
    "    def line_equation(self, target):\n",
    "        slope = self.slope(target)\n",
    "\n",
    "        y_int = self.y_int(target)\n",
    "        if y_int < 0:\n",
    "            y_int = -y_int\n",
    "            sign = '-'\n",
    "        else:\n",
    "            sign = '+'\n",
    "\n",
    "        return '{}x {} {}'.format(slope, sign, y_int)\n",
    "\n",
    "    def line_function(self, target):\n",
    "        slope = self.slope(target)\n",
    "        y_int = self.y_int(target)\n",
    "        def fn(x):\n",
    "            return slope*x + y_int\n",
    "        return fn"
   ]
  },
  {
   "cell_type": "code",
   "execution_count": 25,
   "metadata": {
    "collapsed": false
   },
   "outputs": [],
   "source": [
    "d_rg = np.array(distance_in_rg)\n",
    "d_rg1 = d_rg[:36]\n",
    "\n",
    "h_=np.zeros((38,2))\n",
    "h_[:,0]=d_rg\n",
    "h_[:,1]=height\n",
    "\n",
    "def hint(a):\n",
    "    for i in range(len(d_rg)-1):\n",
    "        j=i+1\n",
    "        c = Point(d_rg[i],height[i])\n",
    "        d = Point(d_rg[j],height[j])\n",
    "        c_36 = Point(d_rg[36],height[36])\n",
    "        d_37 = Point(d_rg[37],height[37])\n",
    "        if ((a>=d_rg[i]) and (a<d_rg[j])):\n",
    "            return (slope(d_rg[j]-d_rg[i],height[j]-height[i])*a)+(Point.y_int(c,d))\n",
    "        elif ((a==d_rg[37])):\n",
    "            return height[37]\n",
    "        elif ((a>d_rg[37]) and (a<=unlog_a2[29])):\n",
    "            return (slope(harg[37]-d_rg[36],height[37]-height[36])*a)+(Point.y_int(c_36,d_37))\n",
    "    else:\n",
    "        return a*0"
   ]
  },
  {
   "cell_type": "code",
   "execution_count": 26,
   "metadata": {
    "collapsed": false
   },
   "outputs": [],
   "source": [
    "sden_=np.zeros((30,2))\n",
    "sden_[:,0]=unlog_a2\n",
    "sden_[:,1]=unlog_sd\n",
    "\n",
    "def S_int(a):    \n",
    "    for i in range(len(unlog_a2)-1):\n",
    "        j=i+1\n",
    "        c = Point(unlog_a2[i],unlog_sd[i])\n",
    "        d = Point(unlog_a2[j],unlog_sd[j])\n",
    "        c_0 = Point(unlog_a2[0],unlog_sd[0])\n",
    "        d_1 = Point(unlog_a2[1],unlog_sd[1])\n",
    "        if ((a>=d_rg[0]) and (a<unlog_a2[0])):\n",
    "            return (slope(unlog_a2[1]-unlog_a2[0],unlog_sd[1]-unlog_sd[0])*a)+(Point.y_int(c_0,d_1))\n",
    "        elif ((a>=unlog_a2[i]) and (a<unlog_a2[j])):\n",
    "            return (slope(unlog_a2[j]-unlog_a2[i],unlog_sd[j]-unlog_sd[i])*a)+(Point.y_int(c,d))\n",
    "        elif ((a==unlog_a2[29])):\n",
    "            return unlog_sd[29]\n",
    "    else:\n",
    "        return a*0"
   ]
  },
  {
   "cell_type": "code",
   "execution_count": 27,
   "metadata": {
    "collapsed": false
   },
   "outputs": [],
   "source": [
    "denint1=[]\n",
    "for i in range(len(d_rg)):\n",
    "    denint1.append(S_int(d_rg[i]))"
   ]
  },
  {
   "cell_type": "code",
   "execution_count": 28,
   "metadata": {
    "collapsed": false
   },
   "outputs": [],
   "source": [
    "#creating a list of values for interpolated thickness hint\n",
    "h_int1=[]\n",
    "for i in range(len(d_rg1)):\n",
    "    h_int1.append(hint(d_rg[i]))"
   ]
  },
  {
   "cell_type": "code",
   "execution_count": 29,
   "metadata": {
    "collapsed": false
   },
   "outputs": [],
   "source": [
    "def Density(a):\n",
    "    Dcal=S_int(a)/(hint(a)*1.5e+11/100)\n",
    "    return Dcal\n",
    "den1=[]\n",
    "for i in range(len(d_rg1)):\n",
    "    den1.append(Density(d_rg[i]))"
   ]
  },
  {
   "cell_type": "code",
   "execution_count": 30,
   "metadata": {
    "collapsed": true
   },
   "outputs": [],
   "source": [
    "mass = 1.99e+30\n",
    "Force = 0.5*6.088e+18/mass"
   ]
  },
  {
   "cell_type": "code",
   "execution_count": 31,
   "metadata": {
    "collapsed": false
   },
   "outputs": [],
   "source": [
    "def i_crit(distance_in_rg,height):\n",
    "    icrit = np.arcsin(height/(2*distance_in_rg))\n",
    "    return icrit\n",
    "\n",
    "def Speed(d_rg):\n",
    "    speed = (c/(d_rg*1.5e+11))**(1/2.0)*10**(-3)\n",
    "    return speed         \n",
    "\n",
    "\n",
    "def vRely(d_rg, height):\n",
    "    y = (Speed(distance_in_rg)*np.sin(i_crit(distance_in_rg, height)))**2\n",
    "    return y\n",
    "\n",
    "def Torb(d_rg):\n",
    "    orbit = (2*np.pi*d_rg*1.5*10**11)/Speed(d_rg)\n",
    "    return orbit\n",
    "\n",
    "def Density(d_rg):\n",
    "    sigma = (SurfaceDensity(d_rg)/(Height(d_rg)*1.5e+11))*10**(3)\n",
    "    return sigma\n",
    "\n",
    "def dvy(distance_in_rg,height):\n",
    "    dVy = Force*Density(distance_in_rg)*Torb(distance_in_rg)*vRely(distance_in_rg, i_crit)\n",
    "    return dvy"
   ]
  },
  {
   "cell_type": "code",
   "execution_count": 32,
   "metadata": {
    "collapsed": false
   },
   "outputs": [],
   "source": [
    "i_ = np.pi/4,np.pi/3,np.pi/6,np.pi/2\n",
    "i_2 = np.array([np.pi/6,np.pi/3,np.pi/4,np.pi/2])\n",
    "#for j in h_a1:\n",
    "    #for k in T_orb:\n",
    "        #print TinD(j,i,k)"
   ]
  },
  {
   "cell_type": "code",
   "execution_count": 40,
   "metadata": {
    "collapsed": false
   },
   "outputs": [],
   "source": [
    "from numpy import cos,sin,arcsin\n",
    "h_a1 = np.array(ratio1)\n",
    "h_a2 = h_a1[:36]\n",
    "T_orb = np.array(T_Orb*10)\n",
    "T_Orb1 = T_Orb[:36]\n",
    "d_rg = np.array(distance_in_rg)\n",
    "d_km = d_rg1*1.5e+08\n",
    "r_sun = 6.96e+05\n",
    "r_mstar = r_sun*0.4\n",
    "r_Ostar = r_sun*15\n",
    "#r_RG = r_sun*(3/2)\n",
    "Rho = np.array([5.3226935186600863e-06, 5.9765213777357602e-06, 7.3723339743839646e-06, 8.9401791325524744e-06, 1.1261482733997499e-05, 1.6537256918830009e-05, 2.2958058745336347e-05, 2.8447457382521977e-05, 2.9789327173609211e-05, 2.4360195526836645e-05, 1.9631323393403089e-05, 1.5258155544719618e-05, 1.3164486515251008e-05, 1.2516041752612994e-05, 1.3132150172415993e-05, 1.5853404839341584e-05, 2.0749437020210494e-05, 2.8503995674408276e-05, 3.5631581153442283e-05, 4.5908329827371274e-05, 5.8324157677768756e-05, 6.4289903174157269e-05, 6.1009785104746573e-05, 5.6465307937633348e-05, 4.3071360566015997e-05, 2.9500064694192425e-05, 1.7382078903172469e-05, 1.3622937589455536e-05, 8.0137896736367608e-06, 3.3750627357713892e-06, 4.2420449746897986e-07, 1.3387213182609257e-08, 3.3489405588841745e-10, 1.2663886985936325e-11, 9.7054086404354802e-13, 9.6583820155355247e-15])\n",
    "Density_Ratio = np.array(Rho/1410)\n",
    "Density_mstar = np.array(Rho/8806)\n",
    "Density_Ostar = np.array(Rho/27.833)\n",
    "#Density_RG = np.array(Rho/)\n",
    "                         \n",
    "\n",
    "def TinD(h_a2,i_):\n",
    "    t_in_d = np.arcsin(h_a2*1/(2*sin(i_))/np.pi)\n",
    "    return t_in_d"
   ]
  },
  {
   "cell_type": "code",
   "execution_count": 41,
   "metadata": {
    "collapsed": false
   },
   "outputs": [],
   "source": [
    "def inv_n(Density_Ratio,d_km,h_a2,i_):\n",
    "    n_orb = (3*np.pi/4)*(Density_Ratio)*(d_km/r_sun)*sin(i_)*TinD(h_a2,i_)\n",
    "    return n_orb\n",
    "def inv_n1(Density_mstar,d_km,h_a2,i_):\n",
    "    n_orb1 = (3*np.pi/4)*(Density_mstar)*(d_km/r_mstar)*sin(i_)*TinD(h_a2,i_)\n",
    "    return n_orb1\n",
    "def inv_n2(Density_Ostar,d_km,h_a2,i_):\n",
    "    n_orb2 = (3*np.pi/4)*(Density_Ostar)*(d_km/r_Ostar)*sin(i_)*TinD(h_a2,i_)\n",
    "    return n_orb2"
   ]
  },
  {
   "cell_type": "code",
   "execution_count": 42,
   "metadata": {
    "collapsed": false
   },
   "outputs": [],
   "source": [
    "def TgrindPi(Density_Ratio,d_km,h_a2,i_,T_Orb1):\n",
    "    Tg = inv_n(Density_Ratio,d_km,h_a2,i_)**(-1)*T_Orb1/3.154e+7\n",
    "    return Tg\n",
    "def Tgrindm(Density_mstar,d_km,h_a2,i_,T_Orb1):\n",
    "    Tgm = inv_n(Density_mstar,d_km,h_a2,i_)**(-1)*T_Orb1/3.154e+7\n",
    "    return Tgm\n",
    "def TgrindO(Density_Ostar,d_km,h_a2,i_,T_Orb1):\n",
    "    TgO = inv_n(Density_Ostar,d_km,h_a2,i_)**(-1)*T_Orb1/3.154e+7\n",
    "    return TgO "
   ]
  },
  {
   "cell_type": "code",
   "execution_count": 43,
   "metadata": {
    "collapsed": false
   },
   "outputs": [],
   "source": [
    "TGrindPi4 = np.array([3.15813297e+03,3.57143347e+03,3.71603122e+03,3.93338028e+03,4.31089194e+03,4.64071980e+03,5.12177931e+03,6.01198328e+03,7.68392520e+03,1.23149483e+04,1.88166937e+04,2.98021414e+04,3.79136480e+04,4.28618620e+04,4.25574554e+04,3.91034530e+04,3.52799880e+04,3.36618417e+04,3.35091330e+04,3.62967044e+04,4.37889822e+04,5.66056741e+04,7.65739892e+04,9.77185413e+04,1.59353260e+05,2.70470657e+05,5.28030528e+05,7.16829526e+05,1.22368039e+06,2.91689700e+06,2.31270105e+07,7.28988821e+08,2.92838888e+10,7.70755271e+11,1.00681959e+13,1.03072206e+15])   "
   ]
  },
  {
   "cell_type": "code",
   "execution_count": 48,
   "metadata": {
    "collapsed": false
   },
   "outputs": [
    {
     "data": {
      "text/plain": [
       "<matplotlib.text.Text at 0x140a72e50>"
      ]
     },
     "execution_count": 48,
     "metadata": {},
     "output_type": "execute_result"
    },
    {
     "data": {
      "image/png": "[encoded data removed]",
      "text/plain": [
       "<matplotlib.figure.Figure at 0x140b3f1d0>"
      ]
     },
     "metadata": {},
     "output_type": "display_data"
    }
   ],
   "source": [
    "logPlot = plt.gca()\n",
    "logPlot.loglog(d_rg1,TGrindPi4,c ='b',label = 'Sun')\n",
    "logPlot.loglog(d_rg1,Tgrindm(Density_mstar,d_km,h_a2,np.pi/4,T_Orb1), c= 'r', label='M Star')\n",
    "logPlot.loglog(d_rg1,TgrindO(Density_Ostar,d_km,h_a2,np.pi/4,T_Orb1), c= 'y', label='O Star')\n",
    "plt.legend()\n",
    "plt.xlabel('Distance[Rg]',size=20)\n",
    "plt.ylabel('Time Grind [Years]',size=20)"
   ]
  },
  {
   "cell_type": "code",
   "execution_count": null,
   "metadata": {
    "collapsed": false
   },
   "outputs": [],
   "source": [
    " 0.3*mass"
   ]
  }
 ],
 "metadata": {
  "kernelspec": {
   "display_name": "Python 2",
   "language": "python",
   "name": "python2"
  },
  "language_info": {
   "codemirror_mode": {
    "name": "ipython",
    "version": 2
   },
   "file_extension": ".py",
   "mimetype": "text/x-python",
   "name": "python",
   "nbconvert_exporter": "python",
   "pygments_lexer": "ipython2",
   "version": "2.7.13"
  }
 },
 "nbformat": 4,
 "nbformat_minor": 2
}
