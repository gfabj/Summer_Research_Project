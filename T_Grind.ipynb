{
 "cells": [
  {
   "cell_type": "code",
   "execution_count": 1,
   "metadata": {
    "collapsed": true
   },
   "outputs": [],
   "source": [
    "import numpy as np\n",
    "import matplotlib.pyplot as plt\n",
    "import pandas as pd\n",
    "import astropy\n",
    "%matplotlib inline\n",
    "import pylab\n",
    "import math"
   ]
  },
  {
   "cell_type": "code",
   "execution_count": 2,
   "metadata": {
    "collapsed": false
   },
   "outputs": [
    {
     "name": "stdout",
     "output_type": "stream",
     "text": [
      "[  1.32666709e+05   1.13628673e+05   1.00391570e+05   8.96188363e+04\n",
      "   7.75637462e+04   6.50887959e+04   5.51862853e+04   4.77656956e+04\n",
      "   4.30855144e+04   3.84630328e+04   3.54163206e+04   3.16144128e+04\n",
      "   2.88068823e+04   2.59779253e+04   2.36695572e+04   2.17921013e+04\n",
      "   1.98584755e+04   1.79122810e+04   1.66651277e+04   1.51892714e+04\n",
      "   1.34224825e+04   1.21081721e+04   1.10348423e+04   1.02659328e+04\n",
      "   9.16400231e+03   8.35072812e+03   7.53122564e+03   7.00562693e+03\n",
      "   6.25214954e+03   5.40920539e+03   3.68894264e+03   2.06684627e+03\n",
      "   1.12264205e+03   6.69274146e+02   4.28961737e+02   1.97458305e+02\n",
      "   1.06147726e+02   7.35217265e+01]\n"
     ]
    }
   ],
   "source": [
    "from numpy import array\n",
    "np.arange(38)\n",
    "velocity = array([1.32666709e+05, 1.13628673e+05, 1.00391570e+05, 8.96188363e+04, 7.75637462e+04, 6.50887959e+04, 5.51862853e+04, 4.77656956e+04, 4.30855144e+04, 3.84630328e+04, 3.54163206e+04, 3.16144128e+04, 2.88068823e+04, 2.59779253e+04, 2.36695572e+04, 2.17921013e+04, 1.98584755e+04, 1.79122810e+04, 1.66651277e+04, 1.51892714e+04, 1.34224825e+04, 1.21081721e+04, 1.10348423e+04, 1.02659328e+04, 9.16400231e+03, 8.35072812e+03, 7.53122564e+03, 7.00562693e+03, 6.25214954e+03, 5.40920539e+03, 3.68894264e+03, 2.06684627e+03, 1.12264205e+03, 6.69274146e+02, 4.28961737e+02, 1.97458305e+02, 1.06147726e+02, 7.35217265e+01])\n",
    "print velocity"
   ]
  },
  {
   "cell_type": "code",
   "execution_count": 3,
   "metadata": {
    "collapsed": false
   },
   "outputs": [],
   "source": [
    "def slope(dx, dy):\n",
    "    return (dy / dx) if dx else None\n",
    "\n",
    "class Point:\n",
    "    def __init__(self, x, y):\n",
    "        self.x = x\n",
    "        self.y = y\n",
    "\n",
    "    def __str__(self):\n",
    "        return '({}, {})'.format(self.x, self.y)\n",
    "\n",
    "    def __repr__(self):\n",
    "        return 'Point({}, {})'.format(self.x, self.y)\n",
    "\n",
    "    def halfway(self, target):\n",
    "        midx = (self.x + target.x) / 2\n",
    "        midy = (self.y + target.y) / 2\n",
    "        return Point(midx, midy)\n",
    "\n",
    "    def distance(self, target):\n",
    "        dx = target.x - self.x\n",
    "        dy = target.y - self.y\n",
    "        return (dx*dx + dy*dy) ** 0.5\n",
    "\n",
    "    def reflect_x(self):\n",
    "        return Point(-self.x,self.y)\n",
    "\n",
    "    def reflect_y(self):\n",
    "        return Point(self.x,-self.y)\n",
    "\n",
    "    def reflect_x_y(self):\n",
    "        return Point(-self.x, -self.y)\n",
    "\n",
    "    def slope_from_origin(self):\n",
    "        return slope(self.x, self.y)\n",
    "\n",
    "    def slope(self, target):\n",
    "        return slope(target.x - self.x, target.y - self.y)\n",
    "\n",
    "    def y_int(self, target):       # <= here's the magic\n",
    "        return self.y - self.slope(target)*self.x\n",
    "\n",
    "    def line_equation(self, target):\n",
    "        slope = self.slope(target)\n",
    "\n",
    "        y_int = self.y_int(target)\n",
    "        if y_int < 0:\n",
    "            y_int = -y_int\n",
    "            sign = '-'\n",
    "        else:\n",
    "            sign = '+'\n",
    "\n",
    "        return 'y = {}x {} {}'.format(slope, sign, y_int)\n",
    "\n",
    "    def line_function(self, target):\n",
    "        slope = self.slope(target)\n",
    "        y_int = self.y_int(target)\n",
    "        def fn(x):\n",
    "            return slope*x + y_int\n",
    "        return fn"
   ]
  },
  {
   "cell_type": "code",
   "execution_count": 4,
   "metadata": {
    "collapsed": false
   },
   "outputs": [
    {
     "name": "stdout",
     "output_type": "stream",
     "text": [
      "y = -0.00404981413383x + 132666.749722\n",
      "y = 12819041.8018x - 128827492.797\n"
     ]
    }
   ],
   "source": [
    "c1 = Point(1.00552700e+01,1.32666709e+05)\n",
    "d1 = Point(3.27405712e+07, 7.35217265e+01)\n",
    "print(c1.line_equation(d1))\n",
    "\n",
    "t1 = Point(1.00552700e+01, 7.14336614e+04)\n",
    "t2 = Point(3.27405712e+07, 4.19702622e+14)\n",
    "print(t1.line_equation(t2))"
   ]
  },
  {
   "cell_type": "code",
   "execution_count": 5,
   "metadata": {
    "collapsed": false
   },
   "outputs": [],
   "source": [
    "def Speed(x):\n",
    "    if ((x >= 1.00552700e+01) & (x <= 3.27405712e+07)):\n",
    "        return -0.00404981413383*x + 132666.749722\n",
    "    else:\n",
    "        return 3*x"
   ]
  },
  {
   "cell_type": "code",
   "execution_count": 6,
   "metadata": {
    "collapsed": false
   },
   "outputs": [
    {
     "name": "stdout",
     "output_type": "stream",
     "text": [
      "73.5217265726\n"
     ]
    }
   ],
   "source": [
    "print Speed(3.27405712e+07)"
   ]
  },
  {
   "cell_type": "code",
   "execution_count": 7,
   "metadata": {
    "collapsed": false
   },
   "outputs": [],
   "source": [
    "   def Time_in_Orbit(x):\n",
    "    if ((x >= 1.00552700e+01) & (x <= 3.27405712e+07)):\n",
    "        return 12819041.8018*x - 128827492.797\n",
    "    else:\n",
    "        return 3*x"
   ]
  },
  {
   "cell_type": "code",
   "execution_count": 45,
   "metadata": {
    "collapsed": false
   },
   "outputs": [],
   "source": [
    "#np.arange(9)\n",
    "#i = array([0, np.pi/6, np.pi/4, np.pi/3, np.pi/2, np.pi*2/3, np.pi*3/4, np.pi*5/6, np.pi])\n",
    "#print i"
   ]
  },
  {
   "cell_type": "code",
   "execution_count": 46,
   "metadata": {
    "collapsed": false
   },
   "outputs": [],
   "source": [
    "from numpy import cos,sin\n",
    "\n",
    "#Vx = Speed(1.00552700e+01)*cos(i)\n",
    "#Vy = Speed(1.00552700e+01)*sin(i)\n",
    "\n",
    "#Vx1 = Speed(3.27405712e+07)*cos(i)\n",
    "#Vy1 = Speed(3.27405712e+07)*sin(i)\n",
    "\n",
    "#print Vx"
   ]
  },
  {
   "cell_type": "code",
   "execution_count": 70,
   "metadata": {
    "collapsed": false
   },
   "outputs": [],
   "source": [
    "np.arange(9)\n",
    "time = array([Time_in_Orbit(1.00552700e+01), Time_in_Orbit(1.19627381e+02),Time_in_Orbit(7.67085479e+02), Time_in_Orbit(1.20714788e+03), Time_in_Orbit(1.30051044e+04), Time_in_Orbit( 1.40421962e+05),Time_in_Orbit(4.53906956e+06), Time_in_Orbit(1.57071089e+07), Time_in_Orbit(3.27405712e+07)])\n",
    "np.arange(9)\n",
    "time2 = array([Time_in_Orbit(1.19627381e+02),Time_in_Orbit(7.67085479e+02), Time_in_Orbit(1.20714788e+03), Time_in_Orbit(1.30051044e+04), Time_in_Orbit( 1.40421962e+05),Time_in_Orbit(4.53906956e+06), Time_in_Orbit(3.27405712e+07)])"
   ]
  },
  {
   "cell_type": "code",
   "execution_count": 61,
   "metadata": {
    "collapsed": false
   },
   "outputs": [
    {
     "name": "stdout",
     "output_type": "stream",
     "text": [
      "[  7.14336614e+04   1.40468090e+09   9.70447333e+09   1.53456516e+10\n",
      "   1.66584149e+11   1.79994617e+12   5.81863936e+13   2.01349957e+14\n",
      "   4.19702622e+14]\n"
     ]
    }
   ],
   "source": [
    "time1 = [10**1,10**2,10**3,10**4,10**5,10**6,10**7]\n",
    "print time"
   ]
  },
  {
   "cell_type": "code",
   "execution_count": 106,
   "metadata": {
    "collapsed": false
   },
   "outputs": [
    {
     "data": {
      "text/plain": [
       "[<matplotlib.lines.Line2D at 0x11f4e8210>]"
      ]
     },
     "execution_count": 106,
     "metadata": {},
     "output_type": "execute_result"
    },
    {
     "data": {
      "image/png": "[encoded data removed]",
      "text/plain": [
       "<matplotlib.figure.Figure at 0x11f4e8090>"
      ]
     },
     "metadata": {},
     "output_type": "display_data"
    }
   ],
   "source": [
    "logPlot = plt.gca()\n",
    "plt.plot(np.log10(time1),Vx)"
   ]
  },
  {
   "cell_type": "code",
   "execution_count": 105,
   "metadata": {
    "collapsed": false
   },
   "outputs": [
    {
     "data": {
      "text/plain": [
       "[<matplotlib.lines.Line2D at 0x11f70e410>]"
      ]
     },
     "execution_count": 105,
     "metadata": {},
     "output_type": "execute_result"
    },
    {
     "data": {
      "image/png": "[encoded data removed]",
      "text/plain": [
       "<matplotlib.figure.Figure at 0x11f70e050>"
      ]
     },
     "metadata": {},
     "output_type": "display_data"
    }
   ],
   "source": [
    "logPlot = plt.gca()\n",
    "logPlot.loglog(time1,Vy)"
   ]
  },
  {
   "cell_type": "code",
   "execution_count": 97,
   "metadata": {
    "collapsed": false
   },
   "outputs": [
    {
     "name": "stdout",
     "output_type": "stream",
     "text": [
      "[ 3.14159265  3.66519143  4.1887902   4.71238898  5.23598776  5.75958653\n",
      "  6.28318531]\n"
     ]
    }
   ],
   "source": [
    "i = np.arange(np.pi,np.pi*13/6,np.pi/6)\n",
    "i = i[:7]\n",
    "print i"
   ]
  },
  {
   "cell_type": "code",
   "execution_count": 98,
   "metadata": {
    "collapsed": false
   },
   "outputs": [
    {
     "name": "stdout",
     "output_type": "stream",
     "text": [
      "[ -1.32666709e+05  -1.14892740e+05  -6.63333545e+04  -2.43704791e-11\n",
      "   6.63333545e+04   1.14892740e+05   1.32666709e+05]\n",
      "[  1.62469861e-11  -6.63333545e+04  -1.14892740e+05  -1.32666709e+05\n",
      "  -1.14892740e+05  -6.63333545e+04  -1.50325680e-10]\n"
     ]
    }
   ],
   "source": [
    "Vx = Speed(1.00552700e+01)*cos(i)\n",
    "Vy = Speed(1.00552700e+01)*sin(i)\n",
    "print Vx\n",
    "print Vy"
   ]
  },
  {
   "cell_type": "code",
   "execution_count": 99,
   "metadata": {
    "collapsed": false
   },
   "outputs": [
    {
     "name": "stdout",
     "output_type": "stream",
     "text": [
      "[-132666.70900002544, -114892.74023049968, -66333.354500012778, 0.0, 66333.354500012618, 114892.74023049956, 132666.70900002544]\n"
     ]
    }
   ],
   "source": [
    "Vx1 = []\n",
    "for j in Vx:\n",
    "    if np.fabs(j) < 10e-05:\n",
    "        Vx1.append(0.0)\n",
    "    else:\n",
    "        Vx1.append(j)\n",
    "print Vx1"
   ]
  },
  {
   "cell_type": "code",
   "execution_count": 100,
   "metadata": {
    "collapsed": false
   },
   "outputs": [
    {
     "name": "stdout",
     "output_type": "stream",
     "text": [
      "[0.0, -66333.354500012691, -114892.74023049962, -132666.70900002544, -114892.74023049971, -66333.35450001288, 0.0]\n"
     ]
    }
   ],
   "source": [
    "Vy1 = []\n",
    "for j in Vy:\n",
    "    if np.fabs(j) < 10e-05:\n",
    "        Vy1.append(0.0)\n",
    "    else:\n",
    "        Vy1.append(j)\n",
    "print Vy1"
   ]
  },
  {
   "cell_type": "code",
   "execution_count": 103,
   "metadata": {
    "collapsed": false
   },
   "outputs": [
    {
     "data": {
      "image/png": "[encoded data removed]",
      "text/plain": [
       "<matplotlib.figure.Figure at 0x11f5a0950>"
      ]
     },
     "metadata": {},
     "output_type": "display_data"
    }
   ],
   "source": [
    "logPlot = plt.gca()\n",
    "plt.plot(np.log10(time2),Vx1)\n",
    "plt.xlabel('time',fontsize=16)\n",
    "plt.ylabel('Velocity x',fontsize=16)\n",
    "plt.savefig('Vx1.pdf')"
   ]
  },
  {
   "cell_type": "code",
   "execution_count": 104,
   "metadata": {
    "collapsed": false
   },
   "outputs": [
    {
     "data": {
      "image/png": "[encoded data removed]",
      "text/plain": [
       "<matplotlib.figure.Figure at 0x11f6595d0>"
      ]
     },
     "metadata": {},
     "output_type": "display_data"
    }
   ],
   "source": [
    "logPlot = plt.gca()\n",
    "plt.plot(np.log10(time1),Vy1)\n",
    "plt.xlabel('time',fontsize=16)\n",
    "plt.ylabel('Velocity y',fontsize=16)\n",
    "plt.savefig('Vy1.pdf')"
   ]
  },
  {
   "cell_type": "code",
   "execution_count": null,
   "metadata": {
    "collapsed": true
   },
   "outputs": [],
   "source": [
    "Vxa = Speed()*cos(i)\n",
    "Vya = Speed()*sin(i)\n",
    "print Vxa\n",
    "print Vya"
   ]
  }
 ],
 "metadata": {
  "kernelspec": {
   "display_name": "Python 2",
   "language": "python",
   "name": "python2"
  },
  "language_info": {
   "codemirror_mode": {
    "name": "ipython",
    "version": 2
   },
   "file_extension": ".py",
   "mimetype": "text/x-python",
   "name": "python",
   "nbconvert_exporter": "python",
   "pygments_lexer": "ipython2",
   "version": "2.7.13"
  }
 },
 "nbformat": 4,
 "nbformat_minor": 2
}
