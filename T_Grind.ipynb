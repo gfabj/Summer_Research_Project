{
 "cells": [
  {
   "cell_type": "code",
   "execution_count": 1,
   "metadata": {
    "collapsed": true
   },
   "outputs": [],
   "source": [
    "import numpy as np\n",
    "import matplotlib.pyplot as plt\n",
    "import pandas as pd\n",
    "import astropy\n",
    "%matplotlib inline\n",
    "import pylab\n",
    "import math"
   ]
  },
  {
   "cell_type": "code",
   "execution_count": 2,
   "metadata": {
    "collapsed": false
   },
   "outputs": [],
   "source": [
    "from numpy import array\n",
    "#np.arange(38)\n",
    "#velocity = array([1.32666709e+05, 1.13628673e+05, 1.00391570e+05, 8.96188363e+04, 7.75637462e+04, 6.50887959e+04, 5.51862853e+04, 4.77656956e+04, 4.30855144e+04, 3.84630328e+04, 3.54163206e+04, 3.16144128e+04, 2.88068823e+04, 2.59779253e+04, 2.36695572e+04, 2.17921013e+04, 1.98584755e+04, 1.79122810e+04, 1.66651277e+04, 1.51892714e+04, 1.34224825e+04, 1.21081721e+04, 1.10348423e+04, 1.02659328e+04, 9.16400231e+03, 8.35072812e+03, 7.53122564e+03, 7.00562693e+03, 6.25214954e+03, 5.40920539e+03, 3.68894264e+03, 2.06684627e+03, 1.12264205e+03, 6.69274146e+02, 4.28961737e+02, 1.97458305e+02, 1.06147726e+02, 7.35217265e+01])"
   ]
  },
  {
   "cell_type": "code",
   "execution_count": 3,
   "metadata": {
    "collapsed": false
   },
   "outputs": [],
   "source": [
    "#i = np.arange(np.pi,np.pi*13/6,np.pi/6)\n",
    "#i = i[:7]"
   ]
  },
  {
   "cell_type": "code",
   "execution_count": 4,
   "metadata": {
    "collapsed": false
   },
   "outputs": [],
   "source": [
    "#Vx1 = []\n",
    "#for j in Vx:\n",
    "    #if np.fabs(j) < 10e-05:\n",
    "        #Vx1.append(0.0)\n",
    "    #else:\n",
    "        #Vx1.append(j)\n",
    "#print Vx1"
   ]
  },
  {
   "cell_type": "code",
   "execution_count": 5,
   "metadata": {
    "collapsed": false
   },
   "outputs": [],
   "source": [
    "#Vy1 = []\n",
    "#for j in Vy:\n",
    "    #if np.fabs(j) < 10e-05:\n",
    "        #Vy1.append(0.0)\n",
    "    #else:\n",
    "        #Vy1.append(j)\n",
    "#print Vy1"
   ]
  },
  {
   "cell_type": "code",
   "execution_count": 6,
   "metadata": {
    "collapsed": false
   },
   "outputs": [],
   "source": [
    "Rg = 1.30051044e+04\n",
    "\n",
    "Speed = 3.68894264e+03\n",
    "\n",
    "from numpy import cos,sin\n",
    "Vy = Speed*sin(np.pi/4)\n",
    "\n",
    "T_Orb = 2*np.pi*Rg*(1.5*10**8)/Speed\n",
    "\n",
    "from numpy import array\n",
    "np.arange(4)\n",
    "Period2 = array([T_Orb*1, T_Orb*2, T_Orb*3, T_Orb*4, T_Orb*5, T_Orb*6, T_Orb*7, T_Orb*8])\n",
    "Period = array([T_Orb*1, T_Orb*2, T_Orb*3, T_Orb*4, T_Orb*5, T_Orb*6, T_Orb*7, T_Orb*8, T_Orb*9, T_Orb*10,T_Orb*11, T_Orb*12, T_Orb*13, T_Orb*14])\n"
   ]
  },
  {
   "cell_type": "code",
   "execution_count": 27,
   "metadata": {
    "collapsed": false
   },
   "outputs": [
    {
     "name": "stdout",
     "output_type": "stream",
     "text": [
      "2608.47635615\n",
      "[  8.74597440e-06   1.74919488e-05   2.62379232e-05   3.49838976e-05\n",
      "   4.37298720e-05   5.24758464e-05   6.12218208e-05   6.99677952e-05\n",
      "   7.87137696e-05   8.74597440e-05   9.62057184e-05   1.04951693e-04\n",
      "   1.13697667e-04   1.22443642e-04]\n"
     ]
    }
   ],
   "source": [
    "V_r = (Speed*sin(np.pi/4))**2\n",
    "const = (0.5*2.52906361193e-10*6.088e+18)/(1.99e+30)\n",
    "# dv = F*dt/m\n",
    "dv = (V_r*const*Period)\n",
    "\n",
    "v_pi_over4 = dv/Vy\n",
    "\n",
    "print Vy\n",
    "print dv"
   ]
  },
  {
   "cell_type": "code",
   "execution_count": 28,
   "metadata": {
    "collapsed": false
   },
   "outputs": [
    {
     "name": "stdout",
     "output_type": "stream",
     "text": [
      "[  8.21290733e-09   1.64258147e-08   2.46387220e-08   3.28516293e-08\n",
      "   4.10645366e-08   4.92774440e-08   5.74903513e-08   6.57032586e-08\n",
      "   7.39161659e-08   8.21290733e-08   9.03419806e-08   9.85548879e-08\n",
      "   1.06767795e-07   1.14980703e-07]\n"
     ]
    }
   ],
   "source": [
    "Vy1 = Speed*sin(np.pi/3)\n",
    "\n",
    "V_r1 = (Speed*sin(np.pi/3))**2\n",
    "const = (2.52906361193e-10*6.088e+18)/(1.99e+30)\n",
    "\n",
    "dv1 = V_r1*const*Period\n",
    "\n",
    "v_pi_over3 = dv1/Vy1\n",
    "\n",
    "print v_pi_over3"
   ]
  },
  {
   "cell_type": "code",
   "execution_count": 29,
   "metadata": {
    "collapsed": true
   },
   "outputs": [],
   "source": [
    "Vy2 = Speed*sin(np.pi/6)\n",
    "\n",
    "V_r2 = (Speed*sin(np.pi/6))**2\n",
    "const = (0.5*2.52906361193e-10*6.088e+18)/(1.99e+30)\n",
    "\n",
    "dv2 = V_r2*const*Period\n",
    "\n",
    "v_pi_over6 = dv2/Vy2"
   ]
  },
  {
   "cell_type": "code",
   "execution_count": 30,
   "metadata": {
    "collapsed": true
   },
   "outputs": [],
   "source": [
    "Vy3 = Speed*sin(np.pi/2)\n",
    "\n",
    "V_r3 = (Speed*sin(np.pi/2))**2\n",
    "const = (0.5*2.52906361193e-10*6.088e+18)/(1.99e+30)\n",
    "\n",
    "dv3 = V_r3*const*Period\n",
    "\n",
    "v_pi_over2 = dv3/Vy3"
   ]
  },
  {
   "cell_type": "code",
   "execution_count": 31,
   "metadata": {
    "collapsed": false
   },
   "outputs": [
    {
     "data": {
      "image/png": "[encoded data removed]",
      "text/plain": [
       "<matplotlib.figure.Figure at 0x116ea8190>"
      ]
     },
     "metadata": {},
     "output_type": "display_data"
    }
   ],
   "source": [
    "plt.plot(Period,v_pi_over6, c='b',label = 'pi over 6')\n",
    "plt.plot(Period,v_pi_over3, color='green', label = 'pi over 3')\n",
    "plt.plot(Period,v_pi_over2, color='orange', label = 'pi over 2')\n",
    "plt.plot(Period,v_pi_over4, c='r',label = 'pi over 4')\n",
    "\n",
    "\n",
    "plt.xlabel('Orbit',fontsize=20)\n",
    "plt.ylabel('Vy/dvy',fontsize=20)\n",
    "plt.legend()\n",
    "plt.savefig('ratio vs orbit.pdf')"
   ]
  },
  {
   "cell_type": "code",
   "execution_count": 12,
   "metadata": {
    "collapsed": true
   },
   "outputs": [],
   "source": [
    "inv_t = 1/Period"
   ]
  },
  {
   "cell_type": "code",
   "execution_count": 13,
   "metadata": {
    "collapsed": false
   },
   "outputs": [
    {
     "data": {
      "text/plain": [
       "[<matplotlib.lines.Line2D at 0x11704ee50>]"
      ]
     },
     "execution_count": 13,
     "metadata": {},
     "output_type": "execute_result"
    },
    {
     "data": {
      "image/png": "[encoded data removed]",
      "text/plain": [
       "<matplotlib.figure.Figure at 0x1147e4250>"
      ]
     },
     "metadata": {},
     "output_type": "display_data"
    }
   ],
   "source": [
    "plt.plot(Period,dv)\n",
    "plt.plot(Period,dv1)\n",
    "plt.plot(Period,dv2)"
   ]
  },
  {
   "cell_type": "code",
   "execution_count": 32,
   "metadata": {
    "collapsed": false
   },
   "outputs": [],
   "source": [
    "Vx = Speed*cos(np.pi/3)\n",
    "Vx1 = Speed*cos(np.pi/4)\n",
    "Vx2 = Speed*cos(np.pi/6)"
   ]
  },
  {
   "cell_type": "code",
   "execution_count": 33,
   "metadata": {
    "collapsed": false
   },
   "outputs": [
    {
     "name": "stdout",
     "output_type": "stream",
     "text": [
      "1844.47132\n",
      "3688.94264\n"
     ]
    }
   ],
   "source": [
    "dVx1 = Vx1 + dv\n",
    "print Vx\n",
    "print Speed"
   ]
  },
  {
   "cell_type": "code",
   "execution_count": 34,
   "metadata": {
    "collapsed": false
   },
   "outputs": [
    {
     "data": {
      "text/plain": [
       "[<matplotlib.lines.Line2D at 0x117a23390>]"
      ]
     },
     "execution_count": 34,
     "metadata": {},
     "output_type": "execute_result"
    },
    {
     "data": {
      "image/png": "[encoded data removed]",
      "text/plain": [
       "<matplotlib.figure.Figure at 0x11480a350>"
      ]
     },
     "metadata": {},
     "output_type": "display_data"
    }
   ],
   "source": [
    "plt.plot(Period,dVx1) "
   ]
  },
  {
   "cell_type": "code",
   "execution_count": 35,
   "metadata": {
    "collapsed": false
   },
   "outputs": [
    {
     "name": "stdout",
     "output_type": "stream",
     "text": [
      "123535867.935\n"
     ]
    }
   ],
   "source": [
    "# Number of orbits the object takes to grind down for pi/4\n",
    "i_crit = np.arcsin(9.52700825e+01/(2*1.30051044e+04))\n",
    "v_crit = Speed*cos(i_crit)\n",
    "dVa = (V_r*const*T_Orb)\n",
    "n_act1 = (v_crit - Vx1)/dVa\n",
    "print n_act1"
   ]
  },
  {
   "cell_type": "code",
   "execution_count": 36,
   "metadata": {
    "collapsed": false
   },
   "outputs": [
    {
     "name": "stdout",
     "output_type": "stream",
     "text": [
      "140593945.694\n"
     ]
    }
   ],
   "source": [
    "# Number of orbits the object takes to grind down for pi/3\n",
    "dVb = (V_r1*const*T_Orb)\n",
    "n_act = (v_crit - Vx)/dVb\n",
    "print n_act"
   ]
  },
  {
   "cell_type": "code",
   "execution_count": 37,
   "metadata": {
    "collapsed": false
   },
   "outputs": [
    {
     "name": "stdout",
     "output_type": "stream",
     "text": [
      "113011960.136\n"
     ]
    }
   ],
   "source": [
    "# Number of orbits the object takes to grind down for pi/6\n",
    "dVc = (V_r2*const*T_Orb)\n",
    "n_act2 = (v_crit - Vx2)/dVc\n",
    "print n_act2"
   ]
  },
  {
   "cell_type": "markdown",
   "metadata": {},
   "source": [
    "# T grind with constant i"
   ]
  },
  {
   "cell_type": "code",
   "execution_count": 38,
   "metadata": {
    "collapsed": false
   },
   "outputs": [],
   "source": [
    "# Let's try to see how it changes with radius\n",
    "text_file1 = np.loadtxt('hoverrNoCommas.txt', dtype = 'float')\n",
    "a = text_file1[:,0]\n",
    "a1 = 10**a\n",
    "c = 6.67e-11*2*1.99e30*10**8\n",
    "distance_in_meters = a1*(2*c)\n",
    "speed_of_light_squared=(3e8)**2\n",
    "distance = (distance_in_meters/speed_of_light_squared)\n",
    "distance_in_rg = distance/(1.5*10**11)\n",
    "velocity = (c/distance)**(1/2.0)*10**(-3)"
   ]
  },
  {
   "cell_type": "code",
   "execution_count": 117,
   "metadata": {
    "collapsed": false
   },
   "outputs": [],
   "source": [
    "v_crit1 = velocity*cos(i_crit)\n",
    "t_in_orbit = (2*np.pi*distance*10**(-3))/velocity\n",
    "Vxpi4 = velocity*cos(np.pi/4)\n",
    "V_rpi4 = (velocity*sin(np.pi/4))**2\n",
    "dvpi4 = V_rpi4*const*t_in_orbit\n",
    "n_grind = (v_crit1 - Vxpi4)/dvpi4\n",
    "T_grind1 = n_grind*t_in_orbit/3.154e+7\n",
    "\n",
    "v_crit1 = velocity*cos(i_crit)\n",
    "t_in_orbit = (2*np.pi*distance*10**(-3))/velocity\n",
    "Vxpi3 = velocity*cos(np.pi/3)\n",
    "V_rpi3 = (velocity*sin(np.pi/3))**2\n",
    "dvpi3 = V_rpi3*const*t_in_orbit\n",
    "n_grind = (v_crit1 - Vxpi3)/dvpi3\n",
    "T_grind2 = n_grind*t_in_orbit/3.154e+7\n",
    "\n",
    "v_crit1 = velocity*cos(i_crit)\n",
    "t_in_orbit = (2*np.pi*distance*10**(-3))/velocity\n",
    "Vxpi5 = velocity*cos(5*np.pi/6)\n",
    "V_rpi5 = (velocity*sin(5*np.pi/6))**2\n",
    "dvpi5 = V_rpi3*const*t_in_orbit\n",
    "n_grind = (v_crit1 - Vxpi5)/dvpi5\n",
    "T_grind3 = n_grind*t_in_orbit/3.154e+7\n",
    "\n",
    "v_crit1 = velocity*cos(i_crit)\n",
    "t_in_orbit = (2*np.pi*distance*10**(-3))/velocity\n",
    "Vxpi6 = velocity*cos(np.pi/6)\n",
    "V_rpi6 = (velocity*sin(np.pi/6))**2\n",
    "dvpi6 = V_rpi6*const*t_in_orbit\n",
    "n_grind = (v_crit1 - Vxpi6)/dvpi6\n",
    "T_grind4 = n_grind*t_in_orbit/3.154e+7\n"
   ]
  },
  {
   "cell_type": "code",
   "execution_count": 125,
   "metadata": {
    "collapsed": false
   },
   "outputs": [
    {
     "data": {
      "text/plain": [
       "<matplotlib.legend.Legend at 0x11b89de90>"
      ]
     },
     "execution_count": 125,
     "metadata": {},
     "output_type": "execute_result"
    },
    {
     "data": {
      "image/png": "[encoded data removed]",
      "text/plain": [
       "<matplotlib.figure.Figure at 0x11b9622d0>"
      ]
     },
     "metadata": {},
     "output_type": "display_data"
    }
   ],
   "source": [
    "logPlot = plt.gca()\n",
    "logPlot.loglog(distance_in_rg,T_grind1, color='green', label = 'pi over 4')\n",
    "logPlot.loglog(distance_in_rg,T_grind2, color='red', label = 'pi over 3')\n",
    "logPlot.loglog(distance_in_rg,T_grind3, color='blue', label = '5 pi over 6')\n",
    "logPlot.loglog(distance_in_rg,T_grind4, color = 'purple', label = 'pi over 6')\n",
    "plt.xlabel('Distance[Rg]',fontsize=20)\n",
    "plt.ylabel('T Grind[s]',fontsize=20)\n",
    "plt.legend()"
   ]
  },
  {
   "cell_type": "markdown",
   "metadata": {},
   "source": [
    "# T grind with constant a "
   ]
  },
  {
   "cell_type": "code",
   "execution_count": 122,
   "metadata": {
    "collapsed": false
   },
   "outputs": [
    {
     "name": "stdout",
     "output_type": "stream",
     "text": [
      "[ 2.6927937   2.61799388  2.35619449  2.0943951   1.57079633  1.04719755\n",
      "  0.78539816  0.52359878]\n"
     ]
    }
   ],
   "source": [
    "np.arange(8)\n",
    "i = array([np.pi/6,np.pi/4,np.pi/3,np.pi/2,2*np.pi/3,3*np.pi/4,5*np.pi/6])\n",
    "i_d = array([6*np.pi/7,5*np.pi/6,3*np.pi/4,2*np.pi/3,np.pi/2,np.pi/3,np.pi/4,np.pi/6])\n",
    "print i_d"
   ]
  },
  {
   "cell_type": "code",
   "execution_count": 123,
   "metadata": {
    "collapsed": false
   },
   "outputs": [
    {
     "name": "stdout",
     "output_type": "stream",
     "text": [
      "[  2.24342630e+13   1.65829223e+13   7.58532268e+12   4.44337674e+12\n",
      "   2.22168340e+12   1.48111233e+12   1.30141093e+12   1.19054492e+12]\n",
      "[  1.72148594e+16   1.27248520e+16   5.82057292e+15   3.40961082e+15\n",
      "   1.70480160e+15   1.13652678e+15   9.98633483e+14   9.13560809e+14]\n",
      "[  8.39700018e+16   6.20688103e+16   2.83913743e+16   1.66312730e+16\n",
      "   8.31561790e+15   5.54370808e+15   4.87109730e+15   4.45613297e+15]\n"
     ]
    }
   ],
   "source": [
    "Speed1 = 3.68894264e+03 \n",
    "Rg1 = 1.30051044e+04\n",
    "Speed2 = 4.28961737e+02\n",
    "Rg2 =  9.61790620e+05\n",
    "Speed3 =  7.35217265e+01\n",
    "Rg3 =  3.27405712e+07\n",
    "\n",
    "Vxi = Speed1*cos(i_d)\n",
    "t_in_orbit_i = (2*np.pi*Rg1*(1.5*10**8))/Speed1\n",
    "V_ri = (Speed1*sin(i_d))**2\n",
    "Force1 = 0.5*2.52906361193e-12*6.088e+18/mass\n",
    "dvi = Force1*V_ri*t_in_orbit_i\n",
    "v_crit_i = Speed1*cos(i_crit)\n",
    "n_grindi = ((v_crit_i - Vxi)/dvi)/3.154e+7\n",
    "t_grindi = n_grindi*t_in_orbit_i\n",
    "\n",
    "Vxi2 = Speed2*cos(i_d)\n",
    "t_in_orbit_i2 = (2*np.pi*Rg1*(1.5*10**8))/Speed2\n",
    "V_ri2 = (Speed2*sin(i_d))**2\n",
    "Force2 = 0.5*2.83433661044e-14*6.088e+18/mass\n",
    "dvi2 = Force2*V_ri2*t_in_orbit_i2\n",
    "v_crit_i2 = Speed2*cos(i_crit)\n",
    "n_grindi2 = ((v_crit_i2 - Vxi2)/dvi2)/3.154e+7\n",
    "t_grindi2 = n_grindi2*t_in_orbit_i2\n",
    "\n",
    "Vxi3 = Speed3*cos(i_d)\n",
    "t_in_orbit_i3 = (2*np.pi*Rg1*(1.5*10**8))/Speed3\n",
    "V_ri3 = (Speed3*sin(i_d))**2\n",
    "Force3 = 0.5*3.39026466666e-14*6.088e+18/mass\n",
    "dvi3 = Force3*V_ri3*t_in_orbit_i3\n",
    "v_crit_i3 = Speed3*cos(i_crit)\n",
    "n_grindi3 = ((v_crit_i3 - Vxi3)/dvi3)/3.154e+7\n",
    "t_grindi3 = n_grindi3*t_in_orbit_i3\n",
    "\n",
    "\n",
    "print t_grindi\n",
    "print t_grindi2\n",
    "print t_grindi3"
   ]
  },
  {
   "cell_type": "code",
   "execution_count": 124,
   "metadata": {
    "collapsed": false
   },
   "outputs": [
    {
     "data": {
      "text/plain": [
       "<matplotlib.text.Text at 0x11b73e550>"
      ]
     },
     "execution_count": 124,
     "metadata": {},
     "output_type": "execute_result"
    },
    {
     "data": {
      "image/png": "[encoded data removed]",
      "text/plain": [
       "<matplotlib.figure.Figure at 0x11b33f990>"
      ]
     },
     "metadata": {},
     "output_type": "display_data"
    }
   ],
   "source": [
    "logPlot = plt.gca()\n",
    "plt.semilogy(i_d,t_grindi, color='green', label = '10^4 Rg')\n",
    "plt.semilogy(i_d,t_grindi2, color='red', label = '10^5 Rg')\n",
    "plt.semilogy(i_d,t_grindi3, color='blue', label = '10^7 Rg')\n",
    "plt.legend()\n",
    "plt.xlabel('Inclination Angle',fontsize=20)\n",
    "plt.ylabel('T Grind[years]',fontsize=20)"
   ]
  },
  {
   "cell_type": "markdown",
   "metadata": {},
   "source": [
    "# Other method to find T grind "
   ]
  },
  {
   "cell_type": "code",
   "execution_count": 126,
   "metadata": {
    "collapsed": false
   },
   "outputs": [
    {
     "name": "stdout",
     "output_type": "stream",
     "text": [
      "1.99e+30\n"
     ]
    }
   ],
   "source": [
    "print mass"
   ]
  },
  {
   "cell_type": "code",
   "execution_count": null,
   "metadata": {
    "collapsed": false
   },
   "outputs": [],
   "source": []
  },
  {
   "cell_type": "code",
   "execution_count": null,
   "metadata": {
    "collapsed": true
   },
   "outputs": [],
   "source": []
  }
 ],
 "metadata": {
  "kernelspec": {
   "display_name": "Python 2",
   "language": "python",
   "name": "python2"
  },
  "language_info": {
   "codemirror_mode": {
    "name": "ipython",
    "version": 2
   },
   "file_extension": ".py",
   "mimetype": "text/x-python",
   "name": "python",
   "nbconvert_exporter": "python",
   "pygments_lexer": "ipython2",
   "version": "2.7.13"
  }
 },
 "nbformat": 4,
 "nbformat_minor": 2
}
