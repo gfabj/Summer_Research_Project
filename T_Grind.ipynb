{
 "cells": [
  {
   "cell_type": "code",
   "execution_count": 2,
   "metadata": {
    "collapsed": true
   },
   "outputs": [],
   "source": [
    "import numpy as np\n",
    "import matplotlib.pyplot as plt\n",
    "import pandas as pd\n",
    "import astropy\n",
    "%matplotlib inline\n",
    "import pylab\n",
    "import math"
   ]
  },
  {
   "cell_type": "code",
   "execution_count": 6,
   "metadata": {
    "collapsed": false
   },
   "outputs": [],
   "source": [
    "from numpy import array\n",
    "#np.arange(38)\n",
    "#velocity = array([1.32666709e+05, 1.13628673e+05, 1.00391570e+05, 8.96188363e+04, 7.75637462e+04, 6.50887959e+04, 5.51862853e+04, 4.77656956e+04, 4.30855144e+04, 3.84630328e+04, 3.54163206e+04, 3.16144128e+04, 2.88068823e+04, 2.59779253e+04, 2.36695572e+04, 2.17921013e+04, 1.98584755e+04, 1.79122810e+04, 1.66651277e+04, 1.51892714e+04, 1.34224825e+04, 1.21081721e+04, 1.10348423e+04, 1.02659328e+04, 9.16400231e+03, 8.35072812e+03, 7.53122564e+03, 7.00562693e+03, 6.25214954e+03, 5.40920539e+03, 3.68894264e+03, 2.06684627e+03, 1.12264205e+03, 6.69274146e+02, 4.28961737e+02, 1.97458305e+02, 1.06147726e+02, 7.35217265e+01])"
   ]
  },
  {
   "cell_type": "code",
   "execution_count": null,
   "metadata": {
    "collapsed": false
   },
   "outputs": [],
   "source": [
    "#i = np.arange(np.pi,np.pi*13/6,np.pi/6)\n",
    "#i = i[:7]"
   ]
  },
  {
   "cell_type": "code",
   "execution_count": 7,
   "metadata": {
    "collapsed": false
   },
   "outputs": [],
   "source": [
    "#Vx1 = []\n",
    "#for j in Vx:\n",
    "    #if np.fabs(j) < 10e-05:\n",
    "        #Vx1.append(0.0)\n",
    "    #else:\n",
    "        #Vx1.append(j)\n",
    "#print Vx1"
   ]
  },
  {
   "cell_type": "code",
   "execution_count": null,
   "metadata": {
    "collapsed": false
   },
   "outputs": [],
   "source": [
    "#Vy1 = []\n",
    "#for j in Vy:\n",
    "    #if np.fabs(j) < 10e-05:\n",
    "        #Vy1.append(0.0)\n",
    "    #else:\n",
    "        #Vy1.append(j)\n",
    "#print Vy1"
   ]
  },
  {
   "cell_type": "code",
   "execution_count": 11,
   "metadata": {
    "collapsed": false
   },
   "outputs": [],
   "source": [
    "Rg = 1.30051044e+04\n",
    "\n",
    "Speed = 3.68894264e+03\n",
    "\n",
    "from numpy import cos,sin\n",
    "Vy = Speed*sin(np.pi/4)\n",
    "\n",
    "T_Orb = 2*np.pi*Rg*(1.5*10**8)/Speed\n",
    "\n",
    "from numpy import array\n",
    "np.arange(4)\n",
    "Period2 = array([T_Orb*1, T_Orb*2, T_Orb*3, T_Orb*4, T_Orb*5, T_Orb*6, T_Orb*7, T_Orb*8])\n",
    "Period = array([T_Orb*1, T_Orb*2, T_Orb*3, T_Orb*4, T_Orb*5, T_Orb*6, T_Orb*7, T_Orb*8, T_Orb*9, T_Orb*10,T_Orb*11, T_Orb*12, T_Orb*13, T_Orb*14])\n"
   ]
  },
  {
   "cell_type": "code",
   "execution_count": 28,
   "metadata": {
    "collapsed": false
   },
   "outputs": [
    {
     "name": "stdout",
     "output_type": "stream",
     "text": [
      "2608.47635615\n",
      "[  1.74919488e-05   3.49838976e-05   5.24758464e-05   6.99677952e-05\n",
      "   8.74597440e-05   1.04951693e-04   1.22443642e-04   1.39935590e-04\n",
      "   1.57427539e-04   1.74919488e-04   1.92411437e-04   2.09903386e-04\n",
      "   2.27395334e-04   2.44887283e-04]\n"
     ]
    }
   ],
   "source": [
    "V_r = (Speed*sin(np.pi/4))**2\n",
    "const = (2.52906361193e-10*6.088e+18)/(1.99e+30)\n",
    "# dv = F*dt/m\n",
    "dv = (V_r*const*Period)\n",
    "\n",
    "v_pi_over4 = dv/Vy\n",
    "\n",
    "print Vy\n",
    "print dv"
   ]
  },
  {
   "cell_type": "code",
   "execution_count": 22,
   "metadata": {
    "collapsed": false
   },
   "outputs": [
    {
     "name": "stdout",
     "output_type": "stream",
     "text": [
      "[  8.21290733e-09   1.64258147e-08   2.46387220e-08   3.28516293e-08\n",
      "   4.10645366e-08   4.92774440e-08   5.74903513e-08   6.57032586e-08\n",
      "   7.39161659e-08   8.21290733e-08   9.03419806e-08   9.85548879e-08\n",
      "   1.06767795e-07   1.14980703e-07]\n"
     ]
    }
   ],
   "source": [
    "Vy1 = Speed*sin(np.pi/3)\n",
    "\n",
    "V_r1 = (Speed*sin(np.pi/3))**2\n",
    "const = (2.52906361193e-10*6.088e+18)/(1.99e+30)\n",
    "\n",
    "dv1 = V_r1*const*Period\n",
    "\n",
    "v_pi_over3 = dv1/Vy1\n",
    "\n",
    "print v_pi_over3"
   ]
  },
  {
   "cell_type": "code",
   "execution_count": 23,
   "metadata": {
    "collapsed": true
   },
   "outputs": [],
   "source": [
    "Vy2 = Speed*sin(np.pi/6)\n",
    "\n",
    "V_r2 = (Speed*sin(np.pi/6))**2\n",
    "const = (2.52906361193e-10*6.088e+18)/(1.99e+30)\n",
    "\n",
    "dv2 = V_r2*const*Period\n",
    "\n",
    "v_pi_over6 = dv2/Vy2"
   ]
  },
  {
   "cell_type": "code",
   "execution_count": 24,
   "metadata": {
    "collapsed": true
   },
   "outputs": [],
   "source": [
    "Vy3 = Speed*sin(np.pi/2)\n",
    "\n",
    "V_r3 = (Speed*sin(np.pi/2))**2\n",
    "const = (2.52906361193e-10*6.088e+18)/(1.99e+30)\n",
    "\n",
    "dv3 = V_r3*const*Period\n",
    "\n",
    "v_pi_over2 = dv3/Vy3"
   ]
  },
  {
   "cell_type": "code",
   "execution_count": 26,
   "metadata": {
    "collapsed": false
   },
   "outputs": [
    {
     "data": {
      "image/png": "[encoded data removed]",
      "text/plain": [
       "<matplotlib.figure.Figure at 0x1119774d0>"
      ]
     },
     "metadata": {},
     "output_type": "display_data"
    }
   ],
   "source": [
    "plt.plot(Period,v_pi_over6, c='b',label = 'pi over 6')\n",
    "plt.plot(Period,v_pi_over3, color='green', label = 'pi over 3')\n",
    "plt.plot(Period,v_pi_over2, color='orange', label = 'pi over 2')\n",
    "plt.plot(Period,v_pi_over4, c='r',label = 'pi over 4')\n",
    "\n",
    "\n",
    "plt.xlabel('Orbit',fontsize=20)\n",
    "plt.ylabel('Vy/dvy',fontsize=20)\n",
    "plt.legend()\n",
    "plt.savefig('ratio vs orbit.pdf')"
   ]
  },
  {
   "cell_type": "code",
   "execution_count": 29,
   "metadata": {
    "collapsed": true
   },
   "outputs": [],
   "source": [
    "inv_t = 1/Period"
   ]
  },
  {
   "cell_type": "code",
   "execution_count": 33,
   "metadata": {
    "collapsed": false
   },
   "outputs": [
    {
     "data": {
      "text/plain": [
       "[<matplotlib.lines.Line2D at 0x111fee8d0>]"
      ]
     },
     "execution_count": 33,
     "metadata": {},
     "output_type": "execute_result"
    },
    {
     "data": {
      "image/png": "[encoded data removed]",
      "text/plain": [
       "<matplotlib.figure.Figure at 0x111f90ad0>"
      ]
     },
     "metadata": {},
     "output_type": "display_data"
    }
   ],
   "source": [
    "plt.plot(Period,dv)\n",
    "plt.plot(Period,dv1)\n",
    "plt.plot(Period,dv2)"
   ]
  },
  {
   "cell_type": "code",
   "execution_count": null,
   "metadata": {
    "collapsed": true
   },
   "outputs": [],
   "source": []
  }
 ],
 "metadata": {
  "kernelspec": {
   "display_name": "Python 2",
   "language": "python",
   "name": "python2"
  },
  "language_info": {
   "codemirror_mode": {
    "name": "ipython",
    "version": 2
   },
   "file_extension": ".py",
   "mimetype": "text/x-python",
   "name": "python",
   "nbconvert_exporter": "python",
   "pygments_lexer": "ipython2",
   "version": "2.7.13"
  }
 },
 "nbformat": 4,
 "nbformat_minor": 2
}
