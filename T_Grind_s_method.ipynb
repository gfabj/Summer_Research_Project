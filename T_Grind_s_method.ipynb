{
 "cells": [
  {
   "cell_type": "code",
   "execution_count": 5,
   "metadata": {
    "collapsed": true
   },
   "outputs": [],
   "source": [
    "import numpy as np\n",
    "import math\n",
    "import matplotlib\n",
    "import matplotlib.pyplot as plt\n",
    "%matplotlib inline\n",
    "from numpy import loadtxt\n",
    "from numpy import cos,sin,pi,arctan,arcsin,array"
   ]
  },
  {
   "cell_type": "code",
   "execution_count": 6,
   "metadata": {
    "collapsed": true
   },
   "outputs": [],
   "source": [
    "text_file1 = np.loadtxt('hoverrNoCommas.txt', dtype = 'float')\n",
    "a = text_file1[:,0]\n",
    "a1 = 10**a\n",
    "c = 6.67e-11*2*1.99e30*10**8\n",
    "distance_in_meters = a1*(2*c)\n",
    "speed_of_light_squared=(3e8)**2\n",
    "distance = (distance_in_meters/speed_of_light_squared)\n",
    "distance_in_rg = distance/(1.5*10**11)\n",
    "velocity = (c/distance)**(1/2.0)*10**(-3)"
   ]
  },
  {
   "cell_type": "code",
   "execution_count": 7,
   "metadata": {
    "collapsed": true
   },
   "outputs": [],
   "source": [
    "Speed = [ 1.32666709e+05,3.84630328e+04,1.21081721e+04,3.68894264e+03,1.12264205e+03, 1.97458305e+02,1.06147726e+02]\n",
    "D_Rg = [1.00552700e+01,1.19627381e+02,1.20714788e+03,1.30051044e+04,1.40421962e+05, 4.53906956e+06,1.57071089e+07]\n",
    "Density = [1.06372258101e-09, 7.01503495128e-10, 1.02150507278e-10, 2.52906361193e-12, 2.16069454761e-13, 3.20833694402e-15, 3.39026466666e-14]\n",
    "D_Rg1 = [1.19627381e+02,1.20714788e+03,1.30051044e+04,1.40421962e+05, 4.53906956e+06,1.57071089e+07]"
   ]
  },
  {
   "cell_type": "code",
   "execution_count": 9,
   "metadata": {
    "collapsed": false
   },
   "outputs": [],
   "source": [
    "i_crit4 = np.arcsin(9.52700825e+01/(2*1.30051044e+04))\n",
    "i_crit3 = np.arcsin(2.74856714e+00/(2*1207.14788))\n",
    "i_crit5 = np.arcsin(3.38134471e+03/(2*140421.962))\n",
    "i_crit6 = np.arcsin(6.11825618e+05/(2*4539069.56))\n",
    "i_crit7 = np.arcsin(3.96065316e+06/(2*15707108))\n",
    "i_crit2 = np.arcsin(2.74856714e+00/(2*119.627381))\n",
    "mass = 1.99e+30\n",
    "Force = 0.5*6.088e+18/mass\n",
    "np.arange(8)\n",
    "i = array([np.pi/6,np.pi/4,np.pi/3,np.pi/2,2*np.pi/3,3*np.pi/4,5*np.pi/6, np.pi])\n",
    "#i_d = array([np.pi-i_crit,5*np.pi/6,3*np.pi/4,2*np.pi/3,np.pi/2,np.pi/3,np.pi/4,np.pi/6])"
   ]
  },
  {
   "cell_type": "code",
   "execution_count": 16,
   "metadata": {
    "collapsed": false
   },
   "outputs": [],
   "source": [
    "t_in_orbit2 = (2*np.pi*119.627381*1.5e+11)/38463.0328\n",
    "t_in_orbit3 = (2*np.pi*1207.14788*1.5e+11)/12108.1721\n",
    "t_in_orbit4 = (2*np.pi*13005.1044*1.5e+11)/3688.94264\n",
    "t_in_orbit5 = (2*np.pi*140421.962*1.5e+11)/1122.64205\n",
    "t_in_orbit6 = (2*np.pi*4539069.56*1.5e+11)/197.458305\n",
    "t_in_orbit7 = (2*np.pi*15707108.9*1.5e+11)/106.147726\n",
    "\n",
    "\n",
    "V_rpi6a = (38463.0328*sin(i_crit2))**2\n",
    "dvpi6a = V_rpi6a*Force*7.01503495128e-08*t_in_orbit2*1000\n",
    "V_rpi3a = (38463.0328*sin(i_crit2))**2\n",
    "dvpi3a = V_rpi3a*Force*7.01503495128e-08*t_in_orbit2*1000\n",
    "Vx_rpi3a = (38463.0328*cos(np.pi/4))**2\n",
    "dvxpi3a = Vx_rpi3a*Force*7.01503495128e-08*t_in_orbit2*1000\n",
    "#Vx_ria = (38463.0328*cos(i_d))**2\n",
    "#dvxia = Vx_ria*Force*7.01503495128e-08*t_in_orbit2*1000\n",
    "\n",
    "\n",
    "V_rpi6b = (12108.1721*sin(i_crit3))**2\n",
    "dvpi6b = V_rpi6b*Force*1.02150507278e-08*t_in_orbit3*1000\n",
    "V_rpi3b = (12108.1721*sin(i_crit3))**2\n",
    "dvpi3b = V_rpi3b*Force*1.02150507278e-08*t_in_orbit3*1000\n",
    "Vx_rpi3b = (12108.1721*cos(np.pi/4))**2\n",
    "dvxpi3b = Vx_rpi3b*Force*1.02150507278e-08*t_in_orbit3*1000\n",
    "\n",
    "\n",
    "#V_rpi6c = (3688.94264*sin(i_crit4))**2\n",
    "#dvpi6c = V_rpi6c*Force*2.52906361193e-10*t_in_orbit4*1000\n",
    "V_rpi3c = (3688.94264*sin(i_crit4))**2\n",
    "dvpi3c = V_rpi3c*Force*2.52906361193e-10*t_in_orbit4*1000\n",
    "Vx_rpi3c = (3688.94264*cos(np.pi/4))**2\n",
    "dvxpi3c = Vx_rpi3c*Force*2.52906361193e-10*t_in_orbit4*1000\n",
    "#Vx_ric = (3688.94264*cos(i_d))**2\n",
    "#dvxic = Vx_ric*Force*2.52906361193e-10*t_in_orbit4*1000\n",
    "\n",
    "\n",
    "V_rpi6d = (1122.64205*sin(i_crit5))**2\n",
    "dvpi6d = V_rpi6d*Force*2.16069454761e-11*t_in_orbit5*1000\n",
    "V_rpi3d = (1122.64205*sin(i_crit5))**2\n",
    "dvpi3d = V_rpi3d*Force*2.16069454761e-11*t_in_orbit5*1000\n",
    "Vx_rpi3d = (1122.64205*cos(np.pi/4))**2\n",
    "dvxpi3d = Vx_rpi3d*Force*2.16069454761e-11*t_in_orbit5*1000\n",
    "#Vx_rid = (1122.64205*cos(i_d))**2\n",
    "#dvxid = Vx_rid*Force*2.16069454761e-11*t_in_orbit5*1000\n",
    "\n",
    "V_rpi6e = (197.458305*sin(i_crit6))**2\n",
    "dvpi6e = V_rpi6e*Force*3.20833694402e-12*t_in_orbit6*1000\n",
    "V_rpi3e = (197.458305*sin(i_crit6))**2\n",
    "dvpi3e = V_rpi3e*Force*3.20833694402e-12*t_in_orbit6*1000\n",
    "Vx_rpi3e = (197.458305*cos(np.pi/4))**2\n",
    "dvxpi3e = V_rpi3e*Force*3.20833694402e-12*t_in_orbit6*1000\n",
    "\n",
    "V_rpi6f = (106.147726*sin(i_crit7))**2\n",
    "dvpi6f = V_rpi6f*Force*3.39026466666e-13*t_in_orbit7*1000\n",
    "V_rpi3f = (106.147726*sin(i_crit7))**2\n",
    "dvpi3f = V_rpi3f*Force*3.39026466666e-13*t_in_orbit7*1000\n",
    "Vx_rpi3f = (106.147726*cos(np.pi/4))**2\n",
    "dvxpi3f = Vx_rpi3f*Force*3.39026466666e-13*t_in_orbit7*1000\n"
   ]
  },
  {
   "cell_type": "code",
   "execution_count": 17,
   "metadata": {
    "collapsed": false
   },
   "outputs": [
    {
     "name": "stdout",
     "output_type": "stream",
     "text": [
      "[1038.4387999887658, 32711.388975614238, 1208184.6614540596, 42854896.108793393, 7600966671.0393047, 42551800126.87426]\n"
     ]
    }
   ],
   "source": [
    "Vxpi3a = 38463.0328*(1-cos(np.pi/4))\n",
    "Vypi3a = 38463.0328*(sin(i_crit2))\n",
    "Na = (Vxpi3a+dvxpi3a)**2+(Vypi3a-dvpi3a)**2\n",
    "grindPi3a = (38463.0328**2/Na)*(t_in_orbit2/3.154e+7)\n",
    "\n",
    "Vxpi3b = 12108.1721*(1-cos(np.pi/4))\n",
    "Vypi3b = 12108.1721*(sin(i_crit3))\n",
    "N1 = (Vxpi3b+dvxpi3b)**2+(Vypi3b-dvpi3b)**2\n",
    "grindPi3b = (12108.1721**2/N1)*(t_in_orbit3/3.154e+7)\n",
    "\n",
    "Vxpi3c = 3688.94264*(1-cos(np.pi/4))\n",
    "Vypi3c = 3688.94264*(sin(i_crit4))\n",
    "N2 = (Vxpi3c+dvxpi3c)**2+(Vypi3c-dvpi3c)**2\n",
    "grindPi3c = (3688.94264**2/N2)*(t_in_orbit4/3.154e+7)\n",
    "\n",
    "Vxpi3d = 1122.64205*(1-cos(np.pi/4))\n",
    "Vypi3d = 1122.64205*(sin(i_crit5))\n",
    "N3 = (Vxpi3d+dvxpi3d)**2+(Vypi3d-dvpi3d)**2\n",
    "grindPi3d = (1122.64205**2/N3)*(t_in_orbit5/3.154e+7)\n",
    "\n",
    "Vxpi3e = 197.458305*(1-cos(np.pi/4))\n",
    "Vypi3e = 197.458305*(sin(i_crit6))\n",
    "N4 = (Vxpi3e+dvxpi3e)**2+(Vypi3e-dvpi3e)**2\n",
    "grindPi3e = (197.458305**2/N4)*(t_in_orbit6/3.154e+7)\n",
    "\n",
    "t_in_orbitf = (2*np.pi*15707108.9*1.5e+11)/106.147726\n",
    "Vxpi3f = 106.147726*(1-cos(np.pi/4))\n",
    "Vypi3f = 106.147726*(sin(i_crit7))\n",
    "N5 = (Vxpi3f+dvxpi3f)**2+(Vypi3f-dvpi3f)**2\n",
    "grindPi3f = (106.147726**2/N5)*(t_in_orbit7/3.154e+7)\n",
    "\n",
    "T_grindPi3 = [grindPi3a, grindPi3b, grindPi3c, grindPi3d, grindPi3e, grindPi3f]\n",
    "print T_grindPi3"
   ]
  },
  {
   "cell_type": "code",
   "execution_count": 18,
   "metadata": {
    "collapsed": false
   },
   "outputs": [
    {
     "data": {
      "text/plain": [
       "<matplotlib.legend.Legend at 0x113fae110>"
      ]
     },
     "execution_count": 18,
     "metadata": {},
     "output_type": "execute_result"
    },
    {
     "data": {
      "image/png": "[encoded data removed]",
      "text/plain": [
       "<matplotlib.figure.Figure at 0x113ee5f10>"
      ]
     },
     "metadata": {},
     "output_type": "display_data"
    }
   ],
   "source": [
    "logPlot = plt.gca()\n",
    "logPlot.loglog(D_Rg1,T_grindPi3, c='r', label='pi/4')\n",
    "plt.legend()"
   ]
  },
  {
   "cell_type": "code",
   "execution_count": 19,
   "metadata": {
    "collapsed": false
   },
   "outputs": [
    {
     "ename": "NameError",
     "evalue": "name 'i_d' is not defined",
     "output_type": "error",
     "traceback": [
      "\u001b[0;31m---------------------------------------------------------------------------\u001b[0m",
      "\u001b[0;31mNameError\u001b[0m                                 Traceback (most recent call last)",
      "\u001b[0;32m<ipython-input-19-1269ae1ec7a4>\u001b[0m in \u001b[0;36m<module>\u001b[0;34m()\u001b[0m\n\u001b[0;32m----> 1\u001b[0;31m \u001b[0mVxia\u001b[0m \u001b[0;34m=\u001b[0m \u001b[0;36m38463.0328\u001b[0m\u001b[0;34m*\u001b[0m\u001b[0;34m(\u001b[0m\u001b[0;36m1\u001b[0m\u001b[0;34m-\u001b[0m\u001b[0mcos\u001b[0m\u001b[0;34m(\u001b[0m\u001b[0mi_d\u001b[0m\u001b[0;34m)\u001b[0m\u001b[0;34m)\u001b[0m\u001b[0;34m\u001b[0m\u001b[0m\n\u001b[0m\u001b[1;32m      2\u001b[0m \u001b[0mVyia\u001b[0m \u001b[0;34m=\u001b[0m \u001b[0;36m38463.0328\u001b[0m\u001b[0;34m*\u001b[0m\u001b[0;34m(\u001b[0m\u001b[0msin\u001b[0m\u001b[0;34m(\u001b[0m\u001b[0mi_crit2\u001b[0m\u001b[0;34m)\u001b[0m\u001b[0;34m)\u001b[0m\u001b[0;34m\u001b[0m\u001b[0m\n\u001b[1;32m      3\u001b[0m \u001b[0mN\u001b[0m \u001b[0;34m=\u001b[0m \u001b[0;34m(\u001b[0m\u001b[0;34m(\u001b[0m\u001b[0mVxia\u001b[0m\u001b[0;34m+\u001b[0m\u001b[0mdvxia\u001b[0m\u001b[0;34m)\u001b[0m\u001b[0;34m**\u001b[0m\u001b[0;36m2\u001b[0m\u001b[0;34m+\u001b[0m\u001b[0;34m(\u001b[0m\u001b[0mVypi3a\u001b[0m\u001b[0;34m-\u001b[0m\u001b[0mdvpi3a\u001b[0m\u001b[0;34m)\u001b[0m\u001b[0;34m**\u001b[0m\u001b[0;36m2\u001b[0m\u001b[0;34m)\u001b[0m\u001b[0;34m\u001b[0m\u001b[0m\n\u001b[1;32m      4\u001b[0m \u001b[0mgrindIa\u001b[0m \u001b[0;34m=\u001b[0m \u001b[0;34m(\u001b[0m\u001b[0;36m38463.0328\u001b[0m\u001b[0;34m**\u001b[0m\u001b[0;36m2\u001b[0m\u001b[0;34m/\u001b[0m\u001b[0mN\u001b[0m\u001b[0;34m)\u001b[0m\u001b[0;34m*\u001b[0m\u001b[0;34m(\u001b[0m\u001b[0mt_in_orbit2\u001b[0m\u001b[0;34m/\u001b[0m\u001b[0;36m3.154e+7\u001b[0m\u001b[0;34m)\u001b[0m\u001b[0;34m\u001b[0m\u001b[0m\n\u001b[1;32m      5\u001b[0m \u001b[0;34m\u001b[0m\u001b[0m\n",
      "\u001b[0;31mNameError\u001b[0m: name 'i_d' is not defined"
     ]
    }
   ],
   "source": [
    "Vxia = 38463.0328*(1-cos(i_d))\n",
    "Vyia = 38463.0328*(sin(i_crit2))\n",
    "N = ((Vxia+dvxia)**2+(Vypi3a-dvpi3a)**2)\n",
    "grindIa = (38463.0328**2/N)*(t_in_orbit2/3.154e+7)\n",
    "\n",
    "Vxic = 3688.94264*(1-cos(i_d))\n",
    "Vyic = 3688.94264*(sin(i_crit4))\n",
    "Nc = ((Vxic+dvxic)**2+(Vypi3c-dvpi3c)**2)\n",
    "grindIc = (3688.94264**2/Nc)*(t_in_orbit4/3.154e+7)\n",
    "\n",
    "Vxid = 1122.64205*(1-cos(i_d))\n",
    "Vyid = 1122.64205*(sin(i_crit5))\n",
    "Nd = ((Vxid+dvxid)**2+(Vypi3d-dvpi3d)**2)\n",
    "grindId = (1122.64205**2/Nd)*(t_in_orbit5/3.154e+7)\n",
    "print grindIc"
   ]
  },
  {
   "cell_type": "code",
   "execution_count": null,
   "metadata": {
    "collapsed": false
   },
   "outputs": [],
   "source": [
    "logPlot = plt.gca()\n",
    "plt.semilogy(i,grindIa, c='r',label='10^2 Rg')\n",
    "plt.semilogy(i,grindIc, c='b', label='10^4 Rg')\n",
    "plt.semilogy(i,grindId, c='g', label='10^5 Rg')\n",
    "plt.legend()"
   ]
  },
  {
   "cell_type": "code",
   "execution_count": null,
   "metadata": {
    "collapsed": false
   },
   "outputs": [],
   "source": [
    "print dvpi3c\n",
    "print dvxpi3c"
   ]
  },
  {
   "cell_type": "code",
   "execution_count": null,
   "metadata": {
    "collapsed": false
   },
   "outputs": [],
   "source": [
    "n2 = (Vxpi3c+dvxpi3c)**2\n",
    "grindc = (3688.94264**2/n2)*(t_in_orbit4/3.154e+7)\n",
    "print grindc"
   ]
  },
  {
   "cell_type": "code",
   "execution_count": null,
   "metadata": {
    "collapsed": false
   },
   "outputs": [],
   "source": [
    "\n",
    "V_rpi6c = (3688.94264*sin(i_crit4))**2\n",
    "dvpi6c = V_rpi6c*Force*2.52906361193e-10*t_in_orbit4*1000\n",
    "V_rpi3c = (3688.94264*sin(i_crit4))**2\n",
    "dvpi3c = V_rpi3c*Force*2.52906361193e-10*t_in_orbit4*1000\n",
    "Vx_rpi3c = (3688.94264*sin(np.pi/4))**2\n",
    "dvxpi3c = Vx_rpi3c*Force*2.52906361193e-10*t_in_orbit4*1000\n",
    "\n",
    "Vxpi3c = 3688.94264*(1-cos(np.pi/4))\n",
    "Vypi3c = 3688.94264*(sin(i_crit4))\n",
    "N2 = ((Vxpi3c+dvxpi3c)**2+(Vypi3c-dvpi3c)**2)**(1/2.0)\n",
    "grindPi3c = (3688.94264/N2)*(t_in_orbit4/3.154e+7)\n",
    "\n",
    "print grindPi3c"
   ]
  },
  {
   "cell_type": "code",
   "execution_count": null,
   "metadata": {
    "collapsed": false
   },
   "outputs": [],
   "source": [
    "print Vxpi3c"
   ]
  },
  {
   "cell_type": "code",
   "execution_count": null,
   "metadata": {
    "collapsed": true
   },
   "outputs": [],
   "source": []
  }
 ],
 "metadata": {
  "kernelspec": {
   "display_name": "Python 2",
   "language": "python",
   "name": "python2"
  },
  "language_info": {
   "codemirror_mode": {
    "name": "ipython",
    "version": 2
   },
   "file_extension": ".py",
   "mimetype": "text/x-python",
   "name": "python",
   "nbconvert_exporter": "python",
   "pygments_lexer": "ipython2",
   "version": "2.7.13"
  }
 },
 "nbformat": 4,
 "nbformat_minor": 2
}
