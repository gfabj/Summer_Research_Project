{
 "cells": [
  {
   "cell_type": "code",
   "execution_count": 2,
   "metadata": {
    "collapsed": true
   },
   "outputs": [],
   "source": [
    "import numpy as np\n",
    "import math\n",
    "import matplotlib\n",
    "import matplotlib.pyplot as plt\n",
    "%matplotlib inline\n",
    "from numpy import loadtxt\n",
    "from numpy import cos,sin,pi,arctan,arcsin,array"
   ]
  },
  {
   "cell_type": "code",
   "execution_count": 3,
   "metadata": {
    "collapsed": false
   },
   "outputs": [],
   "source": [
    "text_file1 = np.loadtxt('hoverrNoCommas.txt', dtype = 'float')\n",
    "a = text_file1[:,0]\n",
    "a1 = 10**a\n",
    "c = 6.67e-11*2*1.99e30*10**8\n",
    "distance_in_meters = a1*(2*c)\n",
    "speed_of_light_squared=(3e8)**2\n",
    "distance = (distance_in_meters/speed_of_light_squared)\n",
    "distance_in_rg = distance/(1.5*10**11)\n",
    "velocity = (c/distance)**(1/2.0)*10**(-3)"
   ]
  },
  {
   "cell_type": "code",
   "execution_count": 4,
   "metadata": {
    "collapsed": false
   },
   "outputs": [],
   "source": [
    "Speed = [ 1.32666709e+05,3.84630328e+04,1.21081721e+04,3.68894264e+03,1.12264205e+03, 1.97458305e+02,1.06147726e+02]\n",
    "D_Rg = [1.00552700e+01,1.19627381e+02,1.20714788e+03,1.30051044e+04,1.40421962e+05, 4.53906956e+06,1.57071089e+07]\n",
    "Density = [1.06372258101e-09, 7.01503495128e-10, 1.02150507278e-10, 2.52906361193e-12, 2.16069454761e-13, 3.20833694402e-15, 3.39026466666e-14]\n",
    "D_Rg1 = [1.19627381e+02,1.20714788e+03,1.30051044e+04,1.40421962e+05, 4.53906956e+06,1.57071089e+07]"
   ]
  },
  {
   "cell_type": "code",
   "execution_count": 5,
   "metadata": {
    "collapsed": false
   },
   "outputs": [
    {
     "name": "stdout",
     "output_type": "stream",
     "text": [
      "[44998.987364564557, 981650.72641998983, 130141092.97560011, 5005430365.0592051, 191655253494.21329, 974994996750.4325]\n"
     ]
    }
   ],
   "source": [
    "# For pi/4\n",
    "\n",
    "i_crit = np.arcsin(9.52700825e+01/(2*1.30051044e+04))\n",
    "mass = 1.99e+30\n",
    "Force = 0.5*6.088e+17/mass\n",
    "np.arange(8)\n",
    "i = array([np.pi/6,np.pi/4,np.pi/3,np.pi/2,2*np.pi/3,3*np.pi/4,5*np.pi/6, np.pi])\n",
    "i_d = array([np.pi-i_crit,5*np.pi/6,3*np.pi/4,2*np.pi/3,np.pi/2,np.pi/3,np.pi/4,np.pi/6])\n",
    "\n",
    "v_crit1 = 132666.709*(cos(i_crit))\n",
    "t_in_orbit = (2*np.pi*1.00552700e+01*1.5e+08)/132666.709\n",
    "Vxpi4 = 132666.709*(cos(np.pi/4))\n",
    "V_rpi4 = (132666.709*sin(np.pi/4))**2\n",
    "dvpi4 = V_rpi4*Force*1.06372258101e-07*t_in_orbit\n",
    "n_grind = (v_crit1 - Vxpi4)/(dvpi4*10**3)\n",
    "T_grind1 = n_grind*t_in_orbit/3.154e+7\n",
    "\n",
    "v_crita = 38463.0328*(cos(i_crit))\n",
    "t_in_orbita = (2*np.pi*119.627381*1.5e+08)/38463.0328\n",
    "Vxpi4a = 38463.0328*(cos(np.pi/4))\n",
    "V_rpi4a = (38463.0328*sin(np.pi/4))**2\n",
    "dvpi4a = V_rpi4a*Force*7.01503495128e-08*t_in_orbita\n",
    "n_grinda = (v_crita - Vxpi4a)/(dvpi4a*10**3)\n",
    "T_grind1a = n_grinda*t_in_orbita/3.154e+7\n",
    "\n",
    "v_critb = 12108.1721*(cos(i_crit))\n",
    "t_in_orbitb = (2*np.pi*1207.14788*1.5e+08)/12108.1721\n",
    "Vxpi4b =12108.1721*(cos(np.pi/4))\n",
    "V_rpi4b = (12108.1721*sin(np.pi/4))**2\n",
    "dvpi4b = V_rpi4b*Force*1.02150507278e-08*t_in_orbitb\n",
    "n_grindb = (v_critb - Vxpi4b)/(dvpi4b*10**3)\n",
    "T_grind1b = n_grindb*t_in_orbitb/3.154e+7\n",
    "\n",
    "v_critc = 3688.94264*(cos(i_crit))\n",
    "t_in_orbitc = (2*np.pi*13005.1044*1.5e+08)/3688.94264\n",
    "Vxpi4c =3688.94264*(cos(np.pi/4))\n",
    "V_rpi4c = (3688.94264*sin(np.pi/4))**2\n",
    "dvpi4c = V_rpi4c*Force*2.52906361193e-10*t_in_orbitc\n",
    "n_grindc = (v_critc - Vxpi4c)/(dvpi4c*10**3)\n",
    "T_grind1c = n_grindc*t_in_orbitc/3.154e+7\n",
    "\n",
    "v_critd = 1122.64205*(cos(i_crit))\n",
    "t_in_orbitd = (2*np.pi*140421.962*1.5e+08)/1122.64205\n",
    "Vxpi4d =1122.64205*(cos(np.pi/4))\n",
    "V_rpi4d = (1122.64205*sin(np.pi/4))**2\n",
    "dvpi4d = V_rpi4d*Force*2.16069454761e-11*t_in_orbitd\n",
    "n_grindd = (v_critd - Vxpi4d)/(dvpi4d*10**3)\n",
    "T_grind1d = n_grindd*t_in_orbitd/3.154e+7\n",
    "\n",
    "v_crite = 197.458305*(cos(i_crit))\n",
    "t_in_orbite = (2*np.pi*4539069.56*1.5e+08)/197.458305\n",
    "Vxpi4e =197.458305*(cos(np.pi/4))\n",
    "V_rpi4e = (197.458305*sin(np.pi/4))**2\n",
    "dvpi4e = V_rpi4e*Force*3.20833694402e-12*t_in_orbite\n",
    "n_grinde = (v_crite - Vxpi4e)/(dvpi4e*10**3)\n",
    "T_grind1e = n_grinde*t_in_orbite/3.154e+7\n",
    "\n",
    "v_critf = 106.147726*(cos(i_crit))\n",
    "t_in_orbitf = (2*np.pi*15707108.9*1.5e+08)/106.147726\n",
    "Vxpi4f =106.147726*(cos(np.pi/4))\n",
    "V_rpi4f = (106.147726*sin(np.pi/4))**2\n",
    "dvpi4f = V_rpi4e*Force*3.39026466666e-13*t_in_orbitf\n",
    "n_grindf = (v_critf - Vxpi4f)/(dvpi4f*10**3)\n",
    "T_grind1f = n_grindf*t_in_orbitf/3.154e+7\n",
    "\n",
    "\n",
    "grind_pi4 = [T_grind1a,T_grind1b,T_grind1c,T_grind1d,T_grind1e,T_grind1f]\n",
    "print grind_pi4\n"
   ]
  },
  {
   "cell_type": "code",
   "execution_count": 51,
   "metadata": {
    "collapsed": false
   },
   "outputs": [],
   "source": [
    "i_crit = np.arcsin(9.52700825e+01/(2*1.30051044e+04))\n",
    "mass = 1.99e+30\n",
    "Force = 0.5*6.088e+18/mass\n",
    "\n",
    "v_crit1 = 132666.709*(cos(i_crit))\n",
    "t_in_orbit1 = (2*np.pi*1.00552700e+01*1.5e+11)/132666.709\n",
    "Vxpi41 = 132666.709*(cos(5*np.pi/6))\n",
    "V_rpi41 = (132666.709*sin(5*np.pi/6))**2\n",
    "dvpi41 = V_rpi41*Force*1.06372258101e-07*t_in_orbit1\n",
    "n_grind1 = (v_crit1 - Vxpi41)/(dvpi41*10**3)\n",
    "T_grind11 = n_grind1*t_in_orbit1/3.154e+7\n",
    "\n",
    "v_crit2 = 38463.0328*(cos(i_crit))\n",
    "t_in_orbit2 = (2*np.pi*119.627381*1.5e+11)/38463.0328\n",
    "Vxpi42 = 38463.0328*(cos(5*np.pi/6))\n",
    "V_rpi42 = (38463.0328*sin(5*np.pi/6))**2\n",
    "dvpi42 = V_rpi42*Force*7.01503495128e-10*t_in_orbit2\n",
    "n_grind2 = (v_crit2 - Vxpi42)/(dvpi42*10**3)\n",
    "T_grind2 = n_grind2*t_in_orbit2/3.154e+7\n",
    "\n",
    "v_crit3 = 12108.1721*(cos(i_crit))\n",
    "t_in_orbit3 = (2*np.pi*1207.14788*1.5e+11)/12108.1721\n",
    "Vxpi43 =12108.1721*(cos(5*np.pi/6))\n",
    "V_rpi43 = (12108.1721*sin(5*np.pi/6))**2\n",
    "dvpi43 = V_rpi43*Force*1.02150507278e-10*t_in_orbit3\n",
    "n_grind3 = (v_critb - Vxpi43)/(dvpi43*10**3)\n",
    "T_grind3 = n_grind3*t_in_orbit3/3.154e+7\n",
    "\n",
    "v_crit4 = 3688.94264*(cos(i_crit))\n",
    "t_in_orbit4 = (2*np.pi*13005.1044*1.5e+11)/3688.94264\n",
    "Vxpi44 =3688.94264*(cos(5*np.pi/6))\n",
    "V_rpi44 = (3688.94264*sin(5*np.pi/6))**2\n",
    "dvpi44 = V_rpi44*Force*2.52906361193e-12*t_in_orbit4\n",
    "n_grind4 = (v_crit4 - Vxpi44)/(dvpi44*10**3)\n",
    "T_grind4 = n_grind4*t_in_orbit4/3.154e+7\n",
    "\n",
    "v_crit5 = 1122.64205*(cos(i_crit))\n",
    "t_in_orbit5 = (2*np.pi*140421.962*1.5e+11)/1122.64205\n",
    "Vxpi45 =1122.64205*(cos(5*np.pi/6))\n",
    "V_rpi45 = (1122.64205*sin(5*np.pi/6))**2\n",
    "dvpi45 = V_rpi45*Force*2.16069454761e-13*t_in_orbit5\n",
    "n_grind5 = (v_crit5 - Vxpi45)/(dvpi45*10**3)\n",
    "T_grind5 = n_grind5*t_in_orbit5/3.154e+7\n",
    "\n",
    "v_crit6 = 197.458305*(cos(i_crit))\n",
    "t_in_orbit6 = (2*np.pi*4539069.56*1.5e+11)/197.458305\n",
    "Vxpi46 =197.458305*(cos(5*np.pi/6))\n",
    "V_rpi46 = (197.458305*sin(5*np.pi/6))**2\n",
    "dvpi46 = V_rpi46*Force*3.20833694402e-14*t_in_orbit6\n",
    "n_grind6 = (v_crit6 - Vxpi46)/(dvpi46*10**3)\n",
    "T_grind6 = n_grind6*t_in_orbit6/3.154e+7\n",
    "\n",
    "v_crit7 = 106.147726*(cos(i_crit))\n",
    "t_in_orbit7 = (2*np.pi*15707108.9*1.5e+11)/106.147726\n",
    "Vxpi47 =106.147726*(cos(5*np.pi/6))\n",
    "V_rpi47 = (106.147726*sin(5*np.pi/6))**2\n",
    "dvpi47 = V_rpi47*Force*3.39026466666e-15*t_in_orbit7\n",
    "n_grind7 = (v_crit7 - Vxpi47)/(dvpi47*10**3)\n",
    "T_grind7 = n_grind7*t_in_orbit7/3.154e+7\n",
    "grind_5pi6 = [T_grind2,T_grind3, T_grind4, T_grind5, T_grind6, T_grind7] "
   ]
  },
  {
   "cell_type": "code",
   "execution_count": 52,
   "metadata": {
    "collapsed": false
   },
   "outputs": [
    {
     "name": "stdout",
     "output_type": "stream",
     "text": [
      "[512125.36825180461, 11171990.064789174, 1481112333.1478665, 56965901214.553131, 2181193911719.1895, 38397712762379.812]\n",
      "[44998.987364564557, 981650.72641998972, 130141092.97560008, 5005430365.0592051, 191655253494.21329, 974994996750.43237]\n"
     ]
    }
   ],
   "source": [
    "v_crit1 = 132666.709*(cos(i_crit))\n",
    "t_in_orbit1 = (2*np.pi*1.00552700e+01*1.5e+11)/132666.709\n",
    "Vxpi6 = 132666.709*(cos(np.pi/3))\n",
    "V_rpi6 = (132666.709*sin(np.pi/3))**2\n",
    "dvpi6 = V_rpi6*Force*1.06372258101e-07*t_in_orbit1\n",
    "N_grind = (v_crit1 - Vxpi6)/(dvpi6*10**3)\n",
    "t_grind = N_grind*t_in_orbit1/3.154e+7\n",
    "\n",
    "v_crit2 = 38463.0328*(cos(i_crit))\n",
    "t_in_orbit2 = (2*np.pi*119.627381*1.5e+11)/38463.0328\n",
    "Vxpi6a = 38463.0328*(cos(np.pi/3))\n",
    "V_rpi6a = (38463.0328*sin(np.pi/3))**2\n",
    "dvpi6a = V_rpi6a*Force*7.01503495128e-10*t_in_orbit2\n",
    "N_grind2 = (v_crit2 - Vxpi6a)/(dvpi6a*10**3)\n",
    "t_grind2 = N_grind2*t_in_orbit2/3.154e+7\n",
    "\n",
    "v_crit3 = 12108.1721*(cos(i_crit))\n",
    "t_in_orbit3 = (2*np.pi*1207.14788*1.5e+11)/12108.1721\n",
    "Vxpi6b =12108.1721*(cos(np.pi/3))\n",
    "V_rpi6b = (12108.1721*sin(np.pi/3))**2\n",
    "dvpi6b = V_rpi6b*Force*1.02150507278e-10*t_in_orbit3\n",
    "N_grind3 = (v_critb - Vxpi6b)/(dvpi6b*10**3)\n",
    "t_grind3 = N_grind3*t_in_orbit3/3.154e+7\n",
    "\n",
    "v_crit4 = 3688.94264*(cos(i_crit))\n",
    "t_in_orbit4 = (2*np.pi*13005.1044*1.5e+11)/3688.94264\n",
    "Vxpi6c =3688.94264*(cos(np.pi/3))\n",
    "V_rpi6c = (3688.94264*sin(np.pi/3))**2\n",
    "dvpi6c = V_rpi6c*Force*2.52906361193e-12*t_in_orbit4\n",
    "N_grind4 = (v_crit4 - Vxpi6c)/(dvpi6c*10**3)\n",
    "t_grind4 = N_grind4*t_in_orbit4/3.154e+7\n",
    "\n",
    "v_crit5 = 1122.64205*(cos(i_crit))\n",
    "t_in_orbit5 = (2*np.pi*140421.962*1.5e+11)/1122.64205\n",
    "Vxpi6d =1122.64205*(cos(np.pi/3))\n",
    "V_rpi6d = (1122.64205*sin(np.pi/3))**2\n",
    "dvpi6d = V_rpi6d*Force*2.16069454761e-13*t_in_orbit5\n",
    "N_grind5 = (v_crit5 - Vxpi6d)/(dvpi6d*10**3)\n",
    "t_grind5 = N_grind5*t_in_orbit5/3.154e+7\n",
    "\n",
    "v_crit6 = 197.458305*(cos(i_crit))\n",
    "t_in_orbit6 = (2*np.pi*4539069.56*1.5e+11)/197.458305\n",
    "Vxpi6e =197.458305*(cos(np.pi/3))\n",
    "V_rpi6e = (197.458305*sin(np.pi/3))**2\n",
    "dvpi6e = V_rpi6e*Force*3.20833694402e-14*t_in_orbit6\n",
    "N_grind6 = (v_crit6 - Vxpi6e)/(dvpi6e*10**3)\n",
    "t_grind6 = N_grind6*t_in_orbit6/3.154e+7\n",
    "\n",
    "v_crit7 = 106.147726*(cos(i_crit))\n",
    "t_in_orbit7 = (2*np.pi*15707108.9*1.5e+11)/106.147726\n",
    "Vxpi6f =106.147726*(cos(np.pi/3))\n",
    "V_rpi6f = (106.147726*sin(np.pi/3))**2\n",
    "dvpi6f = V_rpi6f*Force*3.39026466666e-15*t_in_orbit7\n",
    "N_grind7 = (v_crit7 - Vxpi6f)/(dvpi6f*10**3)\n",
    "t_grind7 = N_grind7*t_in_orbit7/3.154e+7\n",
    "\n",
    "t_grind_pi6 = [t_grind2, t_grind3, t_grind4, t_grind5, t_grind6, t_grind7]\n",
    "print t_grind_pi6\n",
    "print grind_pi4"
   ]
  },
  {
   "cell_type": "code",
   "execution_count": 53,
   "metadata": {
    "collapsed": false
   },
   "outputs": [
    {
     "data": {
      "text/plain": [
       "<matplotlib.legend.Legend at 0x111f14f10>"
      ]
     },
     "execution_count": 53,
     "metadata": {},
     "output_type": "execute_result"
    },
    {
     "data": {
      "image/png": "[encoded data removed]",
      "text/plain": [
       "<matplotlib.figure.Figure at 0x110d71490>"
      ]
     },
     "metadata": {},
     "output_type": "display_data"
    }
   ],
   "source": [
    "logPlot = plt.gca()\n",
    "logPlot.loglog(D_Rg1,grind_5pi6, c = 'blue', label='5pi/6')\n",
    "logPlot.loglog(D_Rg1,t_grind_pi6, c= 'g', label = 'pi/3')\n",
    "logPlot.loglog(D_Rg1,grind_pi4, c = 'r', label='pi/4')\n",
    "plt.xlabel('Distance[Rg]', size = 20)\n",
    "plt.ylabel('Grind Time[years]', size = 20)\n",
    "plt.legend()\n",
    "ax = plt.subplot(111)\n",
    "plt.savefig('t vs. a.png', dpi=300, bbox_inches='tight')\n",
    "ax.legend(loc='center left', bbox_to_anchor=(1, 0.5))"
   ]
  },
  {
   "cell_type": "code",
   "execution_count": 60,
   "metadata": {
    "collapsed": false
   },
   "outputs": [
    {
     "name": "stdout",
     "output_type": "stream",
     "text": [
      "[  3.31197280e+14   1.65829223e+10   7.58532268e+09   4.44337674e+09\n",
      "   2.22168340e+09   1.48111233e+09   1.30141093e+09   1.19054492e+09]\n"
     ]
    }
   ],
   "source": [
    "v_crit2 = 38463.0328*(cos(i_crit))\n",
    "t_in_orbit2 = (2*np.pi*119.627381*1.5e+11)/38463.0328\n",
    "Vxia = 38463.0328*(cos(i_d))\n",
    "V_ria = (38463.0328*sin(i_d))**2\n",
    "dvia = V_rpi6a*Force*7.01503495128e-10*t_in_orbit2\n",
    "N_grindi2 = (v_crit2 - Vxia)/(dvia*10**3)\n",
    "t_grindi2 = N_grindi2*t_in_orbit2/3.154e+7\n",
    "\n",
    "v_crit3 = 12108.1721*(cos(i_crit))\n",
    "t_in_orbit3 = (2*np.pi*1207.14788*1.5e+11)/12108.1721\n",
    "Vxib =12108.1721*(cos(i_d))\n",
    "V_rib = (12108.1721*sin(i_d))**2\n",
    "dvib = V_rib*Force*1.02150507278e-10*t_in_orbit3\n",
    "N_grindi3 = (v_critb - Vxib)/(dvib*10**3)\n",
    "t_grindi3 = N_grindi3*t_in_orbit3/3.154e+7\n",
    "\n",
    "v_crit4 = 3688.94264*(cos(i_crit))\n",
    "t_in_orbit4 = (2*np.pi*13005.1044*1.5e+11)/3688.94264\n",
    "Vxic =3688.94264*(cos(i_d))\n",
    "V_ric = (3688.94264*sin(i_d))**2\n",
    "dvic = V_ric*Force*2.52906361193e-12*t_in_orbit4\n",
    "N_grindi4 = (v_crit4 - Vxic)/(dvic*10**3)\n",
    "t_grindi4 = N_grindi4*t_in_orbit4/3.154e+7\n",
    "\n",
    "v_crit5 = 1122.64205*(cos(i_crit))\n",
    "t_in_orbit5 = (2*np.pi*140421.962*1.5e+11)/1122.64205\n",
    "Vxid =1122.64205*(cos(i_d))\n",
    "V_rid = (1122.64205*sin(i_d))**2\n",
    "dvid = V_rid*Force*2.16069454761e-13*t_in_orbit5\n",
    "N_grindi5 = (v_crit5 - Vxid)/(dvid*10**3)\n",
    "t_grindi5 = N_grindi5*t_in_orbit5/3.154e+7\n",
    "\n",
    "print t_grindi4"
   ]
  },
  {
   "cell_type": "code",
   "execution_count": 62,
   "metadata": {
    "collapsed": false
   },
   "outputs": [
    {
     "data": {
      "text/plain": [
       "<matplotlib.legend.Legend at 0x11279ad50>"
      ]
     },
     "execution_count": 62,
     "metadata": {},
     "output_type": "execute_result"
    },
    {
     "data": {
      "image/png": "[encoded data removed]",
      "text/plain": [
       "<matplotlib.figure.Figure at 0x1126b0f50>"
      ]
     },
     "metadata": {},
     "output_type": "display_data"
    }
   ],
   "source": [
    "logPlot = plt.gca()\n",
    "plt.semilogy(i_d,t_grindi3, c='purple', label='10^3 Rg')\n",
    "plt.semilogy(i_d,t_grindi4, c='b', label='10^4 Rg')\n",
    "plt.semilogy(i_d,t_grindi5, c='orange', label='10^5 Rg')\n",
    "plt.xlabel('Inclination Angle', size = 20)\n",
    "plt.ylabel('Grind Time[years]', size = 20)\n",
    "plt.legend()\n",
    "ax = plt.subplot(111)\n",
    "ax.legend(loc='center left', bbox_to_anchor=(1, 0.5))"
   ]
  },
  {
   "cell_type": "code",
   "execution_count": 67,
   "metadata": {
    "collapsed": false
   },
   "outputs": [
    {
     "name": "stdout",
     "output_type": "stream",
     "text": [
      "11.0668113198\n"
     ]
    }
   ],
   "source": []
  },
  {
   "cell_type": "code",
   "execution_count": 65,
   "metadata": {
    "collapsed": false
   },
   "outputs": [
    {
     "name": "stdout",
     "output_type": "stream",
     "text": [
      "0.00366280394975\n"
     ]
    }
   ],
   "source": []
  },
  {
   "cell_type": "code",
   "execution_count": null,
   "metadata": {
    "collapsed": true
   },
   "outputs": [],
   "source": []
  }
 ],
 "metadata": {
  "kernelspec": {
   "display_name": "Python 2",
   "language": "python",
   "name": "python2"
  },
  "language_info": {
   "codemirror_mode": {
    "name": "ipython",
    "version": 2
   },
   "file_extension": ".py",
   "mimetype": "text/x-python",
   "name": "python",
   "nbconvert_exporter": "python",
   "pygments_lexer": "ipython2",
   "version": "2.7.13"
  }
 },
 "nbformat": 4,
 "nbformat_minor": 2
}
