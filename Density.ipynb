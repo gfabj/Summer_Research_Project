{
 "cells": [
  {
   "cell_type": "markdown",
   "metadata": {},
   "source": [
    "# Lines for SD"
   ]
  },
  {
   "cell_type": "code",
   "execution_count": 3,
   "metadata": {
    "collapsed": true
   },
   "outputs": [],
   "source": [
    "import numpy as np\n",
    "import matplotlib.pyplot as plt\n",
    "import pandas as pd\n",
    "import astropy\n",
    "%matplotlib inline\n",
    "import pylab\n",
    "import scipy.interpolate as sp"
   ]
  },
  {
   "cell_type": "code",
   "execution_count": 4,
   "metadata": {
    "collapsed": false
   },
   "outputs": [
    {
     "name": "stdout",
     "output_type": "stream",
     "text": [
      "[  2.55675200e+00   3.48527173e+00   4.46496464e+00   5.60291344e+00\n",
      "   7.47988568e+00   1.06218469e+01   1.47757723e+01   1.97233327e+01\n",
      "   2.42409675e+01   3.04176363e+01   3.58761336e+01   4.50238131e+01\n",
      "   5.42275517e+01   6.66812275e+01   8.03215809e+01   9.47576526e+01\n",
      "   1.14109211e+02   1.40252538e+02   1.62029921e+02   1.95046710e+02\n",
      "   2.49773764e+02   3.06941310e+02   3.69555994e+02   4.26988011e+02\n",
      "   5.35848641e+02   6.45303210e+02   7.93379902e+02   9.16892670e+02\n",
      "   1.15120800e+03   1.53796188e+03   3.30680595e+03   1.05340691e+04\n",
      "   3.57050712e+04   1.00462601e+05   2.44554357e+05   1.15414854e+06\n",
      "   3.99384422e+06   8.32494014e+06]\n"
     ]
    }
   ],
   "source": [
    "text_file1 = np.loadtxt('hoverrNoCommas.txt', dtype = 'float')\n",
    "a = text_file1[:,0]\n",
    "ratio = text_file1[:,1]\n",
    "ratio1 = 10**ratio\n",
    "a1 = 10**a\n",
    "height = ratio1*a1\n",
    "print a1"
   ]
  },
  {
   "cell_type": "markdown",
   "metadata": {},
   "source": [
    "# Equation of the line"
   ]
  },
  {
   "cell_type": "code",
   "execution_count": 5,
   "metadata": {
    "collapsed": true
   },
   "outputs": [],
   "source": [
    "def slope(dx, dy):\n",
    "    return (dy / dx) if dx else None\n",
    "\n",
    "class Point:\n",
    "    def __init__(self, x, y):\n",
    "        self.x = x\n",
    "        self.y = y\n",
    "\n",
    "    def __str__(self):\n",
    "        return '({}, {})'.format(self.x, self.y)\n",
    "\n",
    "    def __repr__(self):\n",
    "        return 'Point({}, {})'.format(self.x, self.y)\n",
    "\n",
    "    def halfway(self, target):\n",
    "        midx = (self.x + target.x) / 2\n",
    "        midy = (self.y + target.y) / 2\n",
    "        return Point(midx, midy)\n",
    "\n",
    "    def distance(self, target):\n",
    "        dx = target.x - self.x\n",
    "        dy = target.y - self.y\n",
    "        return (dx*dx + dy*dy) ** 0.5\n",
    "\n",
    "    def reflect_x(self):\n",
    "        return Point(-self.x,self.y)\n",
    "\n",
    "    def reflect_y(self):\n",
    "        return Point(self.x,-self.y)\n",
    "\n",
    "    def reflect_x_y(self):\n",
    "        return Point(-self.x, -self.y)\n",
    "\n",
    "    def slope_from_origin(self):\n",
    "        return slope(self.x, self.y)\n",
    "\n",
    "    def slope(self, target):\n",
    "        return slope(target.x - self.x, target.y - self.y)\n",
    "\n",
    "    def y_int(self, target):       # <= here's the magic\n",
    "        return self.y - self.slope(target)*self.x\n",
    "\n",
    "    def line_equation(self, target):\n",
    "        slope = self.slope(target)\n",
    "\n",
    "        y_int = self.y_int(target)\n",
    "        if y_int < 0:\n",
    "            y_int = -y_int\n",
    "            sign = '-'\n",
    "        else:\n",
    "            sign = '+'\n",
    "\n",
    "        return 'y = {}x {} {}'.format(slope, sign, y_int)\n",
    "\n",
    "    def line_function(self, target):\n",
    "        slope = self.slope(target)\n",
    "        y_int = self.y_int(target)\n",
    "        def fn(x):\n",
    "            return slope*x + y_int\n",
    "        return fn\n"
   ]
  },
  {
   "cell_type": "markdown",
   "metadata": {},
   "source": [
    "# Boundaries of Height"
   ]
  },
  {
   "cell_type": "code",
   "execution_count": 6,
   "metadata": {
    "collapsed": false
   },
   "outputs": [
    {
     "name": "stdout",
     "output_type": "stream",
     "text": [
      "y = 0.0243794627691x + 0.535087584806\n",
      "y = 0.0355993772166x + 0.0299242537241\n",
      "y = -0.00138942736265x + 4.25068756009\n",
      "y = 0.00528926022491x + 2.13746328006\n",
      "y = 0.722108181856x - 655.10855168\n"
     ]
    }
   ],
   "source": [
    "c1 = Point(2.55675200e+00, 5.97419825e-01)\n",
    "d1 = Point(4.50238131e+01, 1.63274396e+00)\n",
    "print(c1.line_equation(d1))\n",
    "\n",
    "c2 = Point(4.50238131e+01,1.63274396e+00)\n",
    "d2 = Point(1.14109211e+02,4.09214110e+00)\n",
    "print(c2.line_equation(d2))\n",
    "\n",
    "c3 = Point(1.14109211e+02,4.09214110e+00)\n",
    "d3 = Point(3.69555994e+02,3.73721635e+00)\n",
    "print(c3.line_equation(d3))\n",
    "\n",
    "c4 = Point(3.69555994e+02,4.09214110e+00)\n",
    "d4 = Point(9.16892670e+02,6.98714721e+00)\n",
    "print(c4.line_equation(d4))\n",
    "\n",
    "c5 = Point(9.16892670e+02,6.98714721e+00)\n",
    "d5 = Point(8.32494014e+06, 6.01085228e+06)\n",
    "print (c5.line_equation(d5))"
   ]
  },
  {
   "cell_type": "code",
   "execution_count": 7,
   "metadata": {
    "collapsed": true
   },
   "outputs": [],
   "source": [
    "#def Height1(a1):\n",
    "    #a1_condlist = [(a1 >= 2.55675200e+00) & (a1 <=4.50238131e+01), (a1 >4.50238131e+01 ) & (a1 <=1.14109211e+02), (a1 >1.14109211e+02 ) & (a1 <3.69555994e+02),(a1 <= 3.69555994e+02) & (a1 >9.16892670e+02),(a1 <=9.16892670e+02 ) & (a1 >=8.32494014e+06) ]\n",
    "    #a1_funclist = [lambda a1: 0.0243794627691*a1 + 0.535087584806, lambda a1: 0.0355993772166*a1 +  0.0299242537241, lambda a1: (-0.00138942736265)*a1 + 4.25068756009, lambda a1: 0.00528926022491*a1 + 2.13746328006, lambda a1: 0.722108181856*a1 - 655.10855168]\n",
    "    #Height = np.piecewise(a1, a1_condlist, a1_funclist)\n",
    "    #return Height"
   ]
  },
  {
   "cell_type": "code",
   "execution_count": 8,
   "metadata": {
    "collapsed": false
   },
   "outputs": [],
   "source": [
    "#def functional(x):\n",
    "    #if ((x >= 2) & (x < 6)):\n",
    "        #return 2*x\n",
    "    #elif ((x >= 6) & (x < 10)):\n",
    "        #return x-3\n",
    "    #elif (x >= 10):\n",
    "        #return x/3\n",
    "    #else:\n",
    "        #continue\n",
    "        #return 3*x - 6"
   ]
  },
  {
   "cell_type": "markdown",
   "metadata": {},
   "source": [
    "# Piecewise Function"
   ]
  },
  {
   "cell_type": "code",
   "execution_count": 9,
   "metadata": {
    "collapsed": true
   },
   "outputs": [],
   "source": [
    "def Height(x):\n",
    "    if ((x >= 2.55675200e+00) & (x <=4.50238131e+01)):\n",
    "        return 0.0243794627691*x + 0.535087584806\n",
    "    elif ((x >4.50238131e+01) & (x <=1.14109211e+02)):\n",
    "        return 0.0355993772166*x + 0.0299242537241\n",
    "    elif ((x >1.14109211e+02) & (x<3.69555994e+02)):\n",
    "        return (-0.00138942736265)*x + 4.25068756009\n",
    "    elif ((x>= 3.69555994e+02) & (x<9.16892670e+02)):\n",
    "        return 0.00528926022491*x + 2.13746328006\n",
    "    elif ((x>=9.16892670e+02) & (x<=8.32494014e+06)):\n",
    "        return 0.722108181856*x - 655.10855168\n",
    "    else:\n",
    "        return 3*x"
   ]
  },
  {
   "cell_type": "code",
   "execution_count": 10,
   "metadata": {
    "collapsed": false
   },
   "outputs": [
    {
     "name": "stdout",
     "output_type": "stream",
     "text": [
      "4.0921411\n"
     ]
    }
   ],
   "source": [
    "print Height(1.14109211e+02)"
   ]
  },
  {
   "cell_type": "code",
   "execution_count": 11,
   "metadata": {
    "collapsed": true
   },
   "outputs": [],
   "source": [
    "def SurfaceDensity(x):\n",
    "    if ((x >= 2.59665597) & (x <= 4.54629547e+01)):\n",
    "        return 2599.13153575*x - 1654.64126912\n",
    "    elif ((x > 4.54629547e+01) & (x <= 9.39664831e+01)):\n",
    "        return (- 907.093214687)*x + 157748.695728\n",
    "    elif ((x>=1.18051653e+02) & (x<= 5.59432571e+02)):\n",
    "        return 1413.70421773*x - 84603.0101555\n",
    "    elif ((x > 5.59432571e+02) & (x <= 9.20373200e+02)):\n",
    "        return - 148.699857228*x + 789456.718436\n",
    "    elif ((x > 9.20373200e+02) & (x <= 8.64842328e+06)):\n",
    "        return - 0.0754664810715*x + 652666.812327\n",
    "    else:\n",
    "        return 3*x"
   ]
  },
  {
   "cell_type": "code",
   "execution_count": 12,
   "metadata": {
    "collapsed": false
   },
   "outputs": [
    {
     "name": "stdout",
     "output_type": "stream",
     "text": [
      "0.740568560082\n"
     ]
    }
   ],
   "source": [
    "print SurfaceDensity(8.64842328e+06)"
   ]
  },
  {
   "cell_type": "markdown",
   "metadata": {},
   "source": [
    "# Density"
   ]
  },
  {
   "cell_type": "code",
   "execution_count": 13,
   "metadata": {
    "collapsed": false,
    "scrolled": true
   },
   "outputs": [
    {
     "name": "stdout",
     "output_type": "stream",
     "text": [
      "y = 2599.13153575x - 1654.64126912\n",
      "y = -907.093214687x + 157748.695728\n",
      "y = 1413.70421773x - 84603.0101555\n",
      "y = -148.699857228x + 789456.718436\n",
      "y = -0.0754664810715x + 652666.812327\n"
     ]
    }
   ],
   "source": [
    "#Eq. For Surface Density\n",
    "\n",
    "a1 = Point(2.59665597, 5.09440915e+03)\n",
    "b1 = Point(4.54629547e+01, 1.16509558e+05)\n",
    "print(a1.line_equation(b1))\n",
    "\n",
    "a2 = Point(4.54629547e+01,1.16509558e+05)\n",
    "b2 = Point(9.39664831e+01,7.25123365e+04)\n",
    "print(a2.line_equation(b2))\n",
    "\n",
    "a3 = Point(1.18051653e+02,8.22871096e+04)\n",
    "b3 = Point(5.59432571e+02,7.06269175e+05)\n",
    "print(a3.line_equation(b3))\n",
    "\n",
    "a4 = Point(5.59432571e+02,7.06269175e+05)\n",
    "b4 = Point(9.20373200e+02,6.52597355e+05)\n",
    "print(a4.line_equation(b4))\n",
    "\n",
    "a5 = Point(9.20373200e+02,6.52597355e+05)\n",
    "b5 = Point(8.64842328e+06, 7.40568469e-01)\n",
    "print (a5.line_equation(b5))"
   ]
  },
  {
   "cell_type": "code",
   "execution_count": 14,
   "metadata": {
    "collapsed": false
   },
   "outputs": [
    {
     "name": "stdout",
     "output_type": "stream",
     "text": [
      "(30, 2)\n"
     ]
    }
   ],
   "source": [
    "text_file2 = np.loadtxt('SurfaceDensity.txt', dtype = 'float')\n",
    "a2 = text_file2[:,0]\n",
    "surface_density = text_file2[:,1]\n",
    "print text_file2.shape"
   ]
  },
  {
   "cell_type": "code",
   "execution_count": 15,
   "metadata": {
    "collapsed": true
   },
   "outputs": [],
   "source": [
    "unlog_sd = 10**text_file2[:,1]\n",
    "unlog_a2 = 10**a2"
   ]
  },
  {
   "cell_type": "code",
   "execution_count": 16,
   "metadata": {
    "collapsed": false
   },
   "outputs": [],
   "source": [
    "def SurfaceDensity1(unlog_a2):\n",
    "    unlog_a2_condlist = [(unlog_a2 >= 2.59665597) & (unlog_a2 <= 4.54629547e+01), (unlog_a2 > 4.54629547e+01 ) & (unlog_a2 <= 9.39664831e+01), (unlog_a2 >=1.18051653e+02 ) & (unlog_a2 <= 5.59432571e+02),(unlog_a2 >5.59432571e+02 ) & (unlog_a2 <= 9.20373200e+02),(unlog_a2 > 9.20373200e+02 ) & (unlog_a2 <= 8.64842328e+06) ]\n",
    "    unlog_a2_funclist = [lambda unlog_a2: 2599.13153575*unlog_a2 - 1654.64126912, lambda unlog_a2: - 907.093214687*unlog_a2 + 157748.695728, lambda unlog_a2: 1413.70421773*unlog_a2 - 84603.0101555 , lambda unlog_a2: - 148.699857228*unlog_a2 + 789456.718436, lambda unlog_a2: - 0.0754664810715*unlog_a2 + 652666.812327]\n",
    "    Surface_Density = np.piecewise(unlog_a2, unlog_a2_condlist, unlog_a2_funclist)\n",
    "    return Surface_Density"
   ]
  },
  {
   "cell_type": "code",
   "execution_count": null,
   "metadata": {
    "collapsed": false
   },
   "outputs": [],
   "source": []
  },
  {
   "cell_type": "code",
   "execution_count": 17,
   "metadata": {
    "collapsed": false
   },
   "outputs": [
    {
     "name": "stdout",
     "output_type": "stream",
     "text": [
      "8513.4886681 70681.3726412\n",
      "70681.3726412 21484.6750187\n",
      "20135.5243354 138580.676762\n",
      "138580.676762 68691.0860431\n",
      "68691.0860431 2.85434903799e-08\n"
     ]
    }
   ],
   "source": [
    "print SurfaceDensity(2.59665597)/Height(2.59665597), SurfaceDensity(4.54629547e+01)/Height(4.54629547e+01)\n",
    "print SurfaceDensity(4.54629547e+01)/Height(4.54629547e+01), SurfaceDensity(9.39664831e+01)/Height(9.39664831e+01)\n",
    "print SurfaceDensity(1.18051653e+02)/Height(1.18051653e+02), SurfaceDensity(5.59432571e+02)/Height(5.59432571e+02)\n",
    "print SurfaceDensity(5.59432571e+02)/Height(5.59432571e+02), SurfaceDensity(9.20373200e+02)/Height(9.20373200e+02)\n",
    "print SurfaceDensity(9.20373200e+02)/Height(9.20373200e+02), SurfaceDensity(8.64842328e+06)/Height(8.64842328e+06)"
   ]
  },
  {
   "cell_type": "code",
   "execution_count": 18,
   "metadata": {
    "collapsed": false
   },
   "outputs": [
    {
     "data": {
      "text/plain": [
       "[<matplotlib.lines.Line2D at 0x11b335b90>]"
      ]
     },
     "execution_count": 18,
     "metadata": {},
     "output_type": "execute_result"
    },
    {
     "data": {
      "image/png": "[encoded data removed]",
      "text/plain": [
       "<matplotlib.figure.Figure at 0x118dc3c10>"
      ]
     },
     "metadata": {},
     "output_type": "display_data"
    }
   ],
   "source": [
    "logPlot=plt.gca()\n",
    "logPlot.loglog([2.59665597,4.54629547e+01], [8513.4886681,70681.3726412], c='r')\n",
    "logPlot.loglog([4.54629547e+01,9.39664831e+01], [70681.3726412,21484.6750187], c='y')\n",
    "logPlot.loglog([1.18051653e+02,5.59432571e+02], [20135.5243354,68691.0860431], c='g')\n",
    "logPlot.loglog([5.59432571e+02,9.20373200e+02],[138580.676762,68691.0860431], color='orange')\n",
    "logPlot.loglog([9.20373200e+02,8.64842328e+06],[68691.0860431, 2.85434903799e-08], c='b')"
   ]
  },
  {
   "cell_type": "code",
   "execution_count": 19,
   "metadata": {
    "collapsed": true
   },
   "outputs": [],
   "source": [
    "Distance_d = [2.59665597,4.54629547e+01,9.39664831e+01,1.18051653e+02,5.59432571e+02,9.20373200e+02,8.64842328e+06]\n",
    "Density_d = [8513.4886681,70681.3726412,21484.6750187,20135.5243354,68691.0860431,138580.676762,2.85434903799e-08]"
   ]
  },
  {
   "cell_type": "code",
   "execution_count": 20,
   "metadata": {
    "collapsed": false
   },
   "outputs": [
    {
     "data": {
      "text/plain": [
       "<matplotlib.text.Text at 0x11b7998d0>"
      ]
     },
     "execution_count": 20,
     "metadata": {},
     "output_type": "execute_result"
    },
    {
     "data": {
      "image/png": "[encoded data removed]",
      "text/plain": [
       "<matplotlib.figure.Figure at 0x118dadc10>"
      ]
     },
     "metadata": {},
     "output_type": "display_data"
    }
   ],
   "source": [
    "logPlot = plt.gca()\n",
    "logPlot.loglog(Distance_d,Density_d)\n",
    "plt.xlabel('a in Rs',fontsize=20)\n",
    "plt.ylabel('Density',fontsize=20)"
   ]
  },
  {
   "cell_type": "code",
   "execution_count": 42,
   "metadata": {
    "collapsed": false
   },
   "outputs": [
    {
     "name": "stdout",
     "output_type": "stream",
     "text": [
      "[  2.59665597e+00   3.77204249e+00   6.60419396e+00   1.51418933e+01\n",
      "   3.00246171e+01   3.77204249e+01   4.54629547e+01   5.71158648e+01\n",
      "   6.60419396e+01   7.63629826e+01   9.39664831e+01   1.18051653e+02\n",
      "   1.45265393e+02   1.75082703e+02   2.11020343e+02   2.65108360e+02\n",
      "   3.40041193e+02   4.54629547e+02   5.59432571e+02   7.25037318e+02\n",
      "   9.20373200e+02   1.48310251e+03   3.61874981e+03   1.13254132e+04\n",
      "   3.85110700e+04   1.23052400e+05   3.19524751e+05   1.15628013e+06\n",
      "   3.19524751e+06   8.64842328e+06]\n"
     ]
    }
   ],
   "source": [
    "print unlog_a2  "
   ]
  },
  {
   "cell_type": "code",
   "execution_count": 21,
   "metadata": {
    "collapsed": false
   },
   "outputs": [],
   "source": [
    "a_init = text_file1[:30,0]\n",
    "ratio_init = text_file1[:30,1]\n",
    "unlog_ratio = 10**ratio_init\n",
    "unlog_a = 10**a_init\n",
    "height_ = unlog_ratio*unlog_a\n",
    "D = unlog_sd/height_"
   ]
  },
  {
   "cell_type": "code",
   "execution_count": 30,
   "metadata": {
    "collapsed": true
   },
   "outputs": [],
   "source": [
    "c = 6.67e-11*2*1.99e30*10**8\n",
    "c_sq = (3e8)**2\n",
    "meters = c/c_sq"
   ]
  },
  {
   "cell_type": "code",
   "execution_count": 46,
   "metadata": {
    "collapsed": false
   },
   "outputs": [
    {
     "name": "stdout",
     "output_type": "stream",
     "text": [
      "1.76503229448e+11 4.86208980579e+11\n",
      "4.86208980579e+11 9.95518893999e+11\n",
      "1.20541130709e+12 1.50325954681e+12\n",
      "1.50325954681e+12 2.80227868178e+12\n",
      "2.80227868178e+12 7.65287444816e+18\n"
     ]
    }
   ],
   "source": [
    "print Height(2.59665597)*meters, Height(4.54629547e+01)*meters\n",
    "print Height(4.54629547e+01)*meters, Height(9.39664831e+01)*meters\n",
    "print Height(1.18051653e+02)*meters, Height(5.59432571e+02)*meters\n",
    "print Height(5.59432571e+02)*meters, Height(9.20373200e+02)*meters\n",
    "print Height(9.20373200e+02)*meters, Height(8.64842328e+06)*meters"
   ]
  },
  {
   "cell_type": "code",
   "execution_count": 44,
   "metadata": {
    "collapsed": false
   },
   "outputs": [
    {
     "name": "stdout",
     "output_type": "stream",
     "text": [
      "2.88629798216e-08 2.39628560257e-07\n",
      "2.39628560257e-07 7.28387345907e-08\n",
      "6.82647566989e-08 4.69825171908e-07\n",
      "4.69825171908e-07 2.32880961927e-07\n",
      "2.32880961927e-07 9.67699868983e-20\n",
      "8.11245508021e-11\n"
     ]
    }
   ],
   "source": [
    "print SurfaceDensity(2.59665597)/(1.76503229448e+11), SurfaceDensity(4.54629547e+01)/(4.86208980579e+11)\n",
    "print SurfaceDensity(4.54629547e+01)/(4.86208980579e+11), SurfaceDensity(9.39664831e+01)/(9.95518893999e+11)\n",
    "print SurfaceDensity(1.18051653e+02)/(1.20541130709e+12), SurfaceDensity(5.59432571e+02)/(1.50325954681e+12)\n",
    "print SurfaceDensity(5.59432571e+02)/(1.50325954681e+12), SurfaceDensity(9.20373200e+02)/(2.80227868178e+12)\n",
    "print SurfaceDensity(9.20373200e+02)/(2.80227868178e+12), SurfaceDensity(8.64842328e+06)/(7.65287444816e+18)"
   ]
  },
  {
   "cell_type": "code",
   "execution_count": 33,
   "metadata": {
    "collapsed": false
   },
   "outputs": [
    {
     "name": "stdout",
     "output_type": "stream",
     "text": [
      "2.94962222222e+11\n"
     ]
    }
   ],
   "source": [
    "c = 6.67e-11*2*1.99e30*10**8\n",
    "c_sq = (3e8)**2\n",
    "meters = c/c_sq\n",
    "print meters"
   ]
  },
  {
   "cell_type": "code",
   "execution_count": 34,
   "metadata": {
    "collapsed": false
   },
   "outputs": [
    {
     "name": "stdout",
     "output_type": "stream",
     "text": [
      "[5.106102768385334, 89.39902764733482, 184.77708446388593, 232.13851937257778, 1100.0764955043408, 1809.8354956385185, 17006387.662581332]\n"
     ]
    }
   ],
   "source": [
    "d_rg = [2.59665597*meters/(1.5e+11),4.54629547e+01*meters/(1.5e+11),9.39664831e+01*meters/(1.5e+11),1.18051653e+02*meters/(1.5e+11),5.59432571e+02*meters/(1.5e+11),9.20373200e+02*meters/(1.5e+11),8.64842328e+06*meters/(1.5e+11)]\n",
    "print d_rg"
   ]
  },
  {
   "cell_type": "code",
   "execution_count": 40,
   "metadata": {
    "collapsed": false
   },
   "outputs": [],
   "source": [
    "distance_rg = np.array([5.106102768385334, 89.39902764733482, 184.77708446388593, 232.13851937257778, 1100.0764955043408, 1809.8354956385185, 17006387.662581332])"
   ]
  },
  {
   "cell_type": "code",
   "execution_count": 57,
   "metadata": {
    "collapsed": false
   },
   "outputs": [],
   "source": [
    "adj_density = np.array ([2.88629798216e-08,2.39628560257e-06, 7.28387345907e-08,6.82647566989e-08,4.69825171908e-07,2.32880961927e-07, 9.67699868983e-20])"
   ]
  },
  {
   "cell_type": "code",
   "execution_count": 58,
   "metadata": {
    "collapsed": false
   },
   "outputs": [
    {
     "data": {
      "image/png": "[encoded data removed]",
      "text/plain": [
       "<matplotlib.figure.Figure at 0x11b9e7150>"
      ]
     },
     "metadata": {},
     "output_type": "display_data"
    }
   ],
   "source": [
    "logPlot = plt.gca()\n",
    "logPlot.loglog(distance_rg,adj_density)\n",
    "plt.xlabel('a in Rg',fontsize=18)\n",
    "plt.ylabel('Density',fontsize=18)\n",
    "plt.savefig('Density.pdf')"
   ]
  },
  {
   "cell_type": "code",
   "execution_count": null,
   "metadata": {
    "collapsed": true
   },
   "outputs": [],
   "source": []
  }
 ],
 "metadata": {
  "kernelspec": {
   "display_name": "Python 2",
   "language": "python",
   "name": "python2"
  },
  "language_info": {
   "codemirror_mode": {
    "name": "ipython",
    "version": 2
   },
   "file_extension": ".py",
   "mimetype": "text/x-python",
   "name": "python",
   "nbconvert_exporter": "python",
   "pygments_lexer": "ipython2",
   "version": "2.7.13"
  }
 },
 "nbformat": 4,
 "nbformat_minor": 2
}
