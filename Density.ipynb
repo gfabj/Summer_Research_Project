{
 "cells": [
  {
   "cell_type": "markdown",
   "metadata": {},
   "source": [
    "# Lines for SD"
   ]
  },
  {
   "cell_type": "code",
   "execution_count": 57,
   "metadata": {
    "collapsed": true
   },
   "outputs": [],
   "source": [
    "import numpy as np\n",
    "import matplotlib.pyplot as plt\n",
    "import pandas as pd\n",
    "import astropy\n",
    "%matplotlib inline\n",
    "import pylab\n",
    "import scipy.interpolate as sp"
   ]
  },
  {
   "cell_type": "code",
   "execution_count": 72,
   "metadata": {
    "collapsed": false
   },
   "outputs": [],
   "source": [
    "text_file1 = np.loadtxt('hoverrNoCommas.txt', dtype = 'float')\n",
    "a = text_file1[:,0]\n",
    "ratio = text_file1[:,1]\n",
    "ratio1 = 10**ratio\n",
    "a1 = 10**a\n",
    "height = ratio1*a1"
   ]
  },
  {
   "cell_type": "code",
   "execution_count": 73,
   "metadata": {
    "collapsed": false
   },
   "outputs": [
    {
     "name": "stdout",
     "output_type": "stream",
     "text": [
      "y = 0.0243794627691x + 0.535087584806\n",
      "y = 0.0355993772166x + 0.0299242537241\n",
      "y = -0.00138942736265x + 4.25068756009\n",
      "y = 0.00528926022491x + 2.13746328006\n",
      "y = 0.722108181856x - 655.10855168\n"
     ]
    }
   ],
   "source": [
    "c1 = Point(2.55675200e+00, 5.97419825e-01)\n",
    "d1 = Point(4.50238131e+01, 1.63274396e+00)\n",
    "print(c1.line_equation(d1))\n",
    "\n",
    "c2 = Point(4.50238131e+01,1.63274396e+00)\n",
    "d2 = Point(1.14109211e+02,4.09214110e+00)\n",
    "print(c2.line_equation(d2))\n",
    "\n",
    "c3 = Point(1.14109211e+02,4.09214110e+00)\n",
    "d3 = Point(3.69555994e+02,3.73721635e+00)\n",
    "print(c3.line_equation(d3))\n",
    "\n",
    "c4 = Point(3.69555994e+02,4.09214110e+00)\n",
    "d4 = Point(9.16892670e+02,6.98714721e+00)\n",
    "print(c4.line_equation(d4))\n",
    "\n",
    "c5 = Point(9.16892670e+02,6.98714721e+00)\n",
    "d5 = Point(8.32494014e+06, 6.01085228e+06)\n",
    "print (c5.line_equation(d5))"
   ]
  },
  {
   "cell_type": "code",
   "execution_count": 74,
   "metadata": {
    "collapsed": true
   },
   "outputs": [],
   "source": [
    "def Height(a1):\n",
    "    a1_condlist = [(a1 >= 2.55675200e+00) & (a1 <=4.50238131e+01), (a1 >4.50238131e+01 ) & (a1 < 1.14109211e+02), (a1 >=1.14109211e+02 ) & (a1 <3.69555994e+02),(a1 <= 3.69555994e+02) & (a1 >9.16892670e+02),(a1 <=9.16892670e+02 ) & (a1 >=8.32494014e+06) ]\n",
    "    a1_funclist = [lambda a1: 0.0243794627691*a1 + 0.535087584806, lambda a1: (0.0355993772166)*a1 +  0.0299242537241, lambda a1: (-0.00138942736265)*a1 + 4.25068756009 , lambda a1: 0.00528926022491*a1 + 2.13746328006, lambda a1: 0.722108181856*a1 - 655.10855168]\n",
    "    Height = np.piecewise(a1, a1_condlist, a1_funclist)\n",
    "    return Height"
   ]
  },
  {
   "cell_type": "code",
   "execution_count": 75,
   "metadata": {
    "collapsed": false
   },
   "outputs": [
    {
     "name": "stdout",
     "output_type": "stream",
     "text": [
      "0.597419825\n"
     ]
    }
   ],
   "source": [
    "print Height(2.55675200)"
   ]
  },
  {
   "cell_type": "code",
   "execution_count": 58,
   "metadata": {
    "collapsed": false,
    "scrolled": true
   },
   "outputs": [
    {
     "name": "stdout",
     "output_type": "stream",
     "text": [
      "y = 2599.13153575x - 1654.64126912\n",
      "y = -907.093214687x + 157748.695728\n",
      "y = 1599.86781156x - 188748.988084\n",
      "y = -148.699857228x + 789456.718436\n",
      "y = -0.0754664810715x + 652666.812327\n"
     ]
    }
   ],
   "source": [
    "#Eq. For Surface Density\n",
    "\n",
    "a1 = Point(2.59665597, 5.09440915e+03)\n",
    "b1 = Point(4.54629547e+01, 1.16509558e+05)\n",
    "print(a1.line_equation(b1))\n",
    "\n",
    "a2 = Point(4.54629547e+01,1.16509558e+05)\n",
    "b2 = Point(9.39664831e+01,7.25123365e+04)\n",
    "print(a2.line_equation(b2))\n",
    "\n",
    "a3 = Point(1.18051653e+02,1.18051653e+02)\n",
    "b3 = Point(5.59432571e+02,7.06269175e+05)\n",
    "print(a3.line_equation(b3))\n",
    "\n",
    "a4 = Point(5.59432571e+02,7.06269175e+05)\n",
    "b4 = Point(9.20373200e+02,6.52597355e+05)\n",
    "print(a4.line_equation(b4))\n",
    "\n",
    "a5 = Point(9.20373200e+02,6.52597355e+05)\n",
    "b5 = Point(8.64842328e+06, 7.40568469e-01)\n",
    "print (a5.line_equation(b5))"
   ]
  },
  {
   "cell_type": "code",
   "execution_count": 60,
   "metadata": {
    "collapsed": true
   },
   "outputs": [],
   "source": [
    "text_file2 = np.loadtxt('SurfaceDensity.txt', dtype = 'float')\n",
    "a2 = text_file2[:,0]\n",
    "surface_density = text_file2[:,1]"
   ]
  },
  {
   "cell_type": "code",
   "execution_count": 61,
   "metadata": {
    "collapsed": true
   },
   "outputs": [],
   "source": [
    "unlog_sd = 10**text_file2[:,1]\n",
    "unlog_a2 = 10**a2"
   ]
  },
  {
   "cell_type": "code",
   "execution_count": 69,
   "metadata": {
    "collapsed": false
   },
   "outputs": [],
   "source": [
    "def SurfaceDensity(unlog_a2):\n",
    "    unlog_a2_condlist = [(unlog_a2 >= 2.59665597) & (unlog_a2 <= 4.54629547e+01), (unlog_a2 >4.54629547e+01 ) & (unlog_a2 < 9.39664831e+01), (unlog_a2 >=1.18051653e+02 ) & (unlog_a2 <5.59432571e+02),(unlog_a2 <=5.59432571e+02 ) & (unlog_a2 >9.20373200e+02),(unlog_a2 <=9.20373200e+02 ) & (unlog_a2 >=8.64842328e+06) ]\n",
    "    unlog_a2_funclist = [lambda unlog_a2: 2599.13153575*unlog_a2 - 1654.64126912, lambda unlog_a2: (-907.093214687)*unlog_a2 + 157748.695728, lambda unlog_a2: 1599.86781156*unlog_a2 - 188748.988084, lambda unlog_a2: -148.699857228*unlog_a2 + 789456.718436, lambda unlog_a2: -0.0754664810715*unlog_a2 + 652666.812327]\n",
    "    Surface_Density = np.piecewise(unlog_a2, unlog_a2_condlist, unlog_a2_funclist)\n",
    "    return Surface_Density"
   ]
  },
  {
   "cell_type": "code",
   "execution_count": 71,
   "metadata": {
    "collapsed": false
   },
   "outputs": [
    {
     "name": "stdout",
     "output_type": "stream",
     "text": [
      "5094.40915\n"
     ]
    }
   ],
   "source": [
    "print SurfaceDensity(2.59665597)"
   ]
  },
  {
   "cell_type": "code",
   "execution_count": 76,
   "metadata": {
    "collapsed": false
   },
   "outputs": [
    {
     "ename": "ValueError",
     "evalue": "operands could not be broadcast together with shapes (30,) (38,) ",
     "output_type": "error",
     "traceback": [
      "\u001b[0;31m---------------------------------------------------------------------------\u001b[0m",
      "\u001b[0;31mValueError\u001b[0m                                Traceback (most recent call last)",
      "\u001b[0;32m<ipython-input-76-4c5f718c9178>\u001b[0m in \u001b[0;36m<module>\u001b[0;34m()\u001b[0m\n\u001b[0;32m----> 1\u001b[0;31m \u001b[0mdensity\u001b[0m \u001b[0;34m=\u001b[0m \u001b[0mSurfaceDensity\u001b[0m\u001b[0;34m(\u001b[0m\u001b[0munlog_a2\u001b[0m\u001b[0;34m)\u001b[0m\u001b[0;34m/\u001b[0m\u001b[0mHeight\u001b[0m\u001b[0;34m(\u001b[0m\u001b[0ma1\u001b[0m\u001b[0;34m)\u001b[0m\u001b[0;34m\u001b[0m\u001b[0m\n\u001b[0m",
      "\u001b[0;31mValueError\u001b[0m: operands could not be broadcast together with shapes (30,) (38,) "
     ]
    }
   ],
   "source": []
  },
  {
   "cell_type": "code",
   "execution_count": null,
   "metadata": {
    "collapsed": true
   },
   "outputs": [],
   "source": []
  }
 ],
 "metadata": {
  "kernelspec": {
   "display_name": "Python 2",
   "language": "python",
   "name": "python2"
  },
  "language_info": {
   "codemirror_mode": {
    "name": "ipython",
    "version": 2
   },
   "file_extension": ".py",
   "mimetype": "text/x-python",
   "name": "python",
   "nbconvert_exporter": "python",
   "pygments_lexer": "ipython2",
   "version": "2.7.13"
  }
 },
 "nbformat": 4,
 "nbformat_minor": 2
}
