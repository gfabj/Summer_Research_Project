{
 "cells": [
  {
   "cell_type": "code",
   "execution_count": 13,
   "metadata": {
    "collapsed": true
   },
   "outputs": [],
   "source": [
    "import numpy as np\n",
    "import matplotlib.pyplot as plt\n",
    "import pandas as pd\n",
    "import astropy\n",
    "%matplotlib inline\n",
    "import pylab\n",
    "import math\n",
    "from numpy import cos,sin,arcsin"
   ]
  },
  {
   "cell_type": "code",
   "execution_count": 14,
   "metadata": {
    "collapsed": false
   },
   "outputs": [],
   "source": [
    "from numpy import array\n",
    "#np.arange(38)\n",
    "#velocity = array([1.32666709e+05, 1.13628673e+05, 1.00391570e+05, 8.96188363e+04, 7.75637462e+04, 6.50887959e+04, 5.51862853e+04, 4.77656956e+04, 4.30855144e+04, 3.84630328e+04, 3.54163206e+04, 3.16144128e+04, 2.88068823e+04, 2.59779253e+04, 2.36695572e+04, 2.17921013e+04, 1.98584755e+04, 1.79122810e+04, 1.66651277e+04, 1.51892714e+04, 1.34224825e+04, 1.21081721e+04, 1.10348423e+04, 1.02659328e+04, 9.16400231e+03, 8.35072812e+03, 7.53122564e+03, 7.00562693e+03, 6.25214954e+03, 5.40920539e+03, 3.68894264e+03, 2.06684627e+03, 1.12264205e+03, 6.69274146e+02, 4.28961737e+02, 1.97458305e+02, 1.06147726e+02, 7.35217265e+01])"
   ]
  },
  {
   "cell_type": "markdown",
   "metadata": {},
   "source": [
    "# T grind with constant i"
   ]
  },
  {
   "cell_type": "code",
   "execution_count": 15,
   "metadata": {
    "collapsed": false
   },
   "outputs": [],
   "source": [
    "# Let's try to see how it changes with radius\n",
    "text_file1 = np.loadtxt('hoverrNoCommas.txt', dtype = 'float')\n",
    "a = text_file1[:,0]\n",
    "a1 = 10**a\n",
    "c = 6.67e-11*2*1.99e30*10**8\n",
    "distance_in_meters = a1*(2*c)\n",
    "speed_of_light_squared=(3e8)**2\n",
    "distance = (distance_in_meters/speed_of_light_squared)\n",
    "distance_in_rg = distance/(1.5*10**11)\n",
    "velocity = (c/distance)**(1/2.0)*10**(-3)"
   ]
  },
  {
   "cell_type": "markdown",
   "metadata": {},
   "source": [
    "# T grind with constant a "
   ]
  },
  {
   "cell_type": "code",
   "execution_count": 16,
   "metadata": {
    "collapsed": false
   },
   "outputs": [],
   "source": [
    "text_file1 = np.loadtxt('hoverrNoCommas.txt', dtype = 'float')\n",
    "a = text_file1[:,0]\n",
    "a1 = 10**a\n",
    "c = 6.67e-11*2*1.99e30*10**8\n",
    "distance_in_meters = a1*(2*c)\n",
    "speed_of_light_squared=(3e8)**2\n",
    "distance = (distance_in_meters/speed_of_light_squared)\n",
    "distance_in_rg = distance/(1.5*10**11)\n",
    "velocity = (c/distance)**(1/2.0)*10**(-3)"
   ]
  },
  {
   "cell_type": "code",
   "execution_count": 17,
   "metadata": {
    "collapsed": true
   },
   "outputs": [],
   "source": [
    "Speed = [ 1.32666709e+05,3.84630328e+04,1.21081721e+04,3.68894264e+03,1.12264205e+03, 1.97458305e+02,1.06147726e+02]\n",
    "D_Rg = [1.00552700e+01,1.19627381e+02,1.20714788e+03,1.30051044e+04,1.40421962e+05, 4.53906956e+06,1.57071089e+07]\n",
    "Density = [1.06372258101e-09, 7.01503495128e-10, 1.02150507278e-10, 2.52906361193e-12, 2.16069454761e-13, 3.20833694402e-15, 3.39026466666e-14]\n",
    "D_Rg1 = [1.19627381e+02,1.20714788e+03,1.30051044e+04,1.40421962e+05, 4.53906956e+06,1.57071089e+07]\n",
    "mass = 1.99e+30\n",
    "Force = 0.5*6.088e+18/mass\n"
   ]
  },
  {
   "cell_type": "markdown",
   "metadata": {},
   "source": [
    "# Final method to calculate T Grind"
   ]
  },
  {
   "cell_type": "code",
   "execution_count": 18,
   "metadata": {
    "collapsed": true
   },
   "outputs": [],
   "source": [
    "i_crit4 = np.arcsin(9.52700825e+01/(2*1.30051044e+04))\n",
    "i_crit3 = np.arcsin(2.74856714e+00/(2*1207.14788))\n",
    "i_crit5 = np.arcsin(3.38134471e+03/(2*140421.962))\n",
    "i_crit6 = np.arcsin(6.11825618e+05/(2*4539069.56))\n",
    "i_crit7 = np.arcsin(3.96065316e+06/(2*15707108))\n",
    "i_crit2 = np.arcsin(2.74856714e+00/(2*119.627381))"
   ]
  },
  {
   "cell_type": "code",
   "execution_count": 26,
   "metadata": {
    "collapsed": true
   },
   "outputs": [],
   "source": [
    "t_in_orbit2 = (2*np.pi*119.627381*1.5e+08)/38463.0328\n",
    "t_in_orbit3 = (2*np.pi*1207.14788*1.5e+08)/12108.1721\n",
    "t_in_orbit4 = (2*np.pi*13005.1044*1.5e+08)/3688.94264\n",
    "t_in_orbit5 = (2*np.pi*140421.962*1.5e+08)/1122.64205\n",
    "t_in_orbit6 = (2*np.pi*4539069.56*1.5e+08)/197.458305\n",
    "t_in_orbit7 = (2*np.pi*15707108.9*1.5e+08)/106.147726\n",
    "\n",
    "t_in_disk2 = 2.08031436e+05\n",
    "t_in_disk3 = 1.74624960e+06 \n",
    "t_in_disk4 =  7.51831956e+07\n",
    "t_in_disk5 = 8.76827746e+09\n",
    "t_in_disk6 = 9.02024627e+12\n",
    "t_in_disk7 = 1.08623116e+14\n",
    "\n",
    "d_star = 1410\n",
    "r_star = 1.4e+06"
   ]
  },
  {
   "cell_type": "code",
   "execution_count": 27,
   "metadata": {
    "collapsed": false
   },
   "outputs": [
    {
     "name": "stdout",
     "output_type": "stream",
     "text": [
      "[18.624638402588637, 106.39583632965036, 17173.803993501282, 267346.59210389917, 465361982.63451451, 15325396360.025785]\n"
     ]
    }
   ],
   "source": [
    "# pi/4 \n",
    "d_2Rg = 7.01503495128e-05\n",
    "Rg2 = 119.627381*1.5e+08\n",
    "N = (4/np.pi)*(r_star/Rg2)*(d_star/d_2Rg)*(1/sin(np.pi/4))\n",
    "t_grind = N*t_in_disk2/3.154e+7\n",
    "\n",
    "d_3Rg = 1.02150507278e-05\n",
    "Rg3 = 1207.14788*1.5e+08\n",
    "Na = (4/np.pi)*(r_star/Rg3)*(d_star/d_3Rg)*(1/sin(np.pi/4))\n",
    "t_grinda = Na*t_in_disk3/3.154e+7\n",
    "\n",
    "d_4Rg = 2.52906361193e-07\n",
    "Rg4 = 13005.1044*1.5e+08\n",
    "Nb = (4/np.pi)*(r_star/Rg4)*(d_star/d_4Rg)*(1/sin(np.pi/4))\n",
    "t_grindb = Nb*t_in_disk4/3.154e+7\n",
    "\n",
    "d_5Rg = 2.16069454761e-08\n",
    "Rg5 = 1140421.962*1.5e+08\n",
    "Nc = (4/np.pi)*(r_star/Rg5)*(d_star/d_5Rg)*(1/sin(np.pi/4))\n",
    "t_grindc = Nc*t_in_disk5/3.154e+7\n",
    "\n",
    "d_6Rg = 3.20833694402e-09\n",
    "Rg6 = 4539069.56*1.5e+08\n",
    "Nd = (4/np.pi)*(r_star/Rg6)*(d_star/d_6Rg)*(1/sin(np.pi/4))\n",
    "t_grindd = Nd*t_in_disk6/3.154e+7\n",
    "\n",
    "d_7Rg = 3.39026466666e-10\n",
    "Rg7 = 15707108.9*1.5e+08\n",
    "Ne = (4/np.pi)*(r_star/Rg7)*(d_star/d_7Rg)*(1/sin(np.pi/4))\n",
    "t_grinde = Ne*t_in_disk7/3.154e+7\n",
    "\n",
    "Tgrind_pi4 = [t_grind,t_grinda,t_grindb,t_grindc,t_grindd,t_grinde]\n",
    "print Tgrind_pi4"
   ]
  },
  {
   "cell_type": "code",
   "execution_count": 30,
   "metadata": {
    "collapsed": false
   },
   "outputs": [
    {
     "data": {
      "text/plain": [
       "<matplotlib.legend.Legend at 0x111c5a6d0>"
      ]
     },
     "execution_count": 30,
     "metadata": {},
     "output_type": "execute_result"
    },
    {
     "data": {
      "image/png": "[encoded data removed]",
      "text/plain": [
       "<matplotlib.figure.Figure at 0x10e791110>"
      ]
     },
     "metadata": {},
     "output_type": "display_data"
    }
   ],
   "source": [
    "logPlot = plt.gca()\n",
    "logPlot.loglog(D_Rg1,Tgrind_pi4,c='b', label='pi/4')\n",
    "plt.ylabel('T Grind[years]', size=20)\n",
    "plt.xlabel('distance in Rg',size=20)\n",
    "plt.legend()"
   ]
  },
  {
   "cell_type": "code",
   "execution_count": 31,
   "metadata": {
    "collapsed": false
   },
   "outputs": [
    {
     "name": "stdout",
     "output_type": "stream",
     "text": [
      "[15.206953576728852, 86.871836588105481, 14022.352242216723, 218287.57837551308, 379966467.71482897, 12513133729.323273]\n"
     ]
    }
   ],
   "source": [
    "\n",
    "N1 = (4/np.pi)*(r_star/Rg2)*(d_star/d_2Rg)*(1/sin(np.pi/3))\n",
    "t_grind1 = N1*t_in_disk2/3.154e+7\n",
    "\n",
    "N2 = (4/np.pi)*(r_star/Rg3)*(d_star/d_3Rg)*(1/sin(np.pi/3))\n",
    "t_grind2 = N2*t_in_disk3/3.154e+7\n",
    "\n",
    "N3 = (4/np.pi)*(r_star/Rg4)*(d_star/d_4Rg)*(1/sin(np.pi/3))\n",
    "t_grind3 = N3*t_in_disk4/3.154e+7\n",
    "\n",
    "N4 = (4/np.pi)*(r_star/Rg5)*(d_star/d_5Rg)*(1/sin(np.pi/3))\n",
    "t_grind4 = N4*t_in_disk5/3.154e+7\n",
    "\n",
    "N5 = (4/np.pi)*(r_star/Rg6)*(d_star/d_6Rg)*(1/sin(np.pi/3))\n",
    "t_grind5 = N5*t_in_disk6/3.154e+7\n",
    "\n",
    "N6 = (4/np.pi)*(r_star/Rg7)*(d_star/d_7Rg)*(1/sin(np.pi/3))\n",
    "t_grind6 = N6*t_in_disk7/3.154e+7\n",
    "\n",
    "Tgrind_pi3 = [t_grind1,t_grind2,t_grind3,t_grind4,t_grind5,t_grind6]\n",
    "print Tgrind_pi3"
   ]
  },
  {
   "cell_type": "code",
   "execution_count": null,
   "metadata": {
    "collapsed": true
   },
   "outputs": [],
   "source": []
  }
 ],
 "metadata": {
  "kernelspec": {
   "display_name": "Python 2",
   "language": "python",
   "name": "python2"
  },
  "language_info": {
   "codemirror_mode": {
    "name": "ipython",
    "version": 2
   },
   "file_extension": ".py",
   "mimetype": "text/x-python",
   "name": "python",
   "nbconvert_exporter": "python",
   "pygments_lexer": "ipython2",
   "version": "2.7.13"
  }
 },
 "nbformat": 4,
 "nbformat_minor": 2
}
