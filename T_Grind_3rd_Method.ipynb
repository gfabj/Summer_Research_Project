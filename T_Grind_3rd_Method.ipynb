{
 "cells": [
  {
   "cell_type": "code",
   "execution_count": 5,
   "metadata": {
    "collapsed": true
   },
   "outputs": [],
   "source": [
    "import numpy as np\n",
    "import matplotlib.pyplot as plt\n",
    "%matplotlib inline\n",
    "import math\n",
    "from numpy import cos,sin,array"
   ]
  },
  {
   "cell_type": "code",
   "execution_count": 6,
   "metadata": {
    "collapsed": false
   },
   "outputs": [],
   "source": [
    "#critical angle\n",
    "i_crit = np.arcsin(4.76350412e+01/(2*1.30051044e+04))"
   ]
  },
  {
   "cell_type": "code",
   "execution_count": 7,
   "metadata": {
    "collapsed": false
   },
   "outputs": [
    {
     "ename": "NameError",
     "evalue": "name 'Period' is not defined",
     "output_type": "error",
     "traceback": [
      "\u001b[0;31m---------------------------------------------------------------------------\u001b[0m",
      "\u001b[0;31mNameError\u001b[0m                                 Traceback (most recent call last)",
      "\u001b[0;32m<ipython-input-7-e06a26f8dca5>\u001b[0m in \u001b[0;36m<module>\u001b[0;34m()\u001b[0m\n\u001b[0;32m----> 1\u001b[0;31m \u001b[0mplt\u001b[0m\u001b[0;34m.\u001b[0m\u001b[0mplot\u001b[0m\u001b[0;34m(\u001b[0m\u001b[0mPeriod\u001b[0m\u001b[0;34m,\u001b[0m\u001b[0mv_pi_over6\u001b[0m\u001b[0;34m,\u001b[0m \u001b[0mc\u001b[0m\u001b[0;34m=\u001b[0m\u001b[0;34m'b'\u001b[0m\u001b[0;34m,\u001b[0m\u001b[0mlabel\u001b[0m \u001b[0;34m=\u001b[0m \u001b[0;34m'pi over 6'\u001b[0m\u001b[0;34m)\u001b[0m\u001b[0;34m\u001b[0m\u001b[0m\n\u001b[0m\u001b[1;32m      2\u001b[0m \u001b[0mplt\u001b[0m\u001b[0;34m.\u001b[0m\u001b[0mplot\u001b[0m\u001b[0;34m(\u001b[0m\u001b[0mPeriod\u001b[0m\u001b[0;34m,\u001b[0m\u001b[0mv_pi_over4\u001b[0m\u001b[0;34m,\u001b[0m \u001b[0mc\u001b[0m\u001b[0;34m=\u001b[0m\u001b[0;34m'r'\u001b[0m\u001b[0;34m,\u001b[0m\u001b[0mlabel\u001b[0m \u001b[0;34m=\u001b[0m \u001b[0;34m'pi over 4'\u001b[0m\u001b[0;34m)\u001b[0m\u001b[0;34m\u001b[0m\u001b[0m\n\u001b[1;32m      3\u001b[0m \u001b[0mplt\u001b[0m\u001b[0;34m.\u001b[0m\u001b[0mplot\u001b[0m\u001b[0;34m(\u001b[0m\u001b[0mPeriod\u001b[0m\u001b[0;34m,\u001b[0m\u001b[0mv_pi_over3\u001b[0m\u001b[0;34m,\u001b[0m \u001b[0mcolor\u001b[0m\u001b[0;34m=\u001b[0m\u001b[0;34m'green'\u001b[0m\u001b[0;34m,\u001b[0m \u001b[0mlabel\u001b[0m \u001b[0;34m=\u001b[0m \u001b[0;34m'pi over 3'\u001b[0m\u001b[0;34m)\u001b[0m\u001b[0;34m\u001b[0m\u001b[0m\n\u001b[1;32m      4\u001b[0m \u001b[0mplt\u001b[0m\u001b[0;34m.\u001b[0m\u001b[0mplot\u001b[0m\u001b[0;34m(\u001b[0m\u001b[0mPeriod\u001b[0m\u001b[0;34m,\u001b[0m\u001b[0mv_pi_over2\u001b[0m\u001b[0;34m,\u001b[0m \u001b[0mcolor\u001b[0m\u001b[0;34m=\u001b[0m\u001b[0;34m'orange'\u001b[0m\u001b[0;34m,\u001b[0m \u001b[0mlabel\u001b[0m \u001b[0;34m=\u001b[0m \u001b[0;34m'pi over 2'\u001b[0m\u001b[0;34m)\u001b[0m\u001b[0;34m\u001b[0m\u001b[0m\n\u001b[1;32m      5\u001b[0m \u001b[0;34m\u001b[0m\u001b[0m\n",
      "\u001b[0;31mNameError\u001b[0m: name 'Period' is not defined"
     ]
    }
   ],
   "source": [
    "plt.plot(Period,v_pi_over6, c='b',label = 'pi over 6')\n",
    "plt.plot(Period,v_pi_over4, c='r',label = 'pi over 4')\n",
    "plt.plot(Period,v_pi_over3, color='green', label = 'pi over 3')\n",
    "plt.plot(Period,v_pi_over2, color='orange', label = 'pi over 2')\n",
    "\n",
    "plt.xlabel('Orbit',fontsize=20)\n",
    "plt.ylabel('Vy/dvy',fontsize=20)\n",
    "plt.legend()\n",
    "plt.savefig('ratio vs orbit.pdf')"
   ]
  },
  {
   "cell_type": "code",
   "execution_count": 8,
   "metadata": {
    "collapsed": false
   },
   "outputs": [
    {
     "ename": "NameError",
     "evalue": "name 'Period' is not defined",
     "output_type": "error",
     "traceback": [
      "\u001b[0;31m---------------------------------------------------------------------------\u001b[0m",
      "\u001b[0;31mNameError\u001b[0m                                 Traceback (most recent call last)",
      "\u001b[0;32m<ipython-input-8-ed767d06527b>\u001b[0m in \u001b[0;36m<module>\u001b[0;34m()\u001b[0m\n\u001b[0;32m----> 1\u001b[0;31m \u001b[0minv_t\u001b[0m \u001b[0;34m=\u001b[0m \u001b[0;36m1\u001b[0m\u001b[0;34m/\u001b[0m\u001b[0mPeriod\u001b[0m\u001b[0;34m\u001b[0m\u001b[0m\n\u001b[0m",
      "\u001b[0;31mNameError\u001b[0m: name 'Period' is not defined"
     ]
    }
   ],
   "source": [
    "inv_t = 1/Period"
   ]
  },
  {
   "cell_type": "code",
   "execution_count": 9,
   "metadata": {
    "collapsed": false
   },
   "outputs": [
    {
     "ename": "NameError",
     "evalue": "name 'inv_t' is not defined",
     "output_type": "error",
     "traceback": [
      "\u001b[0;31m---------------------------------------------------------------------------\u001b[0m",
      "\u001b[0;31mNameError\u001b[0m                                 Traceback (most recent call last)",
      "\u001b[0;32m<ipython-input-9-ab92cafd5c98>\u001b[0m in \u001b[0;36m<module>\u001b[0;34m()\u001b[0m\n\u001b[0;32m----> 1\u001b[0;31m \u001b[0mplt\u001b[0m\u001b[0;34m.\u001b[0m\u001b[0mplot\u001b[0m\u001b[0;34m(\u001b[0m\u001b[0minv_t\u001b[0m\u001b[0;34m,\u001b[0m\u001b[0mv_pi_over6\u001b[0m\u001b[0;34m,\u001b[0m \u001b[0mc\u001b[0m\u001b[0;34m=\u001b[0m\u001b[0;34m'r'\u001b[0m\u001b[0;34m,\u001b[0m\u001b[0mlabel\u001b[0m \u001b[0;34m=\u001b[0m \u001b[0;34m'pi over 6'\u001b[0m\u001b[0;34m)\u001b[0m\u001b[0;34m\u001b[0m\u001b[0m\n\u001b[0m\u001b[1;32m      2\u001b[0m \u001b[0mplt\u001b[0m\u001b[0;34m.\u001b[0m\u001b[0mplot\u001b[0m\u001b[0;34m(\u001b[0m\u001b[0minv_t\u001b[0m\u001b[0;34m,\u001b[0m\u001b[0mv_pi_over4\u001b[0m\u001b[0;34m,\u001b[0m \u001b[0mc\u001b[0m\u001b[0;34m=\u001b[0m\u001b[0;34m'b'\u001b[0m\u001b[0;34m,\u001b[0m \u001b[0mlabel\u001b[0m \u001b[0;34m=\u001b[0m \u001b[0;34m'pi over 4'\u001b[0m\u001b[0;34m)\u001b[0m\u001b[0;34m\u001b[0m\u001b[0m\n\u001b[1;32m      3\u001b[0m \u001b[0mplt\u001b[0m\u001b[0;34m.\u001b[0m\u001b[0mplot\u001b[0m\u001b[0;34m(\u001b[0m\u001b[0minv_t\u001b[0m\u001b[0;34m,\u001b[0m\u001b[0mv_pi_over3\u001b[0m\u001b[0;34m,\u001b[0m \u001b[0mcolor\u001b[0m\u001b[0;34m=\u001b[0m\u001b[0;34m'orange'\u001b[0m\u001b[0;34m,\u001b[0m \u001b[0mlabel\u001b[0m \u001b[0;34m=\u001b[0m \u001b[0;34m'pi over 3'\u001b[0m\u001b[0;34m)\u001b[0m\u001b[0;34m\u001b[0m\u001b[0m\n\u001b[1;32m      4\u001b[0m \u001b[0mplt\u001b[0m\u001b[0;34m.\u001b[0m\u001b[0mplot\u001b[0m\u001b[0;34m(\u001b[0m\u001b[0minv_t\u001b[0m\u001b[0;34m,\u001b[0m\u001b[0mv_pi_over2\u001b[0m\u001b[0;34m,\u001b[0m \u001b[0mc\u001b[0m\u001b[0;34m=\u001b[0m\u001b[0;34m'g'\u001b[0m\u001b[0;34m,\u001b[0m \u001b[0mlabel\u001b[0m \u001b[0;34m=\u001b[0m \u001b[0;34m'pi over 2'\u001b[0m\u001b[0;34m)\u001b[0m\u001b[0;34m\u001b[0m\u001b[0m\n\u001b[1;32m      5\u001b[0m \u001b[0mplt\u001b[0m\u001b[0;34m.\u001b[0m\u001b[0mxlabel\u001b[0m\u001b[0;34m(\u001b[0m\u001b[0;34m'1/Orbit'\u001b[0m\u001b[0;34m,\u001b[0m\u001b[0mfontsize\u001b[0m\u001b[0;34m=\u001b[0m\u001b[0;36m20\u001b[0m\u001b[0;34m)\u001b[0m\u001b[0;34m\u001b[0m\u001b[0m\n",
      "\u001b[0;31mNameError\u001b[0m: name 'inv_t' is not defined"
     ]
    }
   ],
   "source": [
    "plt.plot(inv_t,v_pi_over6, c='r',label = 'pi over 6')\n",
    "plt.plot(inv_t,v_pi_over4, c='b', label = 'pi over 4')\n",
    "plt.plot(inv_t,v_pi_over3, color='orange', label = 'pi over 3')\n",
    "plt.plot(inv_t,v_pi_over2, c='g', label = 'pi over 2')\n",
    "plt.xlabel('1/Orbit',fontsize=20)\n",
    "plt.ylabel('Vy/dvy',fontsize=20)\n",
    "plt.legend()\n",
    "plt.savefig('1 over orbit.pdf')"
   ]
  },
  {
   "cell_type": "code",
   "execution_count": 10,
   "metadata": {
    "collapsed": false
   },
   "outputs": [],
   "source": [
    "np.arange(8)\n",
    "i = array([np.pi/6,np.pi/4,np.pi/3,np.pi/2,2*np.pi/3,3*np.pi/4,5*np.pi/6, np.pi])\n",
    "i_d = array([np.pi-i_crit,5*np.pi/6,3*np.pi/4,2*np.pi/3,np.pi/2,np.pi/3,np.pi/4,np.pi/6])"
   ]
  },
  {
   "cell_type": "code",
   "execution_count": 11,
   "metadata": {
    "collapsed": false
   },
   "outputs": [],
   "source": [
    "#General Info\n",
    "#i_crit = np.arcsin(9.52700825e+01/(2*1.30051044e+04))\n",
    "mass = 1.99e+30\n",
    "Force = 0.5*6.088e+17/mass\n",
    "\n",
    "Speed = [ 1.32666709e+05,3.84630328e+04,1.21081721e+04,3.68894264e+03,1.12264205e+03, 1.97458305e+02,1.06147726e+02]\n",
    "D_Rg = [1.00552700e+01,1.19627381e+02,1.20714788e+03,1.30051044e+04,1.40421962e+05, 4.53906956e+06,1.57071089e+07]\n",
    "Density = [1.06372258101e-09, 7.01503495128e-10, 1.02150507278e-10, 2.52906361193e-12, 2.16069454761e-13, 3.20833694402e-15, 3.39026466666e-14]\n",
    "D_Rg1 = [1.19627381e+02,1.20714788e+03,1.30051044e+04,1.40421962e+05, 4.53906956e+06,1.57071089e+07]\n",
    "\n",
    "i_crit4 = np.arcsin(9.52700825e+01/(2*1.30051044e+04))\n",
    "i_crit3 = np.arcsin(2.74856714e+00/(2*1207.14788))\n",
    "i_crit5 = np.arcsin(3.38134471e+03/(2*140421.962))\n",
    "i_crit6 = np.arcsin(6.11825618e+05/(2*4539069.56))\n",
    "i_crit7 = np.arcsin(3.96065316e+06/(2*15707108))\n",
    "i_crit2 = np.arcsin(2.74856714e+00/(2*119.627381))\n",
    "\n",
    "t_in_orbit2 = (2*np.pi*119.627381*1.5e+11)/38463.0328\n",
    "t_in_orbit3 = (2*np.pi*1207.14788*1.5e+11)/12108.1721\n",
    "t_in_orbit4 = (2*np.pi*13005.1044*1.5e+11)/3688.94264\n",
    "t_in_orbit5 = (2*np.pi*140421.962*1.5e+11)/1122.64205\n",
    "t_in_orbit6 = (2*np.pi*4539069.56*1.5e+11)/197.458305\n",
    "t_in_orbit7 = (2*np.pi*15707108.9*1.5e+11)/106.147726\n",
    "\n",
    "V_rpi4a = (38463.0328*sin(5*np.pi/6))**2\n",
    "dvpi4a = V_rpi4a*Force*7.01503495128e-08*t_in_orbit2/1000\n",
    "V_rpi6a = (38463.0328*sin(np.pi/6))**2\n",
    "dvpi6a = V_rpi6a*Force*7.01503495128e-08*t_in_orbit2/1000\n",
    "V_rpi3a = (38463.0328*sin(np.pi/4))**2\n",
    "dvpi3a = V_rpi3a*Force*7.01503495128e-08*t_in_orbit2/1000\n",
    "\n",
    "V_rpi4b = (12108.1721*sin(5*np.pi/6))**2\n",
    "dvpi4b = V_rpi4b*Force*1.02150507278e-08*t_in_orbit3/1000\n",
    "V_rpi6b = (12108.1721*sin(np.pi/6))**2\n",
    "dvpi6b = V_rpi6b*Force*1.02150507278e-08*t_in_orbit3/1000\n",
    "V_rpi3b = (12108.1721*sin(np.pi/4))**2\n",
    "dvpi3b = V_rpi3b*Force*1.02150507278e-08*t_in_orbit3/1000\n",
    "\n",
    "V_rpi4c = (3688.94264*sin(5*np.pi/6))**2\n",
    "dvpi4c = V_rpi4c*Force*2.52906361193e-10*t_in_orbit4/1000\n",
    "V_rpi6c = (3688.94264*sin(np.pi/6))**2\n",
    "dvpi6c = V_rpi6c*Force*2.52906361193e-10*t_in_orbit4/1000\n",
    "V_ric = (3688.94264*sin(i_d))**2\n",
    "dvic = V_ric*Force*2.52906361193e-12*t_in_orbit4/1000\n",
    "V_rpi3c = (3688.94264*sin(np.pi/4))**2\n",
    "dvpi3c = V_rpi3c*Force*2.52906361193e-10*t_in_orbit4/1000\n",
    "\n",
    "V_rpi4d = (1122.64205*sin(5*np.pi/6))**2\n",
    "dvpi4d = V_rpi4d*Force*2.16069454761e-11*t_in_orbit5/1000\n",
    "V_rpi6d = (1122.64205*sin(np.pi/6))**2\n",
    "dvpi6d = V_rpi6d*Force*2.16069454761e-11*t_in_orbit5/1000\n",
    "V_rid = (1122.64205*sin(i_d))**2\n",
    "dvid = V_rid*Force*2.16069454761e-13*t_in_orbit5/1000\n",
    "V_rpi3d = (1122.64205*sin(np.pi/4))**2\n",
    "dvpi3d = V_rpi4d*Force*2.16069454761e-11*t_in_orbit5/1000\n",
    "\n",
    "V_rpi4e = (197.458305*sin(5*np.pi/6))**2\n",
    "dvpi4e = V_rpi4e*Force*3.20833694402e-12*t_in_orbit6/1000\n",
    "V_rpi6e = (197.458305*sin(np.pi/6))**2\n",
    "dvpi6e = V_rpi6e*Force*3.20833694402e-12*t_in_orbit6/1000\n",
    "V_rie = (197.458305*sin(i_d))**2\n",
    "dvie = V_rie*Force*3.20833694402e-14*t_in_orbit6/1000\n",
    "V_rpi3e = (197.458305*sin(np.pi/4))**2\n",
    "dvpi3e = V_rpi3e*Force*3.20833694402e-12*t_in_orbit6/1000\n",
    "\n",
    "V_rpi4f = (106.147726*sin(5*np.pi/6))**2\n",
    "dvpi4f = V_rpi4f*Force*3.39026466666e-13*t_in_orbit7/1000\n",
    "V_rpi6f = (106.147726*sin(5*np.pi/6))**2\n",
    "dvpi6f = V_rpi6f*Force*3.39026466666e-13*t_in_orbit7/1000\n",
    "V_rpi3f = (106.147726*sin(np.pi/4))**2\n",
    "dvpi3f = V_rpi3f*Force*3.39026466666e-13*t_in_orbit7/1000\n"
   ]
  },
  {
   "cell_type": "code",
   "execution_count": 12,
   "metadata": {
    "collapsed": false
   },
   "outputs": [
    {
     "name": "stdout",
     "output_type": "stream",
     "text": [
      "[2452110.9439860084, 8003777656.0506382, 27342052029.008228, 89782036566.558716, 526592095100.1554, 968609959326.75818]\n"
     ]
    }
   ],
   "source": [
    "t_in_orbita = (2*np.pi*119.627381*1.5e+11)/38463.0328\n",
    "Vxpi4a = 38463.0328*(1-cos(5*np.pi/6))\n",
    "Vypi4a = 38463.0328*(sin(i_crit2))\n",
    "grindPi4a = (Vxpi4a+dvpi4a)**2/(Vypi4a-dvpi4a)**2*t_in_orbita/3.154e+7\n",
    "\n",
    "t_in_orbitb = (2*np.pi*1207.14788*1.5e+11)/12108.1721\n",
    "Vxpi4b = 12108.1721*(1-cos(5*np.pi/6))\n",
    "Vypi4b = 12108.1721*(sin(i_crit3))\n",
    "grindPi4b = (Vxpi4b+dvpi4b)**2/(Vypi4b-dvpi4b)**2*t_in_orbitb/3.154e+7\n",
    "\n",
    "t_in_orbitc = (2*np.pi*13005.1044*1.5e+11)/3688.94264\n",
    "Vxpi4c = 3688.94264*(1-cos(5*np.pi/6))\n",
    "Vypi4c = 3688.94264*(sin(i_crit4))\n",
    "grindPi4c = (Vxpi4c+dvpi4c)**2/(Vypi4c-dvpi4c)**2*t_in_orbitc/3.154e+7\n",
    "\n",
    "t_in_orbitd = (2*np.pi*140421.962*1.5e+11)/1122.64205\n",
    "Vxpi4d = 1122.64205*(1-cos(5*np.pi/6))\n",
    "Vypi4d = 1122.64205*(sin(i_crit5))\n",
    "grindPi4d = (Vxpi4d+dvpi4d)**2/(Vypi4d-dvpi4d)**2*t_in_orbitd/3.154e+7\n",
    "\n",
    "t_in_orbite = (2*np.pi*4539069.56*1.5e+11)/197.458305\n",
    "Vxpi4e = 197.458305*(1-cos(5*np.pi/6))\n",
    "Vypi4e = 197.458305*(sin(i_crit6))\n",
    "grindPi4e = (Vxpi4e+dvpi4e)**2/(Vypi4e-dvpi4e)**2*t_in_orbite/3.154e+7\n",
    "\n",
    "t_in_orbitf = (2*np.pi*15707108.9*1.5e+11)/106.147726\n",
    "Vxpi4f = 106.147726*(1-cos(5*np.pi/6))\n",
    "Vypi4f = 106.147726*(sin(i_crit7))\n",
    "grindPi4f = (Vxpi4f+dvpi4f)**2/(Vypi4f-dvpi4f)**2*t_in_orbitf/3.154e+7\n",
    "\n",
    "T_grindPi4 = [grindPi4a, grindPi4b, grindPi4c, grindPi4d, grindPi4e, grindPi4f]\n",
    "print T_grindPi4"
   ]
  },
  {
   "cell_type": "code",
   "execution_count": 18,
   "metadata": {
    "collapsed": false
   },
   "outputs": [
    {
     "name": "stdout",
     "output_type": "stream",
     "text": [
      "3.32263830827e+12\n"
     ]
    }
   ],
   "source": [
    "t_in_orbita = (2*np.pi*119.627381*1.5e+11)/38463.0328\n",
    "Vxpi6a = 38463.0328*(1-cos(np.pi/6))\n",
    "Vypi6a = 38463.0328*(sin(i_crit2))\n",
    "grindPi6a = (Vxpi6a+dvpi6a)**2/(Vypi6a-dvpi6a)**2*t_in_orbita/3.154e+7\n",
    "\n",
    "t_in_orbitb = (2*np.pi*1207.14788*1.5e+11)/12108.1721\n",
    "Vxpi6b = 12108.1721*(1-cos(np.pi/6))\n",
    "Vypi6b = 12108.1721*(sin(i_crit3))\n",
    "grindPi6b = (Vxpi6b+dvpi6b*1000)**2/(Vypi6b-dvpi6b)**2*t_in_orbitb/3.154e+7\n",
    "\n",
    "t_in_orbitc = (2*np.pi*13005.1044*1.5e+11)/3688.94264\n",
    "Vxpi6c = 3688.94264*(1-cos(np.pi/6))\n",
    "Vypi6c = 3688.94264*(sin(i_crit4))\n",
    "grindPi6c = (Vxpi6c+dvpi6c)**2/(Vypi6c-dvpi6c)**2*t_in_orbitc/3.154e+7\n",
    "\n",
    "t_in_orbitd = (2*np.pi*140421.962*1.5e+11)/1122.64205\n",
    "Vxpi6d = 1122.64205*(1-cos(np.pi/6))\n",
    "Vypi6d = 1122.64205*(sin(i_crit5))\n",
    "grindPi6d = (Vxpi6d+dvpi6d)**2/(Vypi6d-dvpi6d)**2*t_in_orbitd/3.154e+7\n",
    "\n",
    "t_in_orbite = (2*np.pi*4539069.56*1.5e+11)/197.458305\n",
    "Vxpi6e = 197.458305*(1-cos(np.pi/6))\n",
    "Vypi6e = 197.458305*(sin(i_crit6))\n",
    "grindPi6e = (Vxpi6e+dvpi6e)**2/(Vypi6e-dvpi6e)**2*t_in_orbite/3.154e+7\n",
    "\n",
    "t_in_orbitf = (2*np.pi*15707108.9*1.5e+11)/106.147726\n",
    "Vxpi6f = 106.147726*(1-cos(np.pi/6))\n",
    "Vypi6f = 106.147726*(sin(i_crit7))\n",
    "grindPi6f = (Vxpi6f+dvpi6f)**2/(Vypi6f-dvpi6f)**2*t_in_orbitf/3.154e+7\n",
    "\n",
    "T_grindPi6 = [grindPi6a, grindPi6b, grindPi6c, grindPi6d, grindPi6e, grindPi6f]\n",
    "print t_in_orbitc"
   ]
  },
  {
   "cell_type": "code",
   "execution_count": 14,
   "metadata": {
    "collapsed": false
   },
   "outputs": [
    {
     "name": "stdout",
     "output_type": "stream",
     "text": [
      "[60412.063480107885, 197187275.7000331, 673619520.77318609, 2211938168.1738229, 12973521473.311239, 23863407774.995777]\n"
     ]
    }
   ],
   "source": [
    "t_in_orbita = (2*np.pi*119.627381*1.5e+11)/38463.0328\n",
    "Vxpi3a = 38463.0328*(1-cos(np.pi/4))\n",
    "Vypi3a = 38463.0328*(sin(i_crit2))\n",
    "grindPi3a = (Vxpi3a+dvpi3a)**2/(Vypi3a-dvpi3a)**2*t_in_orbita/3.154e+7\n",
    "\n",
    "t_in_orbitb = (2*np.pi*1207.14788*1.5e+11)/12108.1721\n",
    "Vxpi3b = 12108.1721*(1-cos(np.pi/4))\n",
    "Vypi3b = 12108.1721*(sin(i_crit3))\n",
    "grindPi3b = (Vxpi3b+dvpi3b)**2/(Vypi3b-dvpi3b)**2*t_in_orbitb/3.154e+7\n",
    "\n",
    "t_in_orbitc = (2*np.pi*13005.1044*1.5e+11)/3688.94264\n",
    "Vxpi3c = 3688.94264*(1-cos(np.pi/4))\n",
    "Vypi3c = 3688.94264*(sin(i_crit4))\n",
    "grindPi3c = (Vxpi3c+dvpi3c)**2/(Vypi3c-dvpi3c)**2*t_in_orbitc/3.154e+7\n",
    "\n",
    "t_in_orbitd = (2*np.pi*140421.962*1.5e+11)/1122.64205\n",
    "Vxpi3d = 1122.64205*(1-cos(np.pi/4))\n",
    "Vypi3d = 1122.64205*(sin(i_crit5))\n",
    "grindPi3d = (Vxpi3d+dvpi3d)**2/(Vypi3d-dvpi3d)**2*t_in_orbitd/3.154e+7\n",
    "\n",
    "t_in_orbite = (2*np.pi*4539069.56*1.5e+11)/197.458305\n",
    "Vxpi3e = 197.458305*(1-cos(np.pi/4))\n",
    "Vypi3e = 197.458305*(sin(i_crit6))\n",
    "grindPi3e = (Vxpi3e+dvpi3e)**2/(Vypi3e-dvpi3e)**2*t_in_orbite/3.154e+7\n",
    "\n",
    "t_in_orbitf = (2*np.pi*15707108.9*1.5e+11)/106.147726\n",
    "Vxpi3f = 106.147726*(1-cos(np.pi/4))\n",
    "Vypi3f = 106.147726*(sin(i_crit7))\n",
    "grindPi3f = (Vxpi3f+dvpi3f)**2/(Vypi3f-dvpi3f)**2*t_in_orbitf/3.154e+7\n",
    "\n",
    "T_grindPi3 = [grindPi3a, grindPi3b, grindPi3c, grindPi3d, grindPi3e, grindPi3f]\n",
    "print T_grindPi3"
   ]
  },
  {
   "cell_type": "code",
   "execution_count": 15,
   "metadata": {
    "collapsed": false
   },
   "outputs": [
    {
     "data": {
      "text/plain": [
       "<matplotlib.legend.Legend at 0x11984ce10>"
      ]
     },
     "execution_count": 15,
     "metadata": {},
     "output_type": "execute_result"
    },
    {
     "data": {
      "image/png": "[encoded data removed]",
      "text/plain": [
       "<matplotlib.figure.Figure at 0x118c8fad0>"
      ]
     },
     "metadata": {},
     "output_type": "display_data"
    }
   ],
   "source": [
    "logPlot = plt.gca()\n",
    "logPlot.loglog(D_Rg1,T_grindPi6, c='purple', label='pi/6')\n",
    "logPlot.loglog(D_Rg1,T_grindPi4, c='g', label='5pi/6')\n",
    "logPlot.loglog(D_Rg1,T_grindPi3, c='b', label='pi/4')\n",
    "plt.xlabel('Distance[Rg]', size = 20)\n",
    "plt.ylabel('Grind Time[years]', size = 20)\n",
    "plt.legend()\n",
    "ax = plt.subplot(111)\n",
    "plt.savefig('third method.png', dpi=300, bbox_inches='tight')\n",
    "ax.legend(loc='center left', bbox_to_anchor=(1, 0.5))"
   ]
  },
  {
   "cell_type": "code",
   "execution_count": 16,
   "metadata": {
    "collapsed": false
   },
   "outputs": [
    {
     "name": "stdout",
     "output_type": "stream",
     "text": [
      "[  1.25636326e+11   1.09368343e+11   9.15331622e+10   7.06708268e+10\n",
      "   3.14092972e+10   7.85231417e+09   2.69448476e+09   5.63769334e+08]\n"
     ]
    }
   ],
   "source": [
    "t_in_orbitc = (2*np.pi*13005.1044*1.5e+11)/3688.94264\n",
    "Vxic = 3688.94264*(1-cos(i_d))\n",
    "Vyic = 3688.94264*(sin(i_crit))\n",
    "grindic = (Vxic+(dvic*1000))**2/(Vyic-(dvic*1000))**2*t_in_orbitc/3.154e+7\n",
    "\n",
    "t_in_orbitd = (2*np.pi*140421.962*1.5e+11)/1122.64205\n",
    "Vxid = 1122.64205*(1-cos(i_d))\n",
    "Vyid = 1122.64205*(sin(i_crit))\n",
    "grindid = (Vxid+(dvid*1000))**2/(Vyid-(dvid*1000))**2*t_in_orbitd/3.154e+7\n",
    "\n",
    "t_in_orbite = (2*np.pi*4539069.56*1.5e+11)/197.458305\n",
    "Vxie = 197.458305*(1-cos(i_d))\n",
    "Vyie = 197.458305*(sin(i_crit))\n",
    "grindie = (Vxie+(dvpi6e*1000))**2/(Vyie-(dvie*1000))**2*t_in_orbite/3.154e+7\n",
    "\n",
    "print grindic"
   ]
  },
  {
   "cell_type": "code",
   "execution_count": 17,
   "metadata": {
    "collapsed": false
   },
   "outputs": [
    {
     "data": {
      "image/png": "[encoded data removed]",
      "text/plain": [
       "<matplotlib.figure.Figure at 0x1166aa210>"
      ]
     },
     "metadata": {},
     "output_type": "display_data"
    }
   ],
   "source": [
    "logPlot = plt.gca()\n",
    "plt.semilogy(i_d,grindic, c='green', label='10^4 Rg')\n",
    "plt.semilogy(i_d,grindid, c='purple', label='10^5 Rg')\n",
    "plt.semilogy(i_d,grindie, c='b', label='10^6 Rg')\n",
    "plt.xlabel('Inclination Angle', size = 20)\n",
    "plt.ylabel('Grind Time[years]', size = 20)\n",
    "plt.legend()\n",
    "ax = plt.subplot(111)\n",
    "ax.legend(loc='center left', bbox_to_anchor=(1, 0.5))\n",
    "plt.savefig('second method.png', dpi=300, bbox_inches='tight')"
   ]
  },
  {
   "cell_type": "code",
   "execution_count": null,
   "metadata": {
    "collapsed": true
   },
   "outputs": [],
   "source": []
  },
  {
   "cell_type": "code",
   "execution_count": null,
   "metadata": {
    "collapsed": true
   },
   "outputs": [],
   "source": []
  }
 ],
 "metadata": {
  "kernelspec": {
   "display_name": "Python 2",
   "language": "python",
   "name": "python2"
  },
  "language_info": {
   "codemirror_mode": {
    "name": "ipython",
    "version": 2
   },
   "file_extension": ".py",
   "mimetype": "text/x-python",
   "name": "python",
   "nbconvert_exporter": "python",
   "pygments_lexer": "ipython2",
   "version": "2.7.13"
  }
 },
 "nbformat": 4,
 "nbformat_minor": 2
}
