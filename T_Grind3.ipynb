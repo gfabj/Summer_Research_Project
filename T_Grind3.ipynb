{
 "cells": [
  {
   "cell_type": "code",
   "execution_count": 1,
   "metadata": {
    "collapsed": true
   },
   "outputs": [],
   "source": [
    "import numpy as np\n",
    "import math\n",
    "import matplotlib\n",
    "import matplotlib.pyplot as plt\n",
    "%matplotlib inline\n",
    "from numpy import loadtxt\n",
    "from numpy import cos,sin,pi,arctan,arcsin"
   ]
  },
  {
   "cell_type": "code",
   "execution_count": 6,
   "metadata": {
    "collapsed": false
   },
   "outputs": [],
   "source": [
    "hoverr=loadtxt(\"hoverrNoCommas.txt\")\n",
    "\n",
    "#unlogging and scaling\n",
    "\n",
    "hars=(10**hoverr[:,0])# =meters/3*10^11 #rs\n",
    "ham=(3*10**11)*hars #m #this is what we use for calculations \n",
    "harg=ham/(1.5*10**11) #rg #this is what we plot\n",
    "\n",
    "hovera=10**hoverr[:,1] #h/a\n",
    "\n",
    "h=ham*hovera\n",
    "\n",
    "\n",
    "#importing data for logged (a,σ)\n",
    "s_den=loadtxt(\"SurfaceDensity.txt\")\n",
    "\n",
    "#unlogging and scaling\n",
    "\n",
    "s_ars=(10**s_den[:,0]) #rs\n",
    "s_am=(3*10**11)*s_ars #m #this is what we use for calculations \n",
    "s_arg=s_am/(1.5*10**11) #rg #this is what we plot\n",
    "\n",
    "sigma=10**s_den[:,1] #surface density"
   ]
  },
  {
   "cell_type": "code",
   "execution_count": 9,
   "metadata": {
    "collapsed": false
   },
   "outputs": [],
   "source": [
    "h_=np.zeros((38,2))\n",
    "h_[:,0]=harg\n",
    "h_[:,1]=h\n",
    "#interpolating h as a function of radius\n",
    "def hint(a):\n",
    "    for i in range(len(harg)-1):\n",
    "        j=i+1\n",
    "        c = Point(harg[i],h[i])\n",
    "        d = Point(harg[j],h[j])\n",
    "        c_36 = Point(harg[36],h[36])\n",
    "        d_37 = Point(harg[37],h[37])\n",
    "        if ((a>=harg[i]) and (a<harg[j])):\n",
    "            y=(slope(harg[j]-harg[i],h[j]-h[i])*a)+(Point.y_int(c,d))\n",
    "        if ((a==harg[37])):\n",
    "            y=h[37]\n",
    "        if ((a>harg[37]) and (a<=s_arg[29])):\n",
    "            y=(slope(harg[37]-harg[36],h[37]-h[36])*a)+(Point.y_int(c_36,d_37))\n",
    "    return y"
   ]
  },
  {
   "cell_type": "code",
   "execution_count": 11,
   "metadata": {
    "collapsed": false
   },
   "outputs": [],
   "source": [
    "#interpolating h as a function of radius\n",
    "def hint(a):\n",
    "    for i in range(len(harg)-1):\n",
    "        j=i+1\n",
    "        c = Point(harg[i],h[i])\n",
    "        d = Point(harg[j],h[j])\n",
    "        c_36 = Point(harg[36],h[36])\n",
    "        d_37 = Point(harg[37],h[37])\n",
    "        if ((a>=harg[i]) and (a<harg[j])):\n",
    "            y=(slope(harg[j]-harg[i],h[j]-h[i])*a)+(Point.y_int(c,d))\n",
    "        if ((a==harg[37])):\n",
    "            y=h[37]\n",
    "        if ((a>harg[37]) and (a<=s_arg[29])):\n",
    "            y=(slope(harg[37]-harg[36],h[37]-h[36])*a)+(Point.y_int(c_36,d_37))\n",
    "    return y"
   ]
  },
  {
   "cell_type": "code",
   "execution_count": 14,
   "metadata": {
    "collapsed": true
   },
   "outputs": [],
   "source": [
    "def slope(dx, dy):\n",
    "    return (dy / dx) if dx else None\n",
    "\n",
    "class Point:\n",
    "    def __init__(self, x, y):\n",
    "        self.x = x\n",
    "        self.y = y\n",
    "\n",
    "    def __str__(self):\n",
    "        return '({}, {})'.format(self.x, self.y)\n",
    "\n",
    "    def __repr__(self):\n",
    "        return 'Point({}, {})'.format(self.x, self.y)\n",
    "\n",
    "    def halfway(self, target):\n",
    "        midx = (self.x + target.x) / 2\n",
    "        midy = (self.y + target.y) / 2\n",
    "        return Point(midx, midy)\n",
    "\n",
    "    def distance(self, target):\n",
    "        dx = target.x - self.x\n",
    "        dy = target.y - self.y\n",
    "        return (dx*dx + dy*dy) ** 0.5\n",
    "\n",
    "    def reflect_x(self):\n",
    "        return Point(-self.x,self.y)\n",
    "\n",
    "    def reflect_y(self):\n",
    "        return Point(self.x,-self.y)\n",
    "\n",
    "    def reflect_x_y(self):\n",
    "        return Point(-self.x, -self.y)\n",
    "\n",
    "    def slope_from_origin(self):\n",
    "        return slope(self.x, self.y)\n",
    "\n",
    "    def slope(self, target):\n",
    "        return slope(target.x - self.x, target.y - self.y)\n",
    "\n",
    "    def y_int(self, target):       # <= here's the magic\n",
    "        return self.y - self.slope(target)*self.x\n",
    "\n",
    "    def line_equation(self, target):\n",
    "        slope = self.slope(target)\n",
    "\n",
    "        y_int = self.y_int(target)\n",
    "        if y_int < 0:\n",
    "            y_int = -y_int\n",
    "            sign = '-'\n",
    "        else:\n",
    "            sign = '+'\n",
    "\n",
    "        return '{}x {} {}'.format(slope, sign, y_int)\n",
    "\n",
    "    def line_function(self, target):\n",
    "        slope = self.slope(target)\n",
    "        y_int = self.y_int(target)\n",
    "        def fn(x):\n",
    "            return slope*x + y_int\n",
    "        return fn"
   ]
  },
  {
   "cell_type": "code",
   "execution_count": 66,
   "metadata": {
    "collapsed": false
   },
   "outputs": [],
   "source": [
    "# (a,h) & (a,hint) comparison\n",
    "\n",
    "#creating a list of values for interpolated thickness hint\n",
    "h_int1=[]\n",
    "for i in range(len(distance_in_rg)):\n",
    "    h_int1.append(hint(harg[i]))\n",
    "h_int2=[]\n",
    "for i in range(len(s_arg)):\n",
    "    h_int2.append(hint(s_arg[i]))"
   ]
  },
  {
   "cell_type": "code",
   "execution_count": 17,
   "metadata": {
    "collapsed": false
   },
   "outputs": [],
   "source": [
    "s_den_=np.zeros((30,2))\n",
    "s_den_[:,0]=s_arg\n",
    "s_den_[:,1]=sigma"
   ]
  },
  {
   "cell_type": "code",
   "execution_count": 51,
   "metadata": {
    "collapsed": false
   },
   "outputs": [],
   "source": [
    "#interpolating σ as a function of radius\n",
    "def s_int(a):    \n",
    "    for i in range(len(s_arg)-1):\n",
    "        j=i+1\n",
    "        c = Point(s_arg[i],sigma[i])\n",
    "        d = Point(s_arg[j],sigma[j])\n",
    "        c_0 = Point(s_arg[0],sigma[0])\n",
    "        d_1 = Point(s_arg[1],sigma[1])\n",
    "        if ((a>=harg[0]) and (a<s_arg[0])):\n",
    "            y=(slope(s_arg[1]-s_arg[0],sigma[1]-sigma[0])*a)+(Point.y_int(c_0,d_1))\n",
    "        if ((a>=s_arg[i]) and (a<s_arg[j])):\n",
    "            y=(slope(s_arg[j]-s_arg[i],sigma[j]-sigma[i])*a)+(Point.y_int(c,d))\n",
    "        if ((a==s_arg[29])):\n",
    "            y=sigma[29]\n",
    "    return y"
   ]
  },
  {
   "cell_type": "code",
   "execution_count": 49,
   "metadata": {
    "collapsed": false
   },
   "outputs": [],
   "source": [
    "def rho(a):\n",
    "    return s_int(a)/(hint(a)*100)\n",
    "#creating a list of values for density ρ\n",
    "rho_den1=[]\n",
    "for i in range(len(harg)):\n",
    "    rho_den1.append(rho(harg[i]))\n",
    "rho_den2=[]\n",
    "for i in range(len(s_arg)):\n",
    "    rho_den2.append(rho(s_arg[i]))"
   ]
  },
  {
   "cell_type": "code",
   "execution_count": 64,
   "metadata": {
    "collapsed": false
   },
   "outputs": [
    {
     "ename": "UnboundLocalError",
     "evalue": "local variable 'y' referenced before assignment",
     "output_type": "error",
     "traceback": [
      "\u001b[0;31m---------------------------------------------------------------------------\u001b[0m",
      "\u001b[0;31mUnboundLocalError\u001b[0m                         Traceback (most recent call last)",
      "\u001b[0;32m<ipython-input-64-065753aa0a9e>\u001b[0m in \u001b[0;36m<module>\u001b[0;34m()\u001b[0m\n\u001b[1;32m      2\u001b[0m \u001b[0mvaaaaaalues\u001b[0m \u001b[0;34m=\u001b[0m \u001b[0;36m0\u001b[0m\u001b[0;34m\u001b[0m\u001b[0m\n\u001b[1;32m      3\u001b[0m \u001b[0;32mfor\u001b[0m \u001b[0mi\u001b[0m \u001b[0;32min\u001b[0m \u001b[0mdistance_in_rg\u001b[0m\u001b[0;34m:\u001b[0m\u001b[0;34m\u001b[0m\u001b[0m\n\u001b[0;32m----> 4\u001b[0;31m     \u001b[0mvaaaaaalues\u001b[0m \u001b[0;34m=\u001b[0m \u001b[0mrho\u001b[0m\u001b[0;34m(\u001b[0m\u001b[0mi\u001b[0m\u001b[0;34m)\u001b[0m \u001b[0;34m*\u001b[0m \u001b[0mForce\u001b[0m\u001b[0;34m\u001b[0m\u001b[0m\n\u001b[0m\u001b[1;32m      5\u001b[0m     \u001b[0mthingWeNeed\u001b[0m\u001b[0;34m.\u001b[0m\u001b[0mappend\u001b[0m\u001b[0;34m(\u001b[0m\u001b[0mvaaaaaalues\u001b[0m\u001b[0;34m)\u001b[0m\u001b[0;34m\u001b[0m\u001b[0m\n\u001b[1;32m      6\u001b[0m \u001b[0;32mprint\u001b[0m \u001b[0mthingWeNeed\u001b[0m\u001b[0;34m\u001b[0m\u001b[0m\n",
      "\u001b[0;32m<ipython-input-49-4784bbb439a7>\u001b[0m in \u001b[0;36mrho\u001b[0;34m(a)\u001b[0m\n\u001b[1;32m      1\u001b[0m \u001b[0;32mdef\u001b[0m \u001b[0mrho\u001b[0m\u001b[0;34m(\u001b[0m\u001b[0ma\u001b[0m\u001b[0;34m)\u001b[0m\u001b[0;34m:\u001b[0m\u001b[0;34m\u001b[0m\u001b[0m\n\u001b[0;32m----> 2\u001b[0;31m     \u001b[0;32mreturn\u001b[0m \u001b[0ms_int\u001b[0m\u001b[0;34m(\u001b[0m\u001b[0ma\u001b[0m\u001b[0;34m)\u001b[0m\u001b[0;34m/\u001b[0m\u001b[0;34m(\u001b[0m\u001b[0mhint\u001b[0m\u001b[0;34m(\u001b[0m\u001b[0ma\u001b[0m\u001b[0;34m)\u001b[0m\u001b[0;34m*\u001b[0m\u001b[0;36m100\u001b[0m\u001b[0;34m)\u001b[0m\u001b[0;34m\u001b[0m\u001b[0m\n\u001b[0m\u001b[1;32m      3\u001b[0m \u001b[0;31m#creating a list of values for density ρ\u001b[0m\u001b[0;34m\u001b[0m\u001b[0;34m\u001b[0m\u001b[0m\n\u001b[1;32m      4\u001b[0m \u001b[0mrho_den1\u001b[0m\u001b[0;34m=\u001b[0m\u001b[0;34m[\u001b[0m\u001b[0;34m]\u001b[0m\u001b[0;34m\u001b[0m\u001b[0m\n\u001b[1;32m      5\u001b[0m \u001b[0;32mfor\u001b[0m \u001b[0mi\u001b[0m \u001b[0;32min\u001b[0m \u001b[0mrange\u001b[0m\u001b[0;34m(\u001b[0m\u001b[0mlen\u001b[0m\u001b[0;34m(\u001b[0m\u001b[0mharg\u001b[0m\u001b[0;34m)\u001b[0m\u001b[0;34m)\u001b[0m\u001b[0;34m:\u001b[0m\u001b[0;34m\u001b[0m\u001b[0m\n",
      "\u001b[0;32m<ipython-input-51-5aee2184eec6>\u001b[0m in \u001b[0;36ms_int\u001b[0;34m(a)\u001b[0m\n\u001b[1;32m     13\u001b[0m         \u001b[0;32mif\u001b[0m \u001b[0;34m(\u001b[0m\u001b[0;34m(\u001b[0m\u001b[0ma\u001b[0m\u001b[0;34m==\u001b[0m\u001b[0ms_arg\u001b[0m\u001b[0;34m[\u001b[0m\u001b[0;36m29\u001b[0m\u001b[0;34m]\u001b[0m\u001b[0;34m)\u001b[0m\u001b[0;34m)\u001b[0m\u001b[0;34m:\u001b[0m\u001b[0;34m\u001b[0m\u001b[0m\n\u001b[1;32m     14\u001b[0m             \u001b[0my\u001b[0m\u001b[0;34m=\u001b[0m\u001b[0msigma\u001b[0m\u001b[0;34m[\u001b[0m\u001b[0;36m29\u001b[0m\u001b[0;34m]\u001b[0m\u001b[0;34m\u001b[0m\u001b[0m\n\u001b[0;32m---> 15\u001b[0;31m     \u001b[0;32mreturn\u001b[0m \u001b[0my\u001b[0m\u001b[0;34m\u001b[0m\u001b[0m\n\u001b[0m",
      "\u001b[0;31mUnboundLocalError\u001b[0m: local variable 'y' referenced before assignment"
     ]
    }
   ],
   "source": [
    "thingWeNeed = []\n",
    "vaaaaaalues = 0\n",
    "for i in distance_in_rg:\n",
    "    vaaaaaalues = rho(i) * Force\n",
    "    thingWeNeed.append(vaaaaaalues)\n",
    "print thingWeNeed    "
   ]
  },
  {
   "cell_type": "code",
   "execution_count": 62,
   "metadata": {
    "collapsed": false
   },
   "outputs": [
    {
     "name": "stdout",
     "output_type": "stream",
     "text": [
      "4.84638796173e-09\n"
     ]
    }
   ],
   "source": []
  },
  {
   "cell_type": "code",
   "execution_count": 60,
   "metadata": {
    "collapsed": false,
    "scrolled": false
   },
   "outputs": [
    {
     "name": "stdout",
     "output_type": "stream",
     "text": [
      "[ 0.  0.  0.  0.  0.  0.  0.  0.  0.  0.  0.  0.  0.  0.  0.  0.  0.  0.\n",
      "  0.  0.  0.  0.  0.  0.  0.  0.  0.  0.  0.  0.  0.  0.  0.  0.  0.  0.\n",
      "  0.  0.]\n"
     ]
    }
   ],
   "source": [
    "rho_den1=[]\n",
    "output = []\n",
    "result = 0\n",
    "\n",
    "for i in harg:\n",
    "    result = rho(i)\n",
    "    rho_den1.append(result)\n",
    "rho_den1 = np.array(rho_den1)\n",
    "rho_den1 = rho_den1 * Force\n",
    "print rho_den1"
   ]
  },
  {
   "cell_type": "code",
   "execution_count": 24,
   "metadata": {
    "collapsed": true
   },
   "outputs": [],
   "source": [
    "# Let's try to see how it changes with radius\n",
    "text_file1 = np.loadtxt('hoverrNoCommas.txt', dtype = 'float')\n",
    "a = text_file1[:,0]\n",
    "a1 = 10**a\n",
    "c = 6.67e-11*2*1.99e30*10**8\n",
    "distance_in_meters = a1*(2*c)\n",
    "speed_of_light_squared=(3e8)**2\n",
    "distance = (distance_in_meters/speed_of_light_squared)\n",
    "distance_in_rg = distance/(1.5*10**11)\n",
    "velocity = (c/distance)**(1/2.0)*10**(-3)"
   ]
  },
  {
   "cell_type": "code",
   "execution_count": 47,
   "metadata": {
    "collapsed": false
   },
   "outputs": [
    {
     "name": "stdout",
     "output_type": "stream",
     "text": [
      "[  1.00552700e+01   1.37069799e+01   1.75599452e+01   2.20353040e+01\n",
      "   2.94171160e+01   4.17739144e+01   5.81105952e+01   7.75685071e+01\n",
      "   9.53355951e+01   1.19627381e+02   1.41094721e+02   1.77070986e+02\n",
      "   2.13267722e+02   2.62245907e+02   3.15891093e+02   3.72665704e+02\n",
      "   4.48772088e+02   5.51589336e+02   6.37236074e+02   7.67085479e+02\n",
      "   9.82317660e+02   1.20714788e+03   1.45340076e+03   1.67927110e+03\n",
      "   2.10740141e+03   2.53786758e+03   3.12022799e+03   3.60598266e+03\n",
      "   4.52750494e+03   6.04854204e+03   1.30051044e+04   4.14286993e+04\n",
      "   1.40421962e+05   3.95102292e+05   9.61790620e+05   4.53906956e+06\n",
      "   1.57071089e+07   3.27405712e+07]\n"
     ]
    }
   ],
   "source": [
    "print distance_in_rg"
   ]
  },
  {
   "cell_type": "code",
   "execution_count": 36,
   "metadata": {
    "collapsed": false
   },
   "outputs": [
    {
     "ename": "TypeError",
     "evalue": "can't multiply sequence by non-int of type 'float'",
     "output_type": "error",
     "traceback": [
      "\u001b[0;31m---------------------------------------------------------------------------\u001b[0m",
      "\u001b[0;31mTypeError\u001b[0m                                 Traceback (most recent call last)",
      "\u001b[0;32m<ipython-input-36-c3b61303caf7>\u001b[0m in \u001b[0;36m<module>\u001b[0;34m()\u001b[0m\n\u001b[1;32m      1\u001b[0m \u001b[0mmass\u001b[0m \u001b[0;34m=\u001b[0m \u001b[0;36m1.99e+30\u001b[0m\u001b[0;34m\u001b[0m\u001b[0m\n\u001b[0;32m----> 2\u001b[0;31m \u001b[0mForce\u001b[0m \u001b[0;34m=\u001b[0m \u001b[0;36m0.5\u001b[0m\u001b[0;34m*\u001b[0m\u001b[0mdensity\u001b[0m\u001b[0;34m*\u001b[0m\u001b[0;36m6.088e+18\u001b[0m\u001b[0;34m/\u001b[0m\u001b[0mmass\u001b[0m\u001b[0;34m\u001b[0m\u001b[0m\n\u001b[0m\u001b[1;32m      3\u001b[0m \u001b[0;34m\u001b[0m\u001b[0m\n\u001b[1;32m      4\u001b[0m \u001b[0mv_crit1\u001b[0m \u001b[0;34m=\u001b[0m \u001b[0mvelocity\u001b[0m\u001b[0;34m*\u001b[0m\u001b[0mcos\u001b[0m\u001b[0;34m(\u001b[0m\u001b[0mi_crit\u001b[0m\u001b[0;34m)\u001b[0m\u001b[0;34m\u001b[0m\u001b[0m\n\u001b[1;32m      5\u001b[0m \u001b[0mt_in_orbit\u001b[0m \u001b[0;34m=\u001b[0m \u001b[0;34m(\u001b[0m\u001b[0;36m2\u001b[0m\u001b[0;34m*\u001b[0m\u001b[0mnp\u001b[0m\u001b[0;34m.\u001b[0m\u001b[0mpi\u001b[0m\u001b[0;34m*\u001b[0m\u001b[0mdistance\u001b[0m\u001b[0;34m*\u001b[0m\u001b[0;36m10\u001b[0m\u001b[0;34m**\u001b[0m\u001b[0;34m(\u001b[0m\u001b[0;34m-\u001b[0m\u001b[0;36m3\u001b[0m\u001b[0;34m)\u001b[0m\u001b[0;34m)\u001b[0m\u001b[0;34m/\u001b[0m\u001b[0mvelocity\u001b[0m\u001b[0;34m\u001b[0m\u001b[0m\n",
      "\u001b[0;31mTypeError\u001b[0m: can't multiply sequence by non-int of type 'float'"
     ]
    }
   ],
   "source": [
    "mass = 1.99e+30\n",
    "Force = 0.5**6.088e+18/mass\n",
    "\n",
    "v_crit1 = velocity*cos(i_crit)\n",
    "t_in_orbit = (2*np.pi*distance*10**(-3))/velocity\n",
    "Vxpi4 = velocity*cos(np.pi/4)\n",
    "V_rpi4 = (velocity*sin(np.pi/4))**2\n",
    "dvpi4 = V_rpi4*Force*t_in_orbit\n",
    "n_grind = (v_crit1 - Vxpi4)/dvpi4\n",
    "T_grind1 = n_grind*t_in_orbit/3.154e+7\n",
    "\n",
    "v_crit1 = velocity*cos(i_crit)\n",
    "t_in_orbit = (2*np.pi*distance*10**(-3))/velocity\n",
    "Vxpi3 = velocity*cos(np.pi/3)\n",
    "V_rpi3 = (velocity*sin(np.pi/3))**2\n",
    "dvpi3 = V_rpi3*Force*t_in_orbit\n",
    "n_grind = (v_crit1 - Vxpi3)/dvpi3\n",
    "T_grind2 = n_grind*t_in_orbit/3.154e+7\n",
    "\n",
    "v_crit1 = velocity*cos(i_crit)\n",
    "t_in_orbit = (2*np.pi*distance*10**(-3))/velocity\n",
    "Vxpi5 = velocity*cos(5*np.pi/6)\n",
    "V_rpi5 = (velocity*sin(5*np.pi/6))**2\n",
    "dvpi5 = V_rpi3*Force*t_in_orbit\n",
    "n_grind = (v_crit1 - Vxpi5)/dvpi5\n",
    "T_grind3 = n_grind*t_in_orbit/3.154e+7\n",
    "\n",
    "v_crit1 = velocity*cos(i_crit)\n",
    "t_in_orbit = (2*np.pi*distance*10**(-3))/velocity\n",
    "Vxpi6 = velocity*cos(np.pi/6)\n",
    "V_rpi6 = (velocity*sin(np.pi/6))**2\n",
    "dvpi6 = V_rpi6*Force*t_in_orbit\n",
    "n_grind = (v_crit1 - Vxpi6)/dvpi6\n",
    "T_grind4 = n_grind*t_in_orbit/3.154e+7"
   ]
  },
  {
   "cell_type": "code",
   "execution_count": null,
   "metadata": {
    "collapsed": true
   },
   "outputs": [],
   "source": []
  },
  {
   "cell_type": "code",
   "execution_count": null,
   "metadata": {
    "collapsed": true
   },
   "outputs": [],
   "source": []
  },
  {
   "cell_type": "code",
   "execution_count": null,
   "metadata": {
    "collapsed": true
   },
   "outputs": [],
   "source": []
  }
 ],
 "metadata": {
  "kernelspec": {
   "display_name": "Python 2",
   "language": "python",
   "name": "python2"
  },
  "language_info": {
   "codemirror_mode": {
    "name": "ipython",
    "version": 2
   },
   "file_extension": ".py",
   "mimetype": "text/x-python",
   "name": "python",
   "nbconvert_exporter": "python",
   "pygments_lexer": "ipython2",
   "version": "2.7.13"
  }
 },
 "nbformat": 4,
 "nbformat_minor": 2
}
