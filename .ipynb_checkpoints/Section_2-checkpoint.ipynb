{
 "cells": [
  {
   "cell_type": "markdown",
   "metadata": {},
   "source": [
    "These values were given by the Sirko and Goodman model \n",
    "d_rg is the distance in Rg, rho is the density in kg/m^3, H is the scale height in Rg\n",
    "\n",
    "Question: - Estimate the the dissipation rate per unit disk surface area for the Sirko\n",
    "            and Goodman model of an AGN disk and plot it as a function of R\n",
    "          - Discuss your results: what is the plot suggesting?"
   ]
  },
  {
   "cell_type": "code",
   "execution_count": 1,
   "metadata": {
    "collapsed": true
   },
   "outputs": [],
   "source": [
    "import numpy as np\n",
    "import matplotlib.pyplot as plt\n",
    "import pandas as pd\n",
    "import astropy\n",
    "%matplotlib inline\n",
    "import pylab\n",
    "import scipy.interpolate as sp\n",
    "from numpy import pi, sin, cos, tan\n",
    "from numpy import array"
   ]
  },
  {
   "cell_type": "code",
   "execution_count": 2,
   "metadata": {
    "collapsed": true
   },
   "outputs": [],
   "source": [
    "text_file1 = np.loadtxt('hoverr.txt', dtype = 'float')"
   ]
  },
  {
   "cell_type": "code",
   "execution_count": 4,
   "metadata": {
    "collapsed": true
   },
   "outputs": [],
   "source": [
    "d_rg = np.array([1.00552700e+01, 1.37069799e+01,1.19627381e+02, 1.41094721e+02,1.20714788e+03,1.45340076e+03,1.30051044e+04, 1.40421962e+05])"
   ]
  },
  {
   "cell_type": "code",
   "execution_count": 5,
   "metadata": {
    "collapsed": true
   },
   "outputs": [],
   "source": [
    "rho = np.array([5.32269352e-06, 5.97652138e-06,1.25160418e-05,1.31321502e-05,.42899032e-05,6.10097851e-05,4.24204497e-07,1.33872132e-08])"
   ]
  },
  {
   "cell_type": "code",
   "execution_count": 8,
   "metadata": {
    "collapsed": false
   },
   "outputs": [],
   "source": [
    "H = np.array([1.19483,1.4977,2.7485,2.85922,7.2630,7.4744,95.270,3381.3])"
   ]
  },
  {
   "cell_type": "code",
   "execution_count": 11,
   "metadata": {
    "collapsed": false
   },
   "outputs": [
    {
     "name": "stdout",
     "output_type": "stream",
     "text": [
      "[1.00552700e+01 1.37069799e+01 1.19627381e+02 1.41094721e+02\n",
      " 1.20714788e+03 1.45340076e+03 1.30051044e+04 1.40421962e+05]\n",
      "[5.32269352e-06 5.97652138e-06 1.25160418e-05 1.31321502e-05\n",
      " 4.28990320e-06 6.10097851e-05 4.24204497e-07 1.33872132e-08]\n",
      "[1.19483e+00 1.49770e+00 2.74850e+00 2.85922e+00 7.26300e+00 7.47440e+00\n",
      " 9.52700e+01 3.38130e+03]\n"
     ]
    },
    {
     "data": {
      "text/plain": [
       "(None, None, None)"
      ]
     },
     "execution_count": 11,
     "metadata": {},
     "output_type": "execute_result"
    }
   ],
   "source": [
    "print(d_rg), print(rho), print(H)"
   ]
  },
  {
   "cell_type": "code",
   "execution_count": 9,
   "metadata": {
    "collapsed": false
   },
   "outputs": [],
   "source": [
    "d_m = d_rg*1.5e11  #conversion into meters\n",
    "H_m = H*1.5e11"
   ]
  },
  {
   "cell_type": "code",
   "execution_count": 16,
   "metadata": {
    "collapsed": false
   },
   "outputs": [],
   "source": [
    "#assmue alpha = 0.5 for SG model, and c_s = 100 km/s for an AGN disk\n",
    "v_k = H_m*0.5*1e5\n",
    "\n",
    "#E(R) is the dissipation rate per unit disk surface area due to kinematic viscosity\n",
    "E = (1.125)*v_k*rho*H_m*(6.67e-11*1.5e8*2e30)/(d_m)**3"
   ]
  },
  {
   "cell_type": "code",
   "execution_count": 23,
   "metadata": {
    "collapsed": false
   },
   "outputs": [
    {
     "data": {
      "text/plain": [
       "(10, 10000.0)"
      ]
     },
     "execution_count": 23,
     "metadata": {},
     "output_type": "execute_result"
    },
    {
     "data": {
      "image/png": "[encoded data removed]",
      "text/plain": [
       "<Figure size 720x360 with 1 Axes>"
      ]
     },
     "metadata": {},
     "output_type": "display_data"
    }
   ],
   "source": [
    "\n",
    "plt.figure(figsize=(10,5))\n",
    "logPlot = plt.gca()\n",
    "logPlot.loglog(d_rg,E,c='red')\n",
    "plt.xlabel('R [$R_g$]',fontsize=18)\n",
    "plt.ylabel('E(R) [$1/s$]',fontsize=18)\n",
    "plt.title('Dissipation Rate vs. Distance')\n",
    "plt.xlim(10,1e4)"
   ]
  },
  {
   "cell_type": "markdown",
   "metadata": {},
   "source": [
    "The plot suggests that the dissipation rate decreases with radius.\n",
    "It also shows the dependece on density (the spike may be due\n",
    "to the jump in density at around 10^4 Rg)"
   ]
  },
  {
   "cell_type": "code",
   "execution_count": null,
   "metadata": {
    "collapsed": true
   },
   "outputs": [],
   "source": []
  }
 ],
 "metadata": {
  "kernelspec": {
   "display_name": "Python 3",
   "language": "python",
   "name": "python3"
  },
  "language_info": {
   "codemirror_mode": {
    "name": "ipython",
    "version": 3
   },
   "file_extension": ".py",
   "mimetype": "text/x-python",
   "name": "python",
   "nbconvert_exporter": "python",
   "pygments_lexer": "ipython3",
   "version": "3.6.5"
  }
 },
 "nbformat": 4,
 "nbformat_minor": 2
}
