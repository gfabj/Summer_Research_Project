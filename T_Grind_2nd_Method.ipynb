{
 "cells": [
  {
   "cell_type": "code",
   "execution_count": 11,
   "metadata": {
    "collapsed": true
   },
   "outputs": [],
   "source": [
    "import numpy as np\n",
    "import matplotlib.pyplot as plt\n",
    "import pandas as pd\n",
    "import astropy\n",
    "%matplotlib inline\n",
    "import pylab\n",
    "import math"
   ]
  },
  {
   "cell_type": "code",
   "execution_count": 12,
   "metadata": {
    "collapsed": false
   },
   "outputs": [],
   "source": [
    "from numpy import array\n",
    "#np.arange(38)\n",
    "#velocity = array([1.32666709e+05, 1.13628673e+05, 1.00391570e+05, 8.96188363e+04, 7.75637462e+04, 6.50887959e+04, 5.51862853e+04, 4.77656956e+04, 4.30855144e+04, 3.84630328e+04, 3.54163206e+04, 3.16144128e+04, 2.88068823e+04, 2.59779253e+04, 2.36695572e+04, 2.17921013e+04, 1.98584755e+04, 1.79122810e+04, 1.66651277e+04, 1.51892714e+04, 1.34224825e+04, 1.21081721e+04, 1.10348423e+04, 1.02659328e+04, 9.16400231e+03, 8.35072812e+03, 7.53122564e+03, 7.00562693e+03, 6.25214954e+03, 5.40920539e+03, 3.68894264e+03, 2.06684627e+03, 1.12264205e+03, 6.69274146e+02, 4.28961737e+02, 1.97458305e+02, 1.06147726e+02, 7.35217265e+01])"
   ]
  },
  {
   "cell_type": "code",
   "execution_count": 13,
   "metadata": {
    "collapsed": false
   },
   "outputs": [],
   "source": [
    "#i = np.arange(np.pi,np.pi*13/6,np.pi/6)\n",
    "#i = i[:7]"
   ]
  },
  {
   "cell_type": "code",
   "execution_count": 14,
   "metadata": {
    "collapsed": false
   },
   "outputs": [],
   "source": [
    "#Vx1 = []\n",
    "#for j in Vx:\n",
    "    #if np.fabs(j) < 10e-05:\n",
    "        #Vx1.append(0.0)\n",
    "    #else:\n",
    "        #Vx1.append(j)\n",
    "#print Vx1"
   ]
  },
  {
   "cell_type": "code",
   "execution_count": 15,
   "metadata": {
    "collapsed": false
   },
   "outputs": [],
   "source": [
    "#Vy1 = []\n",
    "#for j in Vy:\n",
    "    #if np.fabs(j) < 10e-05:\n",
    "        #Vy1.append(0.0)\n",
    "    #else:\n",
    "        #Vy1.append(j)\n",
    "#print Vy1"
   ]
  },
  {
   "cell_type": "code",
   "execution_count": 16,
   "metadata": {
    "collapsed": false
   },
   "outputs": [
    {
     "name": "stdout",
     "output_type": "stream",
     "text": [
      "3322638308.27\n"
     ]
    }
   ],
   "source": [
    "Rg = 1.30051044e+04\n",
    "\n",
    "Speed = 3.68894264e+03\n",
    "\n",
    "from numpy import cos,sin\n",
    "Vy = Speed*sin(np.pi/4)\n",
    "\n",
    "T_Orb = 2*np.pi*Rg*(1.5*10**11)/(Speed*10**3)\n",
    "\n",
    "from numpy import array\n",
    "np.arange(4)\n",
    "Period2 = array([T_Orb*1, T_Orb*2, T_Orb*3, T_Orb*4, T_Orb*5, T_Orb*6, T_Orb*7, T_Orb*8])\n",
    "Period = array([T_Orb*1, T_Orb*2, T_Orb*3, T_Orb*4, T_Orb*5, T_Orb*6, T_Orb*7, T_Orb*8, T_Orb*9, T_Orb*10,T_Orb*11, T_Orb*12, T_Orb*13, T_Orb*14])\n",
    "\n",
    "print T_Orb"
   ]
  },
  {
   "cell_type": "markdown",
   "metadata": {},
   "source": [
    "# Calculation of dVy for pi/4"
   ]
  },
  {
   "cell_type": "code",
   "execution_count": 17,
   "metadata": {
    "collapsed": false
   },
   "outputs": [
    {
     "name": "stdout",
     "output_type": "stream",
     "text": [
      "0.00874597439809\n"
     ]
    }
   ],
   "source": [
    "S_a =  6.088e+18 #in meters squared\n",
    "V_r = (Speed*sin(np.pi/4))**2\n",
    "const = (0.5*2.52906361193e-10*S_a)/(1.99e+30)\n",
    "# dv = F*dt/m\n",
    "dv = (V_r*const*T_Orb*10**3)\n",
    "\n",
    "v_pi_over4 = dv/Vy\n",
    "\n",
    "print dv\n"
   ]
  },
  {
   "cell_type": "code",
   "execution_count": 18,
   "metadata": {
    "collapsed": false
   },
   "outputs": [
    {
     "name": "stdout",
     "output_type": "stream",
     "text": [
      "0.00874597439809\n"
     ]
    }
   ],
   "source": [
    "\n",
    "\n",
    "V_r1 = (132666.709*sin(np.pi/4))**2\n",
    "const1 = (0.5*2.52906361193e-10*S_a)/(1.99e+30)\n",
    "# dv = F*dt/m\n",
    "dv = (V_r*const1*T_Orb*10**3)\n",
    "\n",
    "v_pi_over4 = dv/Vy\n",
    "\n",
    "print dv\n",
    "i_crit = np.arcsin(9.52700825e+01/(2*1.30051044e+04))\n",
    "mass = 1.99e+30\n",
    "Force = 0.5*6.088e+18/mass\n"
   ]
  },
  {
   "cell_type": "code",
   "execution_count": 19,
   "metadata": {
    "collapsed": false
   },
   "outputs": [
    {
     "ename": "SyntaxError",
     "evalue": "invalid syntax (<ipython-input-19-1c486bb726c2>, line 1)",
     "output_type": "error",
     "traceback": [
      "\u001b[0;36m  File \u001b[0;32m\"<ipython-input-19-1c486bb726c2>\"\u001b[0;36m, line \u001b[0;32m1\u001b[0m\n\u001b[0;31m    V_r1 = = (Speed*10**3*sin(np.pi/4))**2\u001b[0m\n\u001b[0m           ^\u001b[0m\n\u001b[0;31mSyntaxError\u001b[0m\u001b[0;31m:\u001b[0m invalid syntax\n"
     ]
    }
   ],
   "source": [
    "V_r1 = = (Speed*10**3*sin(np.pi/4))**2"
   ]
  },
  {
   "cell_type": "markdown",
   "metadata": {},
   "source": [
    "# pi/3"
   ]
  },
  {
   "cell_type": "code",
   "execution_count": null,
   "metadata": {
    "collapsed": false
   },
   "outputs": [],
   "source": [
    "Vy1 = Speed*sin(np.pi/3)\n",
    "\n",
    "V_r1 = (Speed*sin(np.pi/3))**2\n",
    "const = (2.52906361193e-10*6.088e+18)/(1.99e+30)\n",
    "\n",
    "dv1 = V_r1*const*Period\n",
    "\n",
    "v_pi_over3 = dv1/Vy1\n",
    "\n",
    "print v_pi_over3"
   ]
  },
  {
   "cell_type": "code",
   "execution_count": null,
   "metadata": {
    "collapsed": true
   },
   "outputs": [],
   "source": [
    "Vy2 = Speed*sin(np.pi/6)\n",
    "\n",
    "V_r2 = (Speed*sin(np.pi/6))**2\n",
    "const = (0.5*2.52906361193e-10*6.088e+18)/(1.99e+30)\n",
    "\n",
    "dv2 = V_r2*const*Period\n",
    "\n",
    "v_pi_over6 = dv2/Vy2"
   ]
  },
  {
   "cell_type": "code",
   "execution_count": null,
   "metadata": {
    "collapsed": true
   },
   "outputs": [],
   "source": [
    "Vy3 = Speed*sin(np.pi/2)\n",
    "\n",
    "V_r3 = (Speed*sin(np.pi/2))**2\n",
    "const = (0.5*2.52906361193e-10*6.088e+18)/(1.99e+30)\n",
    "\n",
    "dv3 = V_r3*const*Period\n",
    "\n",
    "v_pi_over2 = dv3/Vy3"
   ]
  },
  {
   "cell_type": "code",
   "execution_count": null,
   "metadata": {
    "collapsed": false
   },
   "outputs": [],
   "source": [
    "plt.plot(Period,v_pi_over6, c='b',label = 'pi over 6')\n",
    "plt.plot(Period,v_pi_over3, color='green', label = 'pi over 3')\n",
    "plt.plot(Period,v_pi_over2, color='orange', label = 'pi over 2')\n",
    "plt.plot(Period,v_pi_over4, c='r',label = 'pi over 4')\n",
    "\n",
    "\n",
    "plt.xlabel('Orbit',fontsize=20)\n",
    "plt.ylabel('Vy/dvy',fontsize=20)\n",
    "plt.legend()\n",
    "plt.savefig('ratio vs orbit.pdf')"
   ]
  },
  {
   "cell_type": "code",
   "execution_count": null,
   "metadata": {
    "collapsed": true
   },
   "outputs": [],
   "source": [
    "inv_t = 1/Period"
   ]
  },
  {
   "cell_type": "code",
   "execution_count": null,
   "metadata": {
    "collapsed": false
   },
   "outputs": [],
   "source": [
    "plt.plot(Period,dv)\n",
    "plt.plot(Period,dv1)\n",
    "plt.plot(Period,dv2)"
   ]
  },
  {
   "cell_type": "code",
   "execution_count": null,
   "metadata": {
    "collapsed": false
   },
   "outputs": [],
   "source": [
    "Vx = Speed*cos(np.pi/3)\n",
    "Vx1 = Speed*cos(np.pi/4)\n",
    "Vx2 = Speed*cos(np.pi/6)"
   ]
  },
  {
   "cell_type": "code",
   "execution_count": null,
   "metadata": {
    "collapsed": false
   },
   "outputs": [],
   "source": [
    "dVx1 = Vx1 + dv\n",
    "print Vx\n",
    "print Speed"
   ]
  },
  {
   "cell_type": "code",
   "execution_count": null,
   "metadata": {
    "collapsed": false
   },
   "outputs": [],
   "source": [
    "plt.plot(Period,dVx1) "
   ]
  },
  {
   "cell_type": "code",
   "execution_count": null,
   "metadata": {
    "collapsed": false
   },
   "outputs": [],
   "source": [
    "# Number of orbits the object takes to grind down for pi/4\n",
    "i_crit = np.arcsin(9.52700825e+01/(2*1.30051044e+04))\n",
    "v_crit = Speed*cos(i_crit)\n",
    "dVa = (V_r*const*T_Orb)\n",
    "n_act1 = (v_crit - Vx1)/dVa\n",
    "print n_act1"
   ]
  },
  {
   "cell_type": "code",
   "execution_count": null,
   "metadata": {
    "collapsed": false
   },
   "outputs": [],
   "source": [
    "# Number of orbits the object takes to grind down for pi/3\n",
    "dVb = (V_r1*const*T_Orb)\n",
    "n_act = (v_crit - Vx)/dVb\n",
    "print n_act"
   ]
  },
  {
   "cell_type": "code",
   "execution_count": null,
   "metadata": {
    "collapsed": false
   },
   "outputs": [],
   "source": [
    "# Number of orbits the object takes to grind down for pi/6\n",
    "dVc = (V_r2*const*T_Orb)\n",
    "n_act2 = (v_crit - Vx2)/dVc\n",
    "print n_act2"
   ]
  },
  {
   "cell_type": "markdown",
   "metadata": {},
   "source": [
    "# T grind with constant i"
   ]
  },
  {
   "cell_type": "code",
   "execution_count": 21,
   "metadata": {
    "collapsed": false
   },
   "outputs": [],
   "source": [
    "# Let's try to see how it changes with radius\n",
    "text_file1 = np.loadtxt('hoverrNoCommas.txt', dtype = 'float')\n",
    "a = text_file1[:,0]\n",
    "a1 = 10**a\n",
    "c = 6.67e-11*2*1.99e30*10**8\n",
    "distance_in_meters = a1*(2*c)\n",
    "speed_of_light_squared=(3e8)**2\n",
    "distance = (distance_in_meters/speed_of_light_squared)\n",
    "distance_in_rg = distance/(1.5*10**11)\n",
    "velocity = (c/distance)**(1/2.0)*10**(-3)"
   ]
  },
  {
   "cell_type": "markdown",
   "metadata": {},
   "source": [
    "# T grind with constant a "
   ]
  },
  {
   "cell_type": "code",
   "execution_count": 22,
   "metadata": {
    "collapsed": false
   },
   "outputs": [
    {
     "name": "stdout",
     "output_type": "stream",
     "text": [
      "[ 3.13792985  2.6927937   2.61799388  2.35619449  2.0943951   1.57079633\n",
      "  1.04719755  0.78539816  0.52359878]\n"
     ]
    }
   ],
   "source": [
    "np.arange(8)\n",
    "i = array([np.pi/6,np.pi/4,np.pi/3,np.pi/2,2*np.pi/3,3*np.pi/4,5*np.pi/6])\n",
    "i_d = array([np.pi-i_crit, 6*np.pi/7,5*np.pi/6,3*np.pi/4,2*np.pi/3,np.pi/2,np.pi/3,np.pi/4,np.pi/6])\n",
    "print i_d"
   ]
  },
  {
   "cell_type": "code",
   "execution_count": 23,
   "metadata": {
    "collapsed": false
   },
   "outputs": [
    {
     "name": "stdout",
     "output_type": "stream",
     "text": [
      "[  3.31197280e+12   2.24342630e+08   1.65829223e+08   7.58532268e+07\n",
      "   4.44337674e+07   2.22168340e+07   1.48111233e+07   1.30141093e+07\n",
      "   1.19054492e+07]\n",
      "[  2.54143165e+15   1.72148594e+11   1.27248520e+11   5.82057292e+10\n",
      "   3.40961082e+10   1.70480160e+10   1.13652678e+10   9.98633483e+09\n",
      "   9.13560809e+09]\n",
      "[  1.23965009e+16   8.39700018e+11   6.20688103e+11   2.83913743e+11\n",
      "   1.66312730e+11   8.31561790e+10   5.54370808e+10   4.87109730e+10\n",
      "   4.45613297e+10]\n"
     ]
    }
   ],
   "source": [
    "Speed1 = 3.68894264e+03 \n",
    "Rg1 = 1.30051044e+04\n",
    "Speed2 = 4.28961737e+02\n",
    "Rg2 =  9.61790620e+05\n",
    "Speed3 =  7.35217265e+01\n",
    "Rg3 =  3.27405712e+07\n",
    "\n",
    "mass = 1.99e+30\n",
    "Vxi = Speed1*cos(i_d)\n",
    "t_in_orbit_i = (2*np.pi*Rg1*(1.5*10**11))/Speed1\n",
    "V_ri = (Speed1*sin(i_d))**2\n",
    "Force1 = 0.5*2.52906361193e-10*6.088e+18/mass\n",
    "dvi = Force1*V_ri*t_in_orbit_i\n",
    "v_crit_i = Speed1*cos(i_crit)\n",
    "n_grindi = (v_crit_i - Vxi)/(dvi*10**3)\n",
    "t_grindi = n_grindi*t_in_orbit_i/3.154e+7\n",
    "\n",
    "Vxi2 = Speed2*cos(i_d)\n",
    "t_in_orbit_i2 = (2*np.pi*Rg1*(1.5*10**11))/Speed2\n",
    "V_ri2 = (Speed2*sin(i_d))**2\n",
    "Force2 = 0.5*2.83433661044e-12*6.088e+18/mass\n",
    "dvi2 = Force2*V_ri2*t_in_orbit_i2\n",
    "v_crit_i2 = Speed2*cos(i_crit)\n",
    "n_grindi2 = (v_crit_i2 - Vxi2)/(dvi2*10**3)\n",
    "t_grindi2 = n_grindi2*t_in_orbit_i2/3.154e+7\n",
    "\n",
    "Vxi3 = Speed3*cos(i_d)\n",
    "t_in_orbit_i3 = (2*np.pi*Rg1*(1.5*10**11))/Speed3\n",
    "V_ri3 = (Speed3*sin(i_d))**2\n",
    "Force3 = 0.5*3.39026466666e-12*6.088e+18/mass\n",
    "dvi3 = Force3*V_ri3*t_in_orbit_i3\n",
    "v_crit_i3 = Speed3*cos(i_crit)\n",
    "n_grindi3 = (v_crit_i3 - Vxi3)/(dvi3*10**3)\n",
    "t_grindi3 = n_grindi3*t_in_orbit_i3/3.154e+7\n",
    "\n",
    "\n",
    "print t_grindi\n",
    "print t_grindi2\n",
    "print t_grindi3"
   ]
  },
  {
   "cell_type": "code",
   "execution_count": 24,
   "metadata": {
    "collapsed": false
   },
   "outputs": [
    {
     "data": {
      "image/png": "[encoded data removed]",
      "text/plain": [
       "<matplotlib.figure.Figure at 0x115334790>"
      ]
     },
     "metadata": {},
     "output_type": "display_data"
    }
   ],
   "source": [
    "logPlot = plt.gca()\n",
    "plt.semilogy(i_d,t_grindi, color='green', label = '10^4 Rg')\n",
    "plt.semilogy(i_d,t_grindi2, color='red', label = '10^5 Rg')\n",
    "plt.semilogy(i_d,t_grindi3, color='blue', label = '10^7 Rg')\n",
    "plt.legend()\n",
    "plt.xlabel('Inclination Angle',fontsize=20)\n",
    "plt.ylabel('T Grind[years]',fontsize=20)\n",
    "plt.savefig('tg.png', dpi=300, bbox_inches='tight')"
   ]
  },
  {
   "cell_type": "code",
   "execution_count": 25,
   "metadata": {
    "collapsed": false
   },
   "outputs": [],
   "source": [
    "text_file1 = np.loadtxt('hoverrNoCommas.txt', dtype = 'float')\n",
    "a = text_file1[:,0]\n",
    "a1 = 10**a\n",
    "c = 6.67e-11*2*1.99e30*10**8\n",
    "distance_in_meters = a1*(2*c)\n",
    "speed_of_light_squared=(3e8)**2\n",
    "distance = (distance_in_meters/speed_of_light_squared)\n",
    "distance_in_rg = distance/(1.5*10**11)\n",
    "velocity = (c/distance)**(1/2.0)*10**(-3)"
   ]
  },
  {
   "cell_type": "code",
   "execution_count": 26,
   "metadata": {
    "collapsed": true
   },
   "outputs": [],
   "source": [
    "Speed = [ 1.32666709e+05,3.84630328e+04,1.21081721e+04,3.68894264e+03,1.12264205e+03, 1.97458305e+02,1.06147726e+02]\n",
    "D_Rg = [1.00552700e+01,1.19627381e+02,1.20714788e+03,1.30051044e+04,1.40421962e+05, 4.53906956e+06,1.57071089e+07]\n",
    "Density = [1.06372258101e-09, 7.01503495128e-10, 1.02150507278e-10, 2.52906361193e-12, 2.16069454761e-13, 3.20833694402e-15, 3.39026466666e-14]\n",
    "D_Rg1 = [1.19627381e+02,1.20714788e+03,1.30051044e+04,1.40421962e+05, 4.53906956e+06,1.57071089e+07]"
   ]
  },
  {
   "cell_type": "code",
   "execution_count": 27,
   "metadata": {
    "collapsed": false
   },
   "outputs": [],
   "source": [
    "i_crit = np.arcsin(9.52700825e+01/(2*1.30051044e+04))\n",
    "mass = 1.99e+30\n",
    "Force = 0.5*6.088e+18/mass\n",
    "\n"
   ]
  },
  {
   "cell_type": "markdown",
   "metadata": {},
   "source": [
    "# Second method to calculate T Grind"
   ]
  },
  {
   "cell_type": "code",
   "execution_count": 45,
   "metadata": {
    "collapsed": true
   },
   "outputs": [],
   "source": [
    "i_crit = np.arcsin(9.52700825e+01/(2*1.30051044e+04))\n",
    "mass = 1.99e+30\n",
    "Force = 0.5*6.088e+18/mass"
   ]
  },
  {
   "cell_type": "code",
   "execution_count": 57,
   "metadata": {
    "collapsed": false
   },
   "outputs": [],
   "source": [
    "i_crit = np.arcsin(9.52700825e+01/(2*1.30051044e+04))\n",
    "mass = 1.99e+30\n",
    "Force = 0.5*6.088e+18/mass\n",
    "\n",
    "#V_rpi3 = (132666.709*sin(5*np.pi/6))**2\n",
    "#dvpi3 = V_rpi3*Force*1.06372258101e-07*t_in_orbit1\n",
    "\n",
    "V_rpi3a = (38463.0328*sin(5*np.pi/6))**2\n",
    "dvpi3a = V_rpi3a*Force*7.01503495128e-10*t_in_orbit2\n",
    "V_ria = (38463.0328*sin(i_d))**2\n",
    "dvia = V_ria*Force*7.01503495128e-10*t_in_orbit2\n",
    "\n",
    "V_rpi3b = (12108.1721*sin(5*np.pi/6))**2\n",
    "dvpi3b = V_rpi3b*Force*1.02150507278e-10*t_in_orbit3\n",
    "V_rib = (12108.1721*sin(i_d))**2\n",
    "dvib = V_rpi3b*Force*1.02150507278e-10*t_in_orbit3\n",
    "\n",
    "\n",
    "V_rpi3c = (3688.94264*sin(5*np.pi/6))**2\n",
    "dvpi3c = V_rpi3c*Force*2.52906361193e-12*t_in_orbit4\n",
    "V_ric = (3688.94264*sin(i_d))**2\n",
    "dvic = V_rpi3c*Force*2.52906361193e-12*t_in_orbit4\n",
    "\n",
    "V_rpi3d = (1122.64205*sin(5*np.pi/6))**2\n",
    "dvpi3d = V_rpi3d*Force*2.16069454761e-13*t_in_orbit5\n",
    "V_rid = (1122.64205*sin(i_d))**2\n",
    "dvid = V_rid*Force*2.16069454761e-13*t_in_orbit5\n",
    "\n",
    "V_rpi3e = (197.458305*sin(5*np.pi/6))**2\n",
    "dvpi3e = V_rpi3e*Force*3.20833694402e-14*t_in_orbit6\n",
    "V_rie = (197.458305*sin(i_d))**2\n",
    "dvie = V_rie*Force*3.20833694402e-14*t_in_orbit6\n",
    "\n",
    "V_rpi3f = (106.147726*sin(5*np.pi/6))**2\n",
    "dvpi3f = V_rpi3f*Force*3.39026466666e-15*t_in_orbit7\n",
    "V_rif = (106.147726*sin(i_d))**2\n",
    "dvif = V_rif*Force*3.39026466666e-15*t_in_orbit7"
   ]
  },
  {
   "cell_type": "code",
   "execution_count": 50,
   "metadata": {
    "collapsed": false
   },
   "outputs": [],
   "source": [
    "#t_in_orbit = (2*np.pi*1.00552700e+01*1.5e+11)/132666.709\n",
    "#Vxpi3 = 132666.709*(1-cos(5*np.pi/6))\n",
    "#grindPi3 = (Vxpi3/(dvpi3*1000))*t_in_orbit/3.154e+7\n",
    "\n",
    "t_in_orbita = (2*np.pi*119.627381*1.5e+11)/38463.0328\n",
    "Vxpi3a = 38463.0328*(1-cos(5*np.pi/6))\n",
    "grindPi3a = (Vxpi3a/(dvpi3a*1000))*t_in_orbita/3.154e+7\n",
    "\n",
    "t_in_orbitb = (2*np.pi*1207.14788*1.5e+11)/12108.1721\n",
    "Vxpi3b = 12108.1721*(1-cos(5*np.pi/6))\n",
    "grindPi3b = (Vxpi3b/(dvpi3b*1000))*t_in_orbitb/3.154e+7\n",
    "\n",
    "t_in_orbitc = (2*np.pi*13005.1044*1.5e+11)/3688.94264\n",
    "Vxpi3c = 3688.94264*(1-cos(5*np.pi/6))\n",
    "grindPi3c = (Vxpi3c/(dvpi3c*1000))*t_in_orbitc/3.154e+7\n",
    "\n",
    "t_in_orbitd = (2*np.pi*140421.962*1.5e+11)/1122.64205\n",
    "Vxpi3d = 3688.94264*(1-cos(5*np.pi/6))\n",
    "grindPi3d = (Vxpi3d/(dvpi3d*1000))*t_in_orbitd/3.154e+7\n",
    "\n",
    "t_in_orbite = (2*np.pi*4539069.56*1.5e+11)/197.458305\n",
    "Vxpi3e = 1122.64205*(1-cos(5*np.pi/6))\n",
    "grindPi3e = (Vxpi3e/(dvpi3e*1000))*t_in_orbite/3.154e+7\n",
    "\n",
    "t_in_orbitf = (2*np.pi*15707108.9*1.5e+11)/106.147726\n",
    "Vxpi3f = 106.147726*(1-cos(5*np.pi/6))\n",
    "grindPi3f = (Vxpi3f/(dvpi3f*1000))*t_in_orbitf/3.154e+7\n",
    "\n",
    "T_grindPi3 = [grindPi3a, grindPi3b, grindPi3c, grindPi3d, grindPi3e, grindPi3f]"
   ]
  },
  {
   "cell_type": "code",
   "execution_count": 68,
   "metadata": {
    "collapsed": false
   },
   "outputs": [
    {
     "name": "stdout",
     "output_type": "stream",
     "text": [
      "13014407.3632\n"
     ]
    }
   ],
   "source": [
    "#t_in_orbit = (2*np.pi*1.00552700e+01*1.5e+11)/132666.709\n",
    "#Vxpi4 = 132666.709*(1-cos(np.pi/4))\n",
    "#grindPi4 = (Vxpi4/(dvpi4*1000))*t_in_orbit/3.154e+7\n",
    "\n",
    "t_in_orbita = (2*np.pi*119.627381*1.5e+11)/38463.0328\n",
    "Vxpi4a = 38463.0328*(1-cos(np.pi/4))\n",
    "grindPi4a = (Vxpi4a/(dvpi4a*1000))*t_in_orbita/3.154e+7\n",
    "\n",
    "t_in_orbitb = (2*np.pi*1207.14788*1.5e+11)/12108.1721\n",
    "Vxpi4b = 12108.1721*(1-cos(np.pi/4))\n",
    "grindPi4b = (Vxpi4b/(dvpi4b*1000))*t_in_orbitb/3.154e+7\n",
    "\n",
    "t_in_orbitc = (2*np.pi*13005.1044*1.5e+11)/3688.94264\n",
    "Vxpi4c = 3688.94264*(1-cos(np.pi/4))\n",
    "grindPi4c = (Vxpi4c/(dvpi4c*1000))*t_in_orbitc/3.154e+7\n",
    "\n",
    "t_in_orbitd = (2*np.pi*140421.962*1.5e+11)/1122.64205\n",
    "Vxpi4d = 1122.64205*(1-cos(np.pi/4))\n",
    "grindPi4d = (Vxpi4d/(dvpi4d*1000))*t_in_orbitd/3.154e+7\n",
    "\n",
    "t_in_orbite = (2*np.pi*4539069.56*1.5e+11)/197.458305\n",
    "Vxpi6e = 197.458305*(1-cos(np.pi/4))\n",
    "grindPi4e = (Vxpi4e/(dvpi4e*1000))*t_in_orbite/3.154e+7\n",
    "\n",
    "t_in_orbitf = (2*np.pi*15707108.9*1.5e+11)/106.147726\n",
    "Vxpi4f = 106.147726*(1-cos(np.pi/4))\n",
    "grindPi4f = (Vxpi4f/(dvpi4f*1000))*t_in_orbitf/3.154e+7\n",
    "\n",
    "T_grindPi4 = [grindPi4a, grindPi4b, grindPi4c, grindPi4d, grindPi4e, grindPi4f]\n",
    "print grindPi4c"
   ]
  },
  {
   "cell_type": "code",
   "execution_count": 67,
   "metadata": {
    "collapsed": false
   },
   "outputs": [
    {
     "name": "stdout",
     "output_type": "stream",
     "text": [
      "1481132204.19\n"
     ]
    }
   ],
   "source": [
    "#t_in_orbit1 = (2*np.pi*1.00552700e+01*1.5e+11)/132666.709\n",
    "#Vxpi6 = 132666.709*(1-cos(np.pi/3))\n",
    "#grindPi6 = (Vxpi6/(dvpi6*1000))*t_in_orbit1/3.154e+7\n",
    "\n",
    "t_in_orbit2 = (2*np.pi*119.627381*1.5e+11)/38463.0328\n",
    "Vxpi6a = 38463.0328*(1-cos(np.pi/3))\n",
    "grindPi6a = (Vxpi6a/(dvpi6a*1000))*t_in_orbit2/3.154e+7\n",
    "\n",
    "t_in_orbit3 = (2*np.pi*1207.14788*1.5e+11)/12108.1721\n",
    "Vxpi6b = 12108.1721*(1-cos(np.pi/3))\n",
    "grindPi6b = (Vxpi6b/(dvpi6b*1000))*t_in_orbit3/3.154e+7\n",
    "\n",
    "t_in_orbit4 = (2*np.pi*13005.1044*1.5e+11)/3688.94264\n",
    "Vxpi6c = 3688.94264*(1-cos(np.pi/3))\n",
    "grindPi6c = (Vxpi6c/(dvpi6c*1000))*t_in_orbit4/3.154e+7\n",
    "\n",
    "t_in_orbit5 = (2*np.pi*140421.962*1.5e+11)/1122.64205\n",
    "Vxpi6d = 3688.94264*(1-cos(np.pi/3))\n",
    "grindPi6d = (Vxpi6d/(dvpi6d*1000))*t_in_orbit5/3.154e+7\n",
    "\n",
    "t_in_orbit6 = (2*np.pi*4539069.56*1.5e+11)/197.458305\n",
    "Vxpi6e = 1122.64205*(1-cos(np.pi/3))\n",
    "grindPi6e = (Vxpi6e/(dvpi6e*1000))*t_in_orbit6/3.154e+7\n",
    "\n",
    "t_in_orbit7 = (2*np.pi*15707108.9*1.5e+11)/106.147726\n",
    "Vxpi6f = 106.147726*(1-cos(np.pi/3))\n",
    "grindPi6f = (Vxpi6f/(dvpi6f*1000))*t_in_orbit7/3.154e+7\n",
    "\n",
    "T_grindPi6 = [grindPi6a, grindPi6b, grindPi6c, grindPi6d, grindPi6e, grindPi6f]\n",
    "print  grindPi6c"
   ]
  },
  {
   "cell_type": "code",
   "execution_count": 53,
   "metadata": {
    "collapsed": false
   },
   "outputs": [
    {
     "data": {
      "text/plain": [
       "<matplotlib.legend.Legend at 0x11517b190>"
      ]
     },
     "execution_count": 53,
     "metadata": {},
     "output_type": "execute_result"
    },
    {
     "data": {
      "image/png": "[encoded data removed]",
      "text/plain": [
       "<matplotlib.figure.Figure at 0x115ccd410>"
      ]
     },
     "metadata": {},
     "output_type": "display_data"
    }
   ],
   "source": [
    "logPlot = plt.gca()\n",
    "logPlot.loglog(D_Rg1,T_grindPi6, c='purple', label='pi/3')\n",
    "logPlot.loglog(D_Rg1,T_grindPi4, c='green', label='pi/4')\n",
    "logPlot.loglog(D_Rg1,T_grindPi3, c='b', label='5pi/6')\n",
    "plt.xlabel('Distance[Rg]', size = 20)\n",
    "plt.ylabel('Grind Time[years]', size = 20)\n",
    "plt.legend()\n",
    "ax = plt.subplot(111)\n",
    "plt.savefig('second method.png', dpi=300, bbox_inches='tight')\n",
    "ax.legend(loc='center left', bbox_to_anchor=(1, 0.5))"
   ]
  },
  {
   "cell_type": "code",
   "execution_count": 54,
   "metadata": {
    "collapsed": true
   },
   "outputs": [],
   "source": [
    "i_d = array([np.pi-i_crit,5*np.pi/6,3*np.pi/4,2*np.pi/3,np.pi/2,np.pi/3,np.pi/4,np.pi/6])"
   ]
  },
  {
   "cell_type": "code",
   "execution_count": 66,
   "metadata": {
    "collapsed": false
   },
   "outputs": [
    {
     "name": "stdout",
     "output_type": "stream",
     "text": [
      "[  1.77735268e+10   1.65829819e+10   1.51707050e+10   1.33301898e+10\n",
      "   8.88679323e+09   4.44339661e+09   2.60288147e+09   1.19060453e+09]\n"
     ]
    }
   ],
   "source": [
    "t_in_orbit2 = (2*np.pi*119.627381*1.5e+11)/38463.0328\n",
    "Vxia = 38463.0328*(1-cos(i_d))\n",
    "grindIa = (Vxia/(dvia*1000))*t_in_orbit2/3.154e+7\n",
    "\n",
    "t_in_orbit3 = (2*np.pi*1207.14788*1.5e+11)/12108.1721\n",
    "Vxib = 12108.1721*(1-cos(i_d))\n",
    "grindIb = (Vxib/(dvib*1000))*t_in_orbit3/3.154e+7\n",
    "\n",
    "t_in_orbit4 = (2*np.pi*13005.1044*1.5e+11)/3688.94264\n",
    "Vxic = 3688.94264*(1-cos(i_d))\n",
    "grindIc = (Vxic/(dvic*1000))*t_in_orbit4/3.154e+7\n",
    "\n",
    "t_in_orbit5 = (2*np.pi*140421.962*1.5e+11)/1122.64205\n",
    "Vxid = 3688.94264*(1-cos(i_d))\n",
    "grindId = (Vxid/(dvid*1000))*t_in_orbit5/3.154e+7\n",
    "\n",
    "t_in_orbit6 = (2*np.pi*4539069.56*1.5e+11)/197.458305\n",
    "Vxie = 1122.64205*(1-cos(i_d))\n",
    "grindIe = (Vxie/(dvie*1000))*t_in_orbit6/3.154e+7\n",
    "\n",
    "t_in_orbit7 = (2*np.pi*15707108.9*1.5e+11)/106.147726\n",
    "Vxif = 106.147726*(1-cos(i_d))\n",
    "grindIf = (Vxif/(dvif*1000))*t_in_orbit7/3.154e+7\n",
    "\n",
    "print grindIc"
   ]
  },
  {
   "cell_type": "code",
   "execution_count": 63,
   "metadata": {
    "collapsed": false
   },
   "outputs": [
    {
     "data": {
      "text/plain": [
       "<matplotlib.legend.Legend at 0x117032650>"
      ]
     },
     "execution_count": 63,
     "metadata": {},
     "output_type": "execute_result"
    },
    {
     "data": {
      "image/png": "[encoded data removed]",
      "text/plain": [
       "<matplotlib.figure.Figure at 0x116d4b4d0>"
      ]
     },
     "metadata": {},
     "output_type": "display_data"
    }
   ],
   "source": [
    "logPlot = plt.gca()\n",
    "\n",
    "plt.semilogy(i_d,grindIb, c='b', label = '10^3 Rg')\n",
    "plt.semilogy(i_d,grindIc, color='orange', label = '10^4 Rg')\n",
    "plt.semilogy(i_d,grindId, c='g', label = '10^5 Rg')\n",
    "plt.semilogy(i_d,grindIe, c='y', label = '10^6 Rg')\n",
    "plt.semilogy(i_d,grindIf, c='purple', label = '10^7 Rg')\n",
    "plt.xlabel('1/Orbit',fontsize=20)\n",
    "plt.ylabel('Vy/dvy',fontsize=20)\n",
    "plt.legend()\n"
   ]
  },
  {
   "cell_type": "code",
   "execution_count": 65,
   "metadata": {
    "collapsed": false
   },
   "outputs": [
    {
     "data": {
      "text/plain": [
       "<matplotlib.legend.Legend at 0x116cd0f10>"
      ]
     },
     "execution_count": 65,
     "metadata": {},
     "output_type": "execute_result"
    },
    {
     "data": {
      "image/png": "[encoded data removed]",
      "text/plain": [
       "<matplotlib.figure.Figure at 0x1171b7510>"
      ]
     },
     "metadata": {},
     "output_type": "display_data"
    }
   ],
   "source": [
    "plt.semilogy(i_d,grindId, c='g', label = '10^5 Rg')\n",
    "plt.semilogy(i_d,grindIe, c='y', label = '10^6 Rg')\n",
    "plt.semilogy(i_d,grindIf, c='purple', label = '10^7 Rg')\n",
    "plt.xlabel('1/Orbit',fontsize=20)\n",
    "plt.ylabel('Vy/dvy',fontsize=20)\n",
    "plt.legend()"
   ]
  },
  {
   "cell_type": "code",
   "execution_count": null,
   "metadata": {
    "collapsed": true
   },
   "outputs": [],
   "source": []
  }
 ],
 "metadata": {
  "kernelspec": {
   "display_name": "Python 2",
   "language": "python",
   "name": "python2"
  },
  "language_info": {
   "codemirror_mode": {
    "name": "ipython",
    "version": 2
   },
   "file_extension": ".py",
   "mimetype": "text/x-python",
   "name": "python",
   "nbconvert_exporter": "python",
   "pygments_lexer": "ipython2",
   "version": "2.7.13"
  }
 },
 "nbformat": 4,
 "nbformat_minor": 2
}
